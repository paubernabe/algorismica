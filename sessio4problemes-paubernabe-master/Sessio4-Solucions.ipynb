{
 "cells": [
  {
   "cell_type": "markdown",
   "metadata": {},
   "source": [
    "# Sessió 4"
   ]
  },
  {
   "cell_type": "markdown",
   "metadata": {},
   "source": [
    "### Exercici 1: Expressions regulars"
   ]
  },
  {
   "cell_type": "markdown",
   "metadata": {},
   "source": [
    "Exemples resolts:"
   ]
  },
  {
   "cell_type": "code",
   "execution_count": 1,
   "metadata": {},
   "outputs": [
    {
     "name": "stdout",
     "output_type": "stream",
     "text": [
      "Match at index 0, 7\n",
      "Full match: June 24\n"
     ]
    }
   ],
   "source": [
    "import re\n",
    "regex = r\"([a-zA-Z]+) (\\d+)\"\n",
    "if re.search(regex, \"June 24\"):\n",
    "    match = re.search(regex, \"June 24\")\n",
    "    print(\"Match at index %s, %s\" % (match.start(), match.end()))\n",
    "    print(\"Full match: %s\" % (match.group()))\n",
    "else:\n",
    "    print(\"The regex pattern does not match. :(\")"
   ]
  },
  {
   "cell_type": "code",
   "execution_count": 2,
   "metadata": {},
   "outputs": [
    {
     "name": "stdout",
     "output_type": "stream",
     "text": [
      "I found one!\n"
     ]
    }
   ],
   "source": [
    "import re\n",
    "line = \"He is a German called Mayer.\"\n",
    "if re.search(r\"M[ae][iy]er\",line): print(\"I found one!\")"
   ]
  },
  {
   "cell_type": "code",
   "execution_count": 3,
   "metadata": {},
   "outputs": [
    {
     "name": "stdout",
     "output_type": "stream",
     "text": [
      "I found one!\n"
     ]
    }
   ],
   "source": [
    "line = \"He is a German called Meier.\"\n",
    "if re.search(r\"M[ae][iy]er\",line): print(\"I found one!\")"
   ]
  },
  {
   "cell_type": "code",
   "execution_count": 4,
   "metadata": {},
   "outputs": [
    {
     "name": "stdout",
     "output_type": "stream",
     "text": [
      "232454\n",
      "(17, 23)\n",
      "17\n",
      "23\n",
      "17\n",
      "23\n"
     ]
    }
   ],
   "source": [
    "import re\n",
    "mo = re.search(\"[0-9]+\", \"Customer number: 232454, Date: February 12, 2011\")\n",
    "print(mo.group())\n",
    "print(mo.span())\n",
    "print(mo.start())\n",
    "print(mo.end())\n",
    "print(mo.span()[0])\n",
    "print(mo.span()[1])"
   ]
  },
  {
   "cell_type": "markdown",
   "metadata": {},
   "source": [
    "### Exercici 1.1: Una expressió regular pels codis postal al Regne Unit. \n",
    "\n",
    "Els codis postal al Regne Unit tenen entre 5 i 7 caràcters, separats en dues parts per un espai en blanc. \n",
    "\n",
    "+ Els 2-4 caràcters abans de l'espai representen un codi que indica l'oficina on ha d'arribar.\n",
    "+ Aquest codi té aquesta forma: Un o dos caràcters en majúscula, seguits per un dígit o la lletra ``R``, opcionalment seguit d'un caràcter en majúscula o un dígit. \n",
    "+ La part que segueix l'espai, que és un dígit més dues lletres en majúscula, es necessària per ordenar les cartes a l'oficina. \n",
    "+ Aquests dos darrers caràcters no poden ser cap d'aquestes lletres: ``CIKMOV``\n",
    "\n",
    "Escriu un programa fent servir expressions regulars que comprovi si un seguit d'adresses són correctes."
   ]
  },
  {
   "cell_type": "code",
   "execution_count": null,
   "metadata": {
    "collapsed": true
   },
   "outputs": [],
   "source": [
    "import re\n",
    "\n",
    "codis          = [\"SW1A 0AA\", # House of Commons\n",
    "                 \"SW1A 1AA\", # Buckingham Palace\n",
    "                 \"SW1A 2AA\", # Downing Street\n",
    "                 \"BX3 2BB\", # Barclays Bank\n",
    "                 \"DH98 1BT\", # British Telecom\n",
    "                 \"N1 9GU\", # Guardian Newspaper\n",
    "                 \"E98 1TT\", # The Times\n",
    "                 \"TIM E22\", # a fake postcode\n",
    "                 \"A B1 A22\", # not a valid postcode\n",
    "                 \"EC2N 2DB\", # Deutsche Bank\n",
    "                 \"SE9 2UG\", # University of Greenwhich\n",
    "                 \"N1 0UY\", # Islington, London\n",
    "                 \"EC1V 8DS\", # Clerkenwell, London\n",
    "                 \"WC1X 9DT\", # WC1X 9DT\n",
    "                 \"B42 1LG\", # Birmingham\n",
    "                 \"B28 9AD\", # Birmingham\n",
    "                 \"W12 7RJ\", # London, BBC News Centre\n",
    "                 \"BBC 007\" # a fake postcode\n",
    "                ]\n",
    "\n",
    "pc_re = # escriu aquí la teva expressió regular\n",
    "\n",
    "for postcode in codis:\n",
    "    r = re.search(pc_re, postcode)\n",
    "    if r:\n",
    "        print(postcode + \" matched!\")\n",
    "    else:\n",
    "        print(postcode + \" is not a valid postcode!\")"
   ]
  },
  {
   "cell_type": "code",
   "execution_count": 1,
   "metadata": {},
   "outputs": [
    {
     "name": "stdout",
     "output_type": "stream",
     "text": [
      "SW1A 0AA matched!\n",
      "SW1A 1AA matched!\n",
      "SW1A 2AA matched!\n",
      "BX3 2BB matched!\n",
      "DH98 1BT matched!\n",
      "N1 9GU matched!\n",
      "E98 1TT matched!\n",
      "TIM E22 is not a valid postcode!\n",
      "TIR3 3MM is not a valid postcode!\n",
      "TIR3 3LL matched!\n",
      "A B1 A22 is not a valid postcode!\n",
      "EC2N 2DB matched!\n",
      "SE9 2UG matched!\n",
      "N1 0UY matched!\n",
      "EC1V 8DS matched!\n",
      "WC1X 9DT matched!\n",
      "B42 1LG matched!\n",
      "B28 9AD matched!\n",
      "W12 7RJ matched!\n",
      "BBC 007 is not a valid postcode!\n"
     ]
    }
   ],
   "source": [
    "#solucio\n",
    "\n",
    "import re\n",
    "\n",
    "example_codes = [\"SW1A 0AA\", # House of Commons\n",
    "                 \"SW1A 1AA\", # Buckingham Palace\n",
    "                 \"SW1A 2AA\", # Downing Street\n",
    "                 \"BX3 2BB\", # Barclays Bank\n",
    "                 \"DH98 1BT\", # British Telecom\n",
    "                 \"N1 9GU\", # Guardian Newspaper\n",
    "                 \"E98 1TT\", # The Times\n",
    "                 \"TIM E22\", # a fake postcode\n",
    "                 \"TIR3 3MM\", # a fake postcode\n",
    "                 \"TIR3 3LL\", # a fake postcode\n",
    "                 \"A B1 A22\", # not a valid postcode\n",
    "                 \"EC2N 2DB\", # Deutsche Bank\n",
    "                 \"SE9 2UG\", # University of Greenwhich\n",
    "                 \"N1 0UY\", # Islington, London\n",
    "                 \"EC1V 8DS\", # Clerkenwell, London\n",
    "                 \"WC1X 9DT\", # WC1X 9DT\n",
    "                 \"B42 1LG\", # Birmingham\n",
    "                 \"B28 9AD\", # Birmingham\n",
    "                 \"W12 7RJ\", # London, BBC News Centre\n",
    "                 \"BBC 007\" # a fake postcode\n",
    "                ]\n",
    "\n",
    "pc_re = r\"[A-z]{1,2}[0-9R][0-9A-Z]? [0-9][ABD-HJLNP-UW-Z]{2}\"\n",
    "\n",
    "for postcode in example_codes:\n",
    "    r = re.search(pc_re, postcode)\n",
    "    if r:\n",
    "        print(postcode + \" matched!\")\n",
    "    else:\n",
    "        print(postcode + \" is not a valid postcode!\")"
   ]
  },
  {
   "cell_type": "markdown",
   "metadata": {},
   "source": [
    "### Exercici 1.2: Escriu el codi per validar una adreça IP.\n",
    "\n",
    ">  Una adreça IP vàlida ha de tenir la forma xxx.xxx.xxx.xxx, on xxx és un nombre entre 0 i 255. "
   ]
  },
  {
   "cell_type": "code",
   "execution_count": null,
   "metadata": {
    "collapsed": true
   },
   "outputs": [],
   "source": [
    "patro = # escriu el teu patró aquí\n",
    "\n",
    "ip = re.compile(patro)\n",
    "\n",
    "if ip.search(\"73.60.124.136\"):\n",
    "    print(\"Vàlida\")\n",
    "else:\n",
    "    print(\"No vàlida\")\n",
    "\n",
    "if ip.search(\"256.60.124.136\"):\n",
    "    print(\"Vàlida\")\n",
    "else:\n",
    "    print(\"No vàlida\")\n",
    "    \n",
    "if ip.search(\"30.168.1.255.1\"):\n",
    "    print(\"Vàlida\")\n",
    "else:\n",
    "    print(\"No vàlida\")"
   ]
  },
  {
   "cell_type": "code",
   "execution_count": 16,
   "metadata": {},
   "outputs": [
    {
     "name": "stdout",
     "output_type": "stream",
     "text": [
      "Vàlida\n",
      "No vàlida\n",
      "No vàlida\n"
     ]
    }
   ],
   "source": [
    "# solució\n",
    "\n",
    "patro = ('^(?:(?:25[0-5]|2[0-4][0-9]|'\n",
    "          '[01]?[0-9][0-9]?)\\.){3}'\n",
    "          '(?:25[0-5]|2[0-4][0-9]|[01]?[0-9][0-9]?)$')\n",
    "\n",
    "ip = re.compile(patro)\n",
    "\n",
    "if ip.search(\"73.60.124.136\"):\n",
    "    print(\"Vàlida\")\n",
    "else:\n",
    "    print(\"No vàlida\")\n",
    "\n",
    "if ip.search(\"256.60.124.136\"):\n",
    "    print(\"Vàlida\")\n",
    "else:\n",
    "    print(\"No vàlida\")\n",
    "    \n",
    "if ip.search(\"30.168.1.255.1\"):\n",
    "    print(\"Vàlida\")\n",
    "else:\n",
    "    print(\"No vàlida\")"
   ]
  },
  {
   "cell_type": "markdown",
   "metadata": {},
   "source": [
    "### Exercici 3: All substrings\n",
    "\n",
    "Fes un programa que retorni una llista (calculada amb una *comprehension*) amb tots els substrings d'un string."
   ]
  },
  {
   "cell_type": "code",
   "execution_count": null,
   "metadata": {
    "collapsed": true
   },
   "outputs": [],
   "source": [
    "def get_all_substrings(input_string):\n",
    "    return pass\n",
    "\n",
    "assert len(get_all_substrings('abcde'))==int((len('abcdef')*(len('abcdef')-1)/2))\n",
    "\n",
    "print(get_all_substrings('abcde'))"
   ]
  },
  {
   "cell_type": "code",
   "execution_count": 18,
   "metadata": {},
   "outputs": [
    {
     "name": "stdout",
     "output_type": "stream",
     "text": [
      "['a', 'ab', 'abc', 'abcd', 'abcde', 'b', 'bc', 'bcd', 'bcde', 'c', 'cd', 'cde', 'd', 'de', 'e']\n"
     ]
    }
   ],
   "source": [
    "def get_all_substrings(input_string):\n",
    "    return [input_string[i:j+1] for i in range(len(input_string)) \n",
    "            for j in range(i,len(input_string))]\n",
    "\n",
    "assert len(get_all_substrings('abcde'))==int((len('abcdef')*(len('abcdef')-1)/2))\n",
    "\n",
    "print(get_all_substrings('abcde'))"
   ]
  },
  {
   "cell_type": "markdown",
   "metadata": {},
   "source": [
    "### Exercici 4: Generació de les edicions a distància 1 d'una paraula\n",
    "\n",
    "Escriure un programa que generi **el conjunt** de totes les variacions d'edició (distància 1) d'una paraula. \n",
    "\n",
    "Suposem que:\n",
    "+ Només usem les lletres ``abcdefghijklmnopqrstuvwxyz``\n",
    "+ Les operacions d'edició són: eliminar una lletra, transposar un parell de lletres, reemplaçar una lletra per una altra i insertar una lletra.\n",
    "\n",
    "Indicacions: \n",
    "+ Cada un dels tipus d'edició es pot escriure com una *comprehension*.\n",
    "+ Si la primera cosa que feu al principi és considerar totes les divisions possibles d'una paraula (per exemple, si per la paraula ```casa``` genereu ```('', 'casa'), ('c', 'asa'), ('ca', 'sa'), ('cas', 'a'), ('casa', '')```), es poden generar les edicions a partir d'aquesta llista."
   ]
  },
  {
   "cell_type": "code",
   "execution_count": null,
   "metadata": {
    "collapsed": true
   },
   "outputs": [],
   "source": [
    "def edit(word):\n",
    "    letters    = 'abcdefghijklmnopqrstuvwxyz'\n",
    "    splits     = # escriu una comprensio\n",
    "    deletes    = # escriu una comprensio\n",
    "    transposes = # escriu una comprensio\n",
    "    replaces   = # escriu una comprensio\n",
    "    inserts    = # escriu una comprensio\n",
    "    return set(deletes + transposes + replaces + inserts)\n",
    "\n",
    "assert edit('h') == {'','a','ah','b', 'bh', 'c', 'ch', 'd', 'dh', 'e', 'eh', 'f', 'fh', \n",
    "                     'g', 'gh', 'h', 'ha', 'hb', 'hc', 'hd', 'he', 'hf', 'hg', 'hh',\n",
    "                     'hi', 'hj', 'hk', 'hl', 'hm', 'hn', 'ho', 'hp', 'hq', 'hr', 'hs',\n",
    "                     'ht', 'hu', 'hv', 'hw', 'hx', 'hy', 'hz', 'i', 'ih', 'j', 'jh',\n",
    "                     'k', 'kh', 'l', 'lh', 'm', 'mh', 'n', 'nh', 'o', 'oh', 'p', 'ph',\n",
    "                     'q', 'qh', 'r', 'rh', 's', 'sh', 't',  'th', 'u', 'uh', 'v', 'vh',\n",
    "                     'w', 'wh', 'x', 'xh', 'y', 'yh', 'z', 'zh'}"
   ]
  },
  {
   "cell_type": "code",
   "execution_count": 4,
   "metadata": {},
   "outputs": [
    {
     "data": {
      "text/plain": [
       "{'aasa',\n",
       " 'acasa',\n",
       " 'acsa',\n",
       " 'asa',\n",
       " 'basa',\n",
       " 'bcasa',\n",
       " 'caa',\n",
       " 'caaa',\n",
       " 'caas',\n",
       " 'caasa',\n",
       " 'caba',\n",
       " 'cabsa',\n",
       " 'caca',\n",
       " 'cacsa',\n",
       " 'cada',\n",
       " 'cadsa',\n",
       " 'caea',\n",
       " 'caesa',\n",
       " 'cafa',\n",
       " 'cafsa',\n",
       " 'caga',\n",
       " 'cagsa',\n",
       " 'caha',\n",
       " 'cahsa',\n",
       " 'caia',\n",
       " 'caisa',\n",
       " 'caja',\n",
       " 'cajsa',\n",
       " 'caka',\n",
       " 'caksa',\n",
       " 'cala',\n",
       " 'calsa',\n",
       " 'cama',\n",
       " 'camsa',\n",
       " 'cana',\n",
       " 'cansa',\n",
       " 'caoa',\n",
       " 'caosa',\n",
       " 'capa',\n",
       " 'capsa',\n",
       " 'caqa',\n",
       " 'caqsa',\n",
       " 'cara',\n",
       " 'carsa',\n",
       " 'cas',\n",
       " 'casa',\n",
       " 'casaa',\n",
       " 'casab',\n",
       " 'casac',\n",
       " 'casad',\n",
       " 'casae',\n",
       " 'casaf',\n",
       " 'casag',\n",
       " 'casah',\n",
       " 'casai',\n",
       " 'casaj',\n",
       " 'casak',\n",
       " 'casal',\n",
       " 'casam',\n",
       " 'casan',\n",
       " 'casao',\n",
       " 'casap',\n",
       " 'casaq',\n",
       " 'casar',\n",
       " 'casas',\n",
       " 'casat',\n",
       " 'casau',\n",
       " 'casav',\n",
       " 'casaw',\n",
       " 'casax',\n",
       " 'casay',\n",
       " 'casaz',\n",
       " 'casb',\n",
       " 'casba',\n",
       " 'casc',\n",
       " 'casca',\n",
       " 'casd',\n",
       " 'casda',\n",
       " 'case',\n",
       " 'casea',\n",
       " 'casf',\n",
       " 'casfa',\n",
       " 'casg',\n",
       " 'casga',\n",
       " 'cash',\n",
       " 'casha',\n",
       " 'casi',\n",
       " 'casia',\n",
       " 'casj',\n",
       " 'casja',\n",
       " 'cask',\n",
       " 'caska',\n",
       " 'casl',\n",
       " 'casla',\n",
       " 'casm',\n",
       " 'casma',\n",
       " 'casn',\n",
       " 'casna',\n",
       " 'caso',\n",
       " 'casoa',\n",
       " 'casp',\n",
       " 'caspa',\n",
       " 'casq',\n",
       " 'casqa',\n",
       " 'casr',\n",
       " 'casra',\n",
       " 'cass',\n",
       " 'cassa',\n",
       " 'cast',\n",
       " 'casta',\n",
       " 'casu',\n",
       " 'casua',\n",
       " 'casv',\n",
       " 'casva',\n",
       " 'casw',\n",
       " 'caswa',\n",
       " 'casx',\n",
       " 'casxa',\n",
       " 'casy',\n",
       " 'casya',\n",
       " 'casz',\n",
       " 'casza',\n",
       " 'cata',\n",
       " 'catsa',\n",
       " 'caua',\n",
       " 'causa',\n",
       " 'cava',\n",
       " 'cavsa',\n",
       " 'cawa',\n",
       " 'cawsa',\n",
       " 'caxa',\n",
       " 'caxsa',\n",
       " 'caya',\n",
       " 'caysa',\n",
       " 'caza',\n",
       " 'cazsa',\n",
       " 'cbasa',\n",
       " 'cbsa',\n",
       " 'ccasa',\n",
       " 'ccsa',\n",
       " 'cdasa',\n",
       " 'cdsa',\n",
       " 'ceasa',\n",
       " 'cesa',\n",
       " 'cfasa',\n",
       " 'cfsa',\n",
       " 'cgasa',\n",
       " 'cgsa',\n",
       " 'chasa',\n",
       " 'chsa',\n",
       " 'ciasa',\n",
       " 'cisa',\n",
       " 'cjasa',\n",
       " 'cjsa',\n",
       " 'ckasa',\n",
       " 'cksa',\n",
       " 'clasa',\n",
       " 'clsa',\n",
       " 'cmasa',\n",
       " 'cmsa',\n",
       " 'cnasa',\n",
       " 'cnsa',\n",
       " 'coasa',\n",
       " 'cosa',\n",
       " 'cpasa',\n",
       " 'cpsa',\n",
       " 'cqasa',\n",
       " 'cqsa',\n",
       " 'crasa',\n",
       " 'crsa',\n",
       " 'csa',\n",
       " 'csaa',\n",
       " 'csasa',\n",
       " 'cssa',\n",
       " 'ctasa',\n",
       " 'ctsa',\n",
       " 'cuasa',\n",
       " 'cusa',\n",
       " 'cvasa',\n",
       " 'cvsa',\n",
       " 'cwasa',\n",
       " 'cwsa',\n",
       " 'cxasa',\n",
       " 'cxsa',\n",
       " 'cyasa',\n",
       " 'cysa',\n",
       " 'czasa',\n",
       " 'czsa',\n",
       " 'dasa',\n",
       " 'dcasa',\n",
       " 'easa',\n",
       " 'ecasa',\n",
       " 'fasa',\n",
       " 'fcasa',\n",
       " 'gasa',\n",
       " 'gcasa',\n",
       " 'hasa',\n",
       " 'hcasa',\n",
       " 'iasa',\n",
       " 'icasa',\n",
       " 'jasa',\n",
       " 'jcasa',\n",
       " 'kasa',\n",
       " 'kcasa',\n",
       " 'lasa',\n",
       " 'lcasa',\n",
       " 'masa',\n",
       " 'mcasa',\n",
       " 'nasa',\n",
       " 'ncasa',\n",
       " 'oasa',\n",
       " 'ocasa',\n",
       " 'pasa',\n",
       " 'pcasa',\n",
       " 'qasa',\n",
       " 'qcasa',\n",
       " 'rasa',\n",
       " 'rcasa',\n",
       " 'sasa',\n",
       " 'scasa',\n",
       " 'tasa',\n",
       " 'tcasa',\n",
       " 'uasa',\n",
       " 'ucasa',\n",
       " 'vasa',\n",
       " 'vcasa',\n",
       " 'wasa',\n",
       " 'wcasa',\n",
       " 'xasa',\n",
       " 'xcasa',\n",
       " 'yasa',\n",
       " 'ycasa',\n",
       " 'zasa',\n",
       " 'zcasa'}"
      ]
     },
     "execution_count": 4,
     "metadata": {},
     "output_type": "execute_result"
    }
   ],
   "source": [
    "#solució\n",
    "\n",
    "def edit(word):\n",
    "    letters    = 'abcdefghijklmnopqrstuvwxyz'\n",
    "    splits     = [(word[:i], word[i:])    for i in range(len(word) + 1)]\n",
    "    deletes    = [L + R[1:]               for L, R in splits if R]\n",
    "    transposes = [L + R[1] + R[0] + R[2:] for L, R in splits if len(R)>1]\n",
    "    replaces   = [L + c + R[1:]           for L, R in splits if R for c in letters]\n",
    "    inserts    = [L + c + R               for L, R in splits for c in letters]\n",
    "    return set(deletes + transposes + replaces + inserts)\n",
    "\n",
    "assert edit('h') == {'','a','ah','b', 'bh', 'c', 'ch', 'd', 'dh', 'e', 'eh', 'f', 'fh', \n",
    "                     'g', 'gh', 'h', 'ha', 'hb', 'hc', 'hd', 'he', 'hf', 'hg', 'hh',\n",
    "                     'hi', 'hj', 'hk', 'hl', 'hm', 'hn', 'ho', 'hp', 'hq', 'hr', 'hs',\n",
    "                     'ht', 'hu', 'hv', 'hw', 'hx', 'hy', 'hz', 'i', 'ih', 'j', 'jh',\n",
    "                     'k', 'kh', 'l', 'lh', 'm', 'mh', 'n', 'nh', 'o', 'oh', 'p', 'ph',\n",
    "                     'q', 'qh', 'r', 'rh', 's', 'sh', 't',  'th', 'u', 'uh', 'v', 'vh',\n",
    "                     'w', 'wh', 'x', 'xh', 'y', 'yh', 'z', 'zh'}\n",
    "\n",
    "edit(\"casa\")"
   ]
  },
  {
   "cell_type": "markdown",
   "metadata": {},
   "source": [
    "### Exercici 5: Strings Isomòrfics\n",
    "\n",
    "Donats dos strings ``s`` i ``t``, dgterminar si són isomòrfics.\n",
    "\n",
    "Direm que dos strings són isomòrfics si hi ha una correspondència entre tots i cada un dels caràcters de ``s`` i els de ``t``.\n",
    "\n",
    "Indicació: Us pot ser útil la funció ``zip``."
   ]
  },
  {
   "cell_type": "code",
   "execution_count": 21,
   "metadata": {},
   "outputs": [
    {
     "name": "stdout",
     "output_type": "stream",
     "text": [
      "h a\n",
      "o d\n",
      "l e\n",
      "a u\n"
     ]
    }
   ],
   "source": [
    "for i,j in zip('hola', 'adeu'):\n",
    "    print(i,j)"
   ]
  },
  {
   "cell_type": "code",
   "execution_count": null,
   "metadata": {
    "collapsed": true
   },
   "outputs": [],
   "source": [
    "def isIsomorphic(s, t):\n",
    "    return pass\n",
    "\n",
    "assert isIsomorphic('aba','xyx') == True\n",
    "assert isIsomorphic('aba','xyz') == False"
   ]
  },
  {
   "cell_type": "code",
   "execution_count": 6,
   "metadata": {},
   "outputs": [
    {
     "data": {
      "text/plain": [
       "False"
      ]
     },
     "execution_count": 6,
     "metadata": {},
     "output_type": "execute_result"
    }
   ],
   "source": [
    "def isIsomorphic(s, t):\n",
    "    if len(s) != len(t):\n",
    "        return False\n",
    "    s2t, t2s = {}, {}\n",
    "    for p, w in zip(s, t):\n",
    "        if w not in s2t and p not in t2s:\n",
    "            s2t[w] = p\n",
    "            t2s[p] = w \n",
    "        elif w not in s2t or s2t[w] != p:\n",
    "            return False\n",
    "    return True\n",
    "\n",
    "assert isIsomorphic('aba','xyx') == True\n",
    "assert isIsomorphic('aba','xyz') == False\n",
    "\n",
    "isIsomorphic(\"aba\",\"xyz\")"
   ]
  },
  {
   "cell_type": "markdown",
   "metadata": {},
   "source": [
    "### Exercici 6:  Palíndroms\n",
    "\n",
    "Un palíndrom és una paraula, frase o grup de paraules les lletres de les quals es repeteixen en el mateix ordre quan són llegides en la direcció inversa. Exemples: \"Anna\", \"Llull\". \n",
    "\n",
    "Indicació: Recordeu que fent servir \"slicing\" podeu invertir un string!"
   ]
  },
  {
   "cell_type": "code",
   "execution_count": null,
   "metadata": {
    "collapsed": true
   },
   "outputs": [],
   "source": [
    "def isPalindrome(num):\n",
    "    return pass\n",
    "\n",
    "assert isPalindrome(\"llull\")==True\n",
    "assert isPalindrome(\"llullu\")==False"
   ]
  },
  {
   "cell_type": "code",
   "execution_count": 7,
   "metadata": {},
   "outputs": [
    {
     "data": {
      "text/plain": [
       "True"
      ]
     },
     "execution_count": 7,
     "metadata": {},
     "output_type": "execute_result"
    }
   ],
   "source": [
    "def isPalindrome(num):\n",
    "    return num == num[::-1]\n",
    "\n",
    "assert isPalindrome(\"llull\")==True\n",
    "assert isPalindrome(\"llullu\")==False\n",
    "\n",
    "isPalindrome(\"llull\")"
   ]
  },
  {
   "cell_type": "markdown",
   "metadata": {},
   "source": [
    "### Exercici 7:  Longitud del substring més llarg de caràcters diferents.\n",
    "\n",
    "Escriu un programa que retorni la longitud del substring format per caràcters diferents més gran que trobis d'uns d'un string."
   ]
  },
  {
   "cell_type": "code",
   "execution_count": null,
   "metadata": {
    "collapsed": true
   },
   "outputs": [],
   "source": [
    "def llargSubstring(s):\n",
    "    return pass\n",
    "\n",
    "assert llargSubstring('aaaabccc') == 3"
   ]
  },
  {
   "cell_type": "code",
   "execution_count": 10,
   "metadata": {},
   "outputs": [
    {
     "data": {
      "text/plain": [
       "3"
      ]
     },
     "execution_count": 10,
     "metadata": {},
     "output_type": "execute_result"
    }
   ],
   "source": [
    "def llargSubstring(s):\n",
    "    longest, start, visited = 0, 0, [False for _ in range(256)]\n",
    "    for i, char in enumerate(s):\n",
    "        if visited[ord(char)]:\n",
    "            while char != s[start]:\n",
    "                visited[ord(s[start])] = False\n",
    "                start += 1\n",
    "            start += 1\n",
    "        else:\n",
    "            visited[ord(char)] = True\n",
    "        longest = max(longest, i - start + 1)\n",
    "    return longest\n",
    "\n",
    "assert llargSubstring('aaaabccc') == 3\n",
    "\n",
    "llargSubstring(\"aaaabccc\")"
   ]
  }
 ],
 "metadata": {
  "kernelspec": {
   "display_name": "Python 3",
   "language": "python",
   "name": "python3"
  },
  "language_info": {
   "codemirror_mode": {
    "name": "ipython",
    "version": 3
   },
   "file_extension": ".py",
   "mimetype": "text/x-python",
   "name": "python",
   "nbconvert_exporter": "python",
   "pygments_lexer": "ipython3",
   "version": "3.6.1"
  }
 },
 "nbformat": 4,
 "nbformat_minor": 2
}
