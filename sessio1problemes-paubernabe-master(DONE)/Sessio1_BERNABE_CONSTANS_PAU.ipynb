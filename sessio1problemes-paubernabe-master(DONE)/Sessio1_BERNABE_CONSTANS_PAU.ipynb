{
 "cells": [
  {
   "cell_type": "markdown",
   "metadata": {},
   "source": [
    "# Sessió 1: Python I\n",
    "\n",
    "Indicacions:\n",
    "+ Cada exercici s'ha de poder respondre executant una única funció (tot i que aquesta funció pot cridar altres funcions si és necessari)."
   ]
  },
  {
   "cell_type": "markdown",
   "metadata": {},
   "source": [
    "## Nombres binaris fins a $N$\n",
    "\n",
    "Donat un número $N$, creat tots els nombres binaris entre 1 i  $N$, ambdós inclosos. \n",
    "\n",
    "Pots fer servir la funció ``bin``. La funció ``bin(x)`` transforma $x$ en la seva forma binària. Observa els següents exemples:"
   ]
  },
  {
   "cell_type": "code",
   "execution_count": 3,
   "metadata": {},
   "outputs": [
    {
     "name": "stdout",
     "output_type": "stream",
     "text": [
      "5 0b101\n",
      "0b1000\n"
     ]
    },
    {
     "data": {
      "text/plain": [
       "str"
      ]
     },
     "execution_count": 3,
     "metadata": {},
     "output_type": "execute_result"
    }
   ],
   "source": [
    "a = 5\n",
    "ab = bin(a)\n",
    "print (a, ab)\n",
    "print(bin(5+3))\n",
    "type(bin(5+3))"
   ]
  },
  {
   "cell_type": "markdown",
   "metadata": {},
   "source": [
    "**Pregunta 1**: Escriu una funció que imprimeixi la representació binària de tots els nombres enters entre 1 i $N$. Quina solució hauria de donar per als següents valors: \n",
    "        \n",
    "- $N$ = 5\n",
    "- $N$ = 10\n",
    "\n",
    "Intenta fer una versió del programa que no mostri la capçalera ``0b`` i que ompli de zeros el principi de cada nombre si no ocupem tots els bits (és a dir, que imprimeixi ``0001`` per l'enter 1).\n"
   ]
  },
  {
   "cell_type": "code",
   "execution_count": 3,
   "metadata": {
    "collapsed": true
   },
   "outputs": [],
   "source": [
    "def generaBinari(N):\n",
    "    \"\"\"\n",
    "    Aquesta funció genera els nombres binaris\n",
    "    entre 1 i N\n",
    "    :param N el valor més gran pels binaris\n",
    "    :return mostra per pantalla els nombres binari\n",
    "\n",
    "    \"\"\"\n",
    "    for i in range (1,N+1):            \n",
    "        print (bin(i)[2:].zfill(4))      \n",
    "        \n",
    "\n",
    "    "
   ]
  },
  {
   "cell_type": "code",
   "execution_count": 4,
   "metadata": {},
   "outputs": [
    {
     "name": "stdout",
     "output_type": "stream",
     "text": [
      "0001\n",
      "0010\n",
      "0011\n",
      "0100\n",
      "0101\n",
      "0110\n",
      "0111\n",
      "1000\n",
      "1001\n",
      "1010\n"
     ]
    }
   ],
   "source": [
    "generaBinari (10)"
   ]
  },
  {
   "cell_type": "markdown",
   "metadata": {},
   "source": [
    "N=5 01 10 11 100 101\n",
    "N= 01 10 11 100 101 110 111 1000 1001 1010"
   ]
  },
  {
   "cell_type": "markdown",
   "metadata": {
    "collapsed": true
   },
   "source": [
    "**Pregunta 2**: Per a $N$ = 3 quantes operacions es fan? indica les operacions que es fan a cada línia, i quantes vegades es repeteix aquella línia."
   ]
  },
  {
   "cell_type": "markdown",
   "metadata": {},
   "source": [
    "*Escriu la teva resposta aquí*: Per a n=3, es repeteix el bucle 3 cops."
   ]
  },
  {
   "cell_type": "markdown",
   "metadata": {},
   "source": [
    "## El 8 és primer o és darrer?\n",
    "\n",
    "Donada una llista de nombres enters, retornar ``True`` si el nombre 8 és el primer element de la llista o és el darrer. Retornar ``False`` altrament."
   ]
  },
  {
   "cell_type": "markdown",
   "metadata": {},
   "source": [
    "**Pregunta 1**: Posa 4 exemples de llistes, dues que retornin ``True`` i dues que retornin ``False``."
   ]
  },
  {
   "cell_type": "code",
   "execution_count": 23,
   "metadata": {},
   "outputs": [
    {
     "name": "stdout",
     "output_type": "stream",
     "text": [
      "True\n",
      "True\n",
      "False\n",
      "False\n"
     ]
    }
   ],
   "source": [
    "llista1=[8,1,2,3] #true\n",
    "llista2=[1,2,3,8] #true\n",
    "llista3=[2,3,4,5] # false\n",
    "llista4=[10,7,4] #false\n",
    "\n",
    "print (llista1[0]==8 or llista1[-1]==8)\n",
    "print (llista2[0]==8 or llista2[-1]==8)\n",
    "print (llista3[0]==8 or llista3[-1]==8)\n",
    "print (llista4[0]==8 or llista4[-1]==8)\n",
    "\n",
    "\n"
   ]
  },
  {
   "cell_type": "code",
   "execution_count": 7,
   "metadata": {
    "collapsed": true
   },
   "outputs": [],
   "source": [
    "def primerDarrer8(llista):\n",
    "    \"\"\"\n",
    "    Aquesta funció, donada una llista d’enters,\n",
    "    retorna True si 8 és el primer o el darrer element de la llista, \n",
    "    retorna False altrament\n",
    "    :param llista una llista d'enters\n",
    "    :return: True si 8 és a l'inici o final, False altrament\n",
    "    \"\"\"\n",
    "    if (llista[0]==8 or llista[-1]==8):\n",
    "        return True\n",
    "    return False\n"
   ]
  },
  {
   "cell_type": "code",
   "execution_count": 8,
   "metadata": {},
   "outputs": [
    {
     "data": {
      "text/plain": [
       "True"
      ]
     },
     "execution_count": 8,
     "metadata": {},
     "output_type": "execute_result"
    }
   ],
   "source": [
    "# Test de la funció\n",
    "primerDarrer8([8,1,2,3])\n",
    "\n",
    "# Hauria de retornar: True"
   ]
  },
  {
   "cell_type": "markdown",
   "metadata": {},
   "source": [
    "## A mig camí\n",
    "\n",
    "Donades dues llistes d'enters, cadascuna de longitud 3, retorna una nova llista que contingui els elements del mig de cada llista.\n",
    "\n",
    "Per exemple:\n",
    "- [4, 5, 6], [7, 8, 9] => [5, 8]\n",
    "- [6, 6, 6], [1, 2, 3] => [6, 2]"
   ]
  },
  {
   "cell_type": "markdown",
   "metadata": {},
   "source": [
    "**Pregunta 1**: Inventa't 3 parelles de llistes que retornin:\n",
    "    \n",
    "- [3, 3]\n",
    "- [-1, 2]\n",
    "- [0, 123]"
   ]
  },
  {
   "cell_type": "code",
   "execution_count": null,
   "metadata": {
    "collapsed": true
   },
   "outputs": [],
   "source": [
    "llista1=[1,3,2] \n",
    "llista2=[2,3,1]\n",
    "\n",
    "llista3=[4,-1,5] \n",
    "llista4=[7,2,9]\n",
    "\n",
    "llista5=[5,0,5] \n",
    "llista6=[100,123,9]\n",
    "\n"
   ]
  },
  {
   "cell_type": "code",
   "execution_count": 38,
   "metadata": {},
   "outputs": [],
   "source": [
    "def aMigCami(llista1,llista2):\n",
    "    \"\"\"\n",
    "    Aquesta funció, donades dues llistes d'enters,\n",
    "    retorna una nova llista formada pels seus dos elements del mig\n",
    "    :param llista1 una llista d'enters\n",
    "    :param llista2 una llista d'enters\n",
    "    :return: una llista formada pels dos elements del mig de llista1 i llista2\n",
    "    \"\"\"\n",
    "    llista3=[]\n",
    "    llista3.append(llista1[1])\n",
    "    llista3.append(llista2[1])\n",
    "    \n",
    "\n",
    "    return llista3\n",
    "\n",
    "\n",
    "\n",
    "\n",
    "\n",
    "\n",
    "    "
   ]
  },
  {
   "cell_type": "code",
   "execution_count": 39,
   "metadata": {},
   "outputs": [
    {
     "data": {
      "text/plain": [
       "[11, 5]"
      ]
     },
     "execution_count": 39,
     "metadata": {},
     "output_type": "execute_result"
    }
   ],
   "source": [
    "# Test de la funció\n",
    "aMigCami([10,11,12],[6,5,4])\n",
    "\n",
    "# Hauria de retornar: [11,5]"
   ]
  },
  {
   "cell_type": "markdown",
   "metadata": {},
   "source": [
    "## Prou cerveses?\n",
    "\n",
    "Quan els estudiants monten una festa els agrada tenir cerveses. Per a què una festa tingui èxit cal que hi hagi entre 50 i 100 cerveses, excepte en el cap de setmana en el que no hi ha un límit superior en el nombre de cerveses.\n",
    "\n",
    "Escriu una funció '''prouCerveses''' en la que donat un nombre de cerveses i un booleà indicant si és cap de setmana o no, retorni si la festa serà un èxit."
   ]
  },
  {
   "cell_type": "markdown",
   "metadata": {},
   "source": [
    "for i in range (0, len(llista))\n",
    "llista [i]\n",
    "for j in range (i+1, len(llista))       apuntat a classe "
   ]
  },
  {
   "cell_type": "markdown",
   "metadata": {},
   "source": [
    "**Pregunta 1**: Proposa uns valors donats a la funció prouCerveses que provoquin un èxit de festa entre setmana i un èxit de festa el cap de setmana."
   ]
  },
  {
   "cell_type": "code",
   "execution_count": 37,
   "metadata": {
    "collapsed": true
   },
   "outputs": [],
   "source": [
    "def prouCerveses(numCerveses,esCapDeSetmana):\n",
    "    \"\"\"\n",
    "    Aquesta funció, donada una quantitat de cerveses,\n",
    "    i un booleà que indica que és cap de setmana (True = cap de setmana)\n",
    "    retorna si la festa serà un èxit.\n",
    "    La festa serà un èxit si entre setmana hi ha entre 50 i 100 cerveses, \n",
    "    o si el cap de setmana hi ha més de 50 cerveses.\n",
    "    :param numCerveses enter que indica el nombre de cerveses\n",
    "    :param esCapDeSetmana booleà que indica si és cap de setmana\n",
    "    :return: True si el nombre de cerveses està en els límits indicats\n",
    "         False altrament\n",
    "    \"\"\"\n",
    "\n",
    "    for i in range(50,100):\n",
    "        if numCerveses<50:\n",
    "            return False\n",
    "        elif numCerveses>100:\n",
    "            return True\n",
    "        else:\n",
    "            return esCapDeSetmana\n",
    "\n",
    "        \n",
    "\n",
    "            \n",
    "        \n",
    "        \n",
    "            \n",
    "        \n",
    "    \n",
    "    "
   ]
  },
  {
   "cell_type": "code",
   "execution_count": 38,
   "metadata": {},
   "outputs": [
    {
     "data": {
      "text/plain": [
       "True"
      ]
     },
     "execution_count": 38,
     "metadata": {},
     "output_type": "execute_result"
    }
   ],
   "source": [
    "# Test de la funció\n",
    "prouCerveses(110,True)\n",
    "\n",
    "# Hauria de retornar: True"
   ]
  },
  {
   "cell_type": "markdown",
   "metadata": {},
   "source": [
    "## Sumatori de parelles\n",
    "\n",
    "Donada una llista d’enters i  un valor de suma, trobar totes les parelles de nombres a la llista que sumin aquest valor.\n",
    "\n",
    "Per exemple:\n",
    "- Llista=[3, 1, 5, 2, 7, 8], Suma=10</li>\n",
    "- Solució:\n",
    "   - Parella trobada als índexs 0 i 4,  (3 + 7)</li>\n",
    "   - Parella trobada als índexs 3 i 5 (2+8)</li>\n"
   ]
  },
  {
   "cell_type": "markdown",
   "metadata": {},
   "source": [
    "**Pregunta 1**: Quina solució hauria de donar per als següents valors: \n",
    "\n",
    "- Llista:[5, 5, 1, 3, 5], Suma:10\n",
    "- Llista:[4, 6, 1, 3, 9, 4], Suma:12\n",
    "- Llista3:[4, 7], Suma:[9]"
   ]
  },
  {
   "cell_type": "code",
   "execution_count": null,
   "metadata": {
    "collapsed": true
   },
   "outputs": [],
   "source": [
    "llista1=([5,5,1,3,5], 10)\n",
    "llista2=([4,6,1,3,9,4], 10)\n",
    "llista3=([4,7], 10)\n",
    "valorSuma=[10]"
   ]
  },
  {
   "cell_type": "code",
   "execution_count": 32,
   "metadata": {
    "collapsed": true
   },
   "outputs": [],
   "source": [
    "def parellesSuma(llista, valorSuma):\n",
    "    \"\"\"\n",
    "    Aquesta funció, donada una llista d’enters i  un valor de suma,\n",
    "    troba una parella de nombres a la llista que sumin aquest valor.\n",
    "    :param llista una llista d'enters\n",
    "    :param valorSuma un enter amb el valor de la suma\n",
    "    :return: No retorna res, mostra per pantalla el resultat\n",
    "    \"\"\"\n",
    "    for suma in range (1,len (llista)-1):\n",
    "        for sumacle in range (suma+1, len(llista)):\n",
    "            if llista[suma]+llista[sumacle]==valorSuma:\n",
    "    \n",
    "    \n",
    "                parellesSuma= llista[suma] , llista[sumacle]\n",
    "    \n",
    "    return parellesSuma\n",
    "    \n",
    "                \n",
    "                \n",
    "                \n",
    "            \n",
    "\n",
    "                \n",
    "        \n",
    "    \n",
    "\n",
    "    \n",
    "\n",
    "    \n",
    "\n",
    "    "
   ]
  },
  {
   "cell_type": "code",
   "execution_count": 33,
   "metadata": {},
   "outputs": [
    {
     "data": {
      "text/plain": [
       "(5, 5)"
      ]
     },
     "execution_count": 33,
     "metadata": {},
     "output_type": "execute_result"
    }
   ],
   "source": [
    "# Test de la funció\n",
    "parellesSuma([5,5,1,3,5], 10)\n",
    "\n",
    "# Hauria de retornar: Parella trobada als indexs 0, 4 (3 + 7) \n",
    "# i parella trobada als índexs 3 i 5 (2 + 8)"
   ]
  },
  {
   "cell_type": "markdown",
   "metadata": {},
   "source": [
    "**Pregunta 2**: Si la llista té 5 posicions, quantes comparacions es fan?"
   ]
  },
  {
   "cell_type": "markdown",
   "metadata": {},
   "source": [
    "## Divisors\n",
    "\n",
    "Escriu una funció ``divisors`` que demani un nombre menor que 30 a l'usuari i mostri una llista amb tots els seus divisors.\n",
    "\n",
    "Exemple:\n",
    "- Digues-me un nombre? 8  => [1,2,4,8]\n",
    "- Digues-me un nombre? 5  => [1,5]"
   ]
  },
  {
   "cell_type": "code",
   "execution_count": null,
   "metadata": {
    "collapsed": true
   },
   "outputs": [],
   "source": []
  },
  {
   "cell_type": "code",
   "execution_count": 50,
   "metadata": {
    "collapsed": true
   },
   "outputs": [],
   "source": [
    "def divisors():\n",
    "    \"\"\"\n",
    "    Aquesta funció, pregunta a l'usuari un nombre i retorna\n",
    "    la llista amb els seus divisors\n",
    "    :return: llista amb els divisors del nombre introduït per l'usuari\n",
    "    \"\"\"\n",
    "    nombre=31\n",
    "    while nombre>30:\n",
    "        n=input (\"introduce a number smaller than 30   \")\n",
    "        nombre=int(n)\n",
    "    llista= [ ]\n",
    "    \n",
    "    for i in range (1,nombre):\n",
    "        if nombre%i==0:\n",
    "            llista.append(i)\n",
    "    \n",
    "            \n",
    "       \n",
    "        \n",
    "    return llista\n",
    "            \n",
    "        \n",
    "        \n",
    "    "
   ]
  },
  {
   "cell_type": "code",
   "execution_count": 51,
   "metadata": {},
   "outputs": [
    {
     "name": "stdout",
     "output_type": "stream",
     "text": [
      "introduce a number smaller than 30   28\n"
     ]
    },
    {
     "data": {
      "text/plain": [
       "[1, 2, 4, 7, 14]"
      ]
     },
     "execution_count": 51,
     "metadata": {},
     "output_type": "execute_result"
    }
   ],
   "source": [
    "# Test de la funció\n",
    "divisors()\n",
    "\n",
    "# Digues-me un nombre? 28\n",
    "# Hauria de retornar: [1, 2, 4, 7, 14]"
   ]
  },
  {
   "cell_type": "markdown",
   "metadata": {},
   "source": [
    "<p style=\"text-align:right;font-size:0.9em\">\n",
    "&copy;Jordi Vitrià i Mireia Ribera\n",
    "</p>"
   ]
  }
 ],
 "metadata": {
  "kernelspec": {
   "display_name": "Python 3",
   "language": "python",
   "name": "python3"
  },
  "language_info": {
   "codemirror_mode": {
    "name": "ipython",
    "version": 3
   },
   "file_extension": ".py",
   "mimetype": "text/x-python",
   "name": "python",
   "nbconvert_exporter": "python",
   "pygments_lexer": "ipython3",
   "version": "3.6.1"
  }
 },
 "nbformat": 4,
 "nbformat_minor": 2
}
