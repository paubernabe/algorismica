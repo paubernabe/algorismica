{
 "cells": [
  {
   "cell_type": "markdown",
   "metadata": {},
   "source": [
    "# Sessió de problemes 5: Recursivitat, teorema Màster i fitxers"
   ]
  },
  {
   "cell_type": "markdown",
   "metadata": {},
   "source": [
    "## Problema 1: Força bruta: producte de conjunts\n",
    "\n",
    "Donats dos conjunts, $A$ i $B$, el producte d'aquests dos conjunts és el conjunt $A \\times B$ format per totes les parelles ordenades $(a, b)$ en què $a \\in A$ i $b \\in B$.\n",
    "\n",
    "Si tenim un nombre conegut de conjunts és fàcil fer-ho amb comprehensions:"
   ]
  },
  {
   "cell_type": "code",
   "execution_count": 8,
   "metadata": {},
   "outputs": [
    {
     "data": {
      "text/plain": [
       "{'ADG',\n",
       " 'ADH',\n",
       " 'AEG',\n",
       " 'AEH',\n",
       " 'AFG',\n",
       " 'AFH',\n",
       " 'BDG',\n",
       " 'BDH',\n",
       " 'BEG',\n",
       " 'BEH',\n",
       " 'BFG',\n",
       " 'BFH',\n",
       " 'CDG',\n",
       " 'CDH',\n",
       " 'CEG',\n",
       " 'CEH',\n",
       " 'CFG',\n",
       " 'CFH'}"
      ]
     },
     "execution_count": 8,
     "metadata": {},
     "output_type": "execute_result"
    }
   ],
   "source": [
    "{a+b+c for a in {'A','B','C'} for b in {'D','E','F'} for c in {'G','H'}}\n",
    "#En aquest set, no es podran repetir les igualtats."
   ]
  },
  {
   "cell_type": "markdown",
   "metadata": {},
   "source": [
    "Però si volem fer una funció que calculi el producte d'un nombre variable de conjunts, ja no es tant fàcil fer-ho amb comprensions i ho és més fer-ho recursivament. Com ho farieu?"
   ]
  },
  {
   "cell_type": "code",
   "execution_count": null,
   "metadata": {
    "collapsed": true
   },
   "outputs": [],
   "source": [
    "'''\n",
    "El problema és que no es sap la quantitat que hi ha.\n",
    "Quan n'hi han dos, no hi ha problema, pero quan en tenim +2, haurem de fer recursivitat.\n",
    "\n",
    "'''\n",
    "a = {'A','B','C'} \n",
    "b = {'D','E','F'} \n",
    "c = {'G','H'}\n",
    "l1 = [a,b,c]\n",
    "\n",
    "def set_prod(l):\n",
    "    pass\n",
    "\n",
    "assert set_prod(l1) == {'ADG', 'ADH', 'AEG', 'AEH', 'AFG', 'AFH', 'BDG', 'BDH', 'BEG', 'BEH', 'BFG', 'BFH', 'CDG', 'CDH', 'CEG', 'CEH', 'CFG', 'CFH'}\n",
    "\n",
    "assert set_prod(l2) == {'AD', 'AE', 'AF', 'BD', 'BE', 'BF', 'CD', 'CE', 'CF'}"
   ]
  },
  {
   "cell_type": "markdown",
   "metadata": {},
   "source": [
    "## Problema 2: Combinacions de tecles"
   ]
  },
  {
   "cell_type": "markdown",
   "metadata": {},
   "source": [
    "<img src=\"keypad.png\" width=\"250px\" alt=\"2 ABC, 3 DEF, 4 GHI, 5 JKL, 6 MNO, 7 PQRS, 8 TUV, 9 WXYZ\" style=\"float:left; margin:0 10px 0 0\" /> \n",
    "\n",
    "\n",
    "Donada una seqüència de nombres entre 2 i 9, mostrar totes les possibles paraules que es poden formar amb les lletres associades a aquests nombres en un teclat de mòbil antic, com el que està dibuixat aquí.\n"
   ]
  },
  {
   "cell_type": "markdown",
   "metadata": {},
   "source": [
    "<div style=\"font-style:italic\">\n",
    "Per exemple:\n",
    "<ul>\n",
    "<li>Tecles=[tecla2,tecla3,tecla4]</li>\n",
    "<li>Solució:\n",
    "   <ul>\n",
    "   <li>ADG, BDG, AEG, BEG, CEG, AFG, BFG, CFG, ADH, BDH, CDH, AEH, BEH, CEH, AFH, BFH, CFH, ADI, BDI, CDI, AEI, BEI, CEI, AFI, BFI, CFI</li>\n",
    "   </ul>\n",
    "</li>\n",
    "</ul>\n",
    "</div>"
   ]
  },
  {
   "cell_type": "code",
   "execution_count": 13,
   "metadata": {},
   "outputs": [
    {
     "name": "stdout",
     "output_type": "stream",
     "text": [
      "[['A', 'B', 'C'], ['D', 'E', 'F'], ['G', 'H', 'I'], ['J', 'K', 'L'], ['M', 'N', 'O'], ['P', 'Q', 'R', 'S'], ['T', 'U', 'V'], ['W', 'X', 'Y', 'Z']]\n"
     ]
    }
   ],
   "source": [
    "tecles=[]\n",
    "fitxer=open(\"tecles.txt\",\"r\")\n",
    "\n",
    "for i in fitxer:\n",
    "    tecles.append(i.replace(\"\\n\",\"\").split(\",\"))\n",
    "fitxer.close()\n",
    "        \n",
    "print(tecles)\n",
    "    \n",
    "    \n",
    "\n"
   ]
  },
  {
   "cell_type": "markdown",
   "metadata": {},
   "source": [
    "Escriviu una versió de la solució en la que llegiu les lletres associades a cada tecla des del fitxer \"tecles.txt\" que us facilitem."
   ]
  },
  {
   "cell_type": "code",
   "execution_count": 26,
   "metadata": {
    "collapsed": true
   },
   "outputs": [],
   "source": [
    "def combinacions(teclat):\n",
    "    if len(teclat)==0:\n",
    "        return \"\"\n",
    "    elif len(teclat)==1:\n",
    "        return teclat[0]\n",
    "    elif len(teclat)==2:\n",
    "        solucio={a+b for a in teclat[0] for b in teclat[1]}\n",
    "        return solucio\n",
    "    else:\n",
    "        return combinacions([teclat[0],combinacions(teclat[1:])])"
   ]
  },
  {
   "cell_type": "code",
   "execution_count": 27,
   "metadata": {},
   "outputs": [
    {
     "data": {
      "text/plain": [
       "{'AJM',\n",
       " 'AJN',\n",
       " 'AJO',\n",
       " 'AKM',\n",
       " 'AKN',\n",
       " 'AKO',\n",
       " 'ALM',\n",
       " 'ALN',\n",
       " 'ALO',\n",
       " 'BJM',\n",
       " 'BJN',\n",
       " 'BJO',\n",
       " 'BKM',\n",
       " 'BKN',\n",
       " 'BKO',\n",
       " 'BLM',\n",
       " 'BLN',\n",
       " 'BLO',\n",
       " 'CJM',\n",
       " 'CJN',\n",
       " 'CJO',\n",
       " 'CKM',\n",
       " 'CKN',\n",
       " 'CKO',\n",
       " 'CLM',\n",
       " 'CLN',\n",
       " 'CLO'}"
      ]
     },
     "execution_count": 27,
     "metadata": {},
     "output_type": "execute_result"
    }
   ],
   "source": [
    "teclat=[tecles[0],tecles[3],tecles[4]] \n",
    "combinacions(teclat)"
   ]
  },
  {
   "cell_type": "markdown",
   "metadata": {},
   "source": [
    "#### Pregunta 2.1: Quantes combinacions es poden crear amb 3 tecles? Quines combinacions es poden crear amb [2,3]?"
   ]
  },
  {
   "cell_type": "markdown",
   "metadata": {},
   "source": [
    "Depèn de quantes n'agafem. "
   ]
  },
  {
   "cell_type": "markdown",
   "metadata": {},
   "source": [
    "#### Pregunta 2.2: Si $N$ és el nombre de tecles d'entrada, quina és la complexitat d'aquest algorisme?\n",
    "**Atenció**: abans de respondre comproveu si l'algorisme compleix els requisits per usar el teorema del màster, en cas contrari feu el càlcul de complexitat per combinatòria\n"
   ]
  },
  {
   "cell_type": "markdown",
   "metadata": {},
   "source": [
    "No es pot respondre, ja que no compleix el teorema master. \n",
    "Seria una complexitat de 4^n, ja que mirem les maximes combinacions possibles i més grans."
   ]
  },
  {
   "cell_type": "markdown",
   "metadata": {},
   "source": [
    "## Problema 3: Càlcul de complexitat\n",
    "\n",
    "#### Pregunta 3.1. Calcula la complexitat de la següent funció recursiva, considerant la mida $n$ dels nombres en bits."
   ]
  },
  {
   "cell_type": "code",
   "execution_count": 14,
   "metadata": {},
   "outputs": [
    {
     "data": {
      "text/plain": [
       "180.0"
      ]
     },
     "execution_count": 14,
     "metadata": {},
     "output_type": "execute_result"
    }
   ],
   "source": [
    "def multiplica(x, y):\n",
    "    \"\"\"\n",
    "    Aquesta funció retorna la multiplicació de dos nombres expressats en binari\n",
    "    :param: x,y són nombres binaris introduits com a cadenes de text\n",
    "    :return: el resultat de la multiplicació\n",
    "    \"\"\"\n",
    "    n = max(len(x), len(y))\n",
    "    if n == 1:\n",
    "        return int(x)*int(y)\n",
    "    xleft, xright = x[:n//2], x[n//2:]\n",
    "    yleft, yright = y[:n//2], y[n//2:]\n",
    "    p1 = multiplica(xleft, yleft)\n",
    "    p2 = multiplica(xright, yright)\n",
    "    p3 = multiplica(str(int(xleft)+int(xright)), str(int(yleft)+int(yright)))\n",
    "    return p1*2**n+(p3-p1-p2)*2**(n/2)+p2\n",
    "\n",
    "multiplica(\"1111\",\"1100\") "
   ]
  },
  {
   "cell_type": "markdown",
   "metadata": {},
   "source": [
    "Solució\n",
    "\n",
    "a) Apuntem les complexitats de les operacions simples: \n",
    "\n",
    "| Operació | Complexitat |\n",
    "| -------- | ----------- |\n",
    "|   max()  |  O(1) |\n",
    "| len() | O(1) | \n",
    "| slice | O(k)=O(n/2) | \n",
    "| int(str) | O(n)  |\n",
    "| str(int) | O(n) |\n",
    "                  \n",
    "\n",
    "    \n",
    "b) Apuntem la complexitat de cada bloc de codi\n",
    "\n",
    "| Bloc | Complexitat |\n",
    "| -------- | ----------- |\n",
    "|  n = max(len(x), len(y))        |    O(2)=>O(1)     |\n",
    "|  | ----------- |\n",
    "\n",
    "     \n",
    "c) Determinem els paràmetres del teorema de màster:  a =  , b =  , d =  . \n",
    "       \n",
    "d) Identifiquem el cas pertinent (cas  ) i apliquem el teorema de màster: O( ).\n",
    "    \n",
    "La funció multiplica té un cost      respecte al nombre de bits del nombre més llarg.\n",
    "    "
   ]
  },
  {
   "cell_type": "markdown",
   "metadata": {},
   "source": [
    "#### Pregunta 3.2 Calcula la complexitat segons el teorema de màster:\n",
    "\n",
    "<ol style=\"list-style-type:lower-alpha\">\n",
    "<li>$T(n)=2T(n/2)+n^{4}$</li>\n",
    "<li>$T(n)=T(7n/10)+n$</li>\n",
    "<li>$T(n)=16T(n/4)+n^{2}$</li>\n",
    "<li>$T(n)=2T(n/4)+sqrt(n)$</li>\n",
    "</ol>"
   ]
  },
  {
   "cell_type": "markdown",
   "metadata": {},
   "source": [
    "## Problema 4: Quantitat d'1s a una llista binària"
   ]
  },
  {
   "cell_type": "markdown",
   "metadata": {},
   "source": [
    "Donada una llista de nombres binaris ordenada, trobar de manera eficient el nombre d'1s que conté.\n",
    "\n",
    "Per exemple:\n",
    "+ La ``llista=[0,0,1,1,1,1,1]`` conté 5 1s.\n",
    "+ La ``llista=[0,0,0,0,1,1]`` conté 2 1s."
   ]
  },
  {
   "cell_type": "code",
   "execution_count": 38,
   "metadata": {
    "collapsed": true
   },
   "outputs": [],
   "source": [
    "# Inserir aquí el codi de la solució\n",
    "\n",
    "def Nombre1(llista):\n",
    "    \"\"\"\n",
    "    Aquesta funció, donada una llista de nombres binaris ordenada,\n",
    "    troba de manera eficient el nombre d'1s que conté\n",
    "    :param llista, la llista de nombres binaris ordenada\n",
    "    :return el nombre d'1s que conté\n",
    "    \"\"\"\n",
    "    if len(llista)==0:\n",
    "        return 0\n",
    "    elif llista[0]==1:\n",
    "        return len(llista)\n",
    "    elif llista[-1]==0:\n",
    "        return 0\n",
    "    else:\n",
    "        mid= (len(llista))//2\n",
    "        if mid==0:\n",
    "            return Nombre1(llista[mid:])\n",
    "        else:\n",
    "            return Nombre1(llista[:mid])+Nombre1(llista[mid:])\n",
    "    \n",
    "    "
   ]
  },
  {
   "cell_type": "code",
   "execution_count": 39,
   "metadata": {},
   "outputs": [
    {
     "data": {
      "text/plain": [
       "5"
      ]
     },
     "execution_count": 39,
     "metadata": {},
     "output_type": "execute_result"
    }
   ],
   "source": [
    "Nombre1([0,0,1,1,1,1,1])"
   ]
  },
  {
   "cell_type": "code",
   "execution_count": 3,
   "metadata": {
    "collapsed": true
   },
   "outputs": [],
   "source": [
    "def recbinsearch(k, nums, low, high):\n",
    "# low, high defineixen els limits de la llista\n",
    "# on buscar, així no cal crear noves llistes\n",
    "    if low>high:\n",
    "        return -1\n",
    "    mid = (low + high) // 2\n",
    "    items = nums[mid]\n",
    "    if items == k:\n",
    "        return mid\n",
    "    elif k < items:\n",
    "        return recbinsearch(k,nums,low,mid-1)\n",
    "    else:\n",
    "        return recbinsearch(k,nums,mid+1,high)"
   ]
  },
  {
   "cell_type": "code",
   "execution_count": 4,
   "metadata": {},
   "outputs": [
    {
     "data": {
      "text/plain": [
       "2"
      ]
     },
     "execution_count": 4,
     "metadata": {},
     "output_type": "execute_result"
    }
   ],
   "source": [
    "recbinsearch(3,[1,2,3,4,5,6,7,8,9], 0, 8)"
   ]
  },
  {
   "cell_type": "markdown",
   "metadata": {},
   "source": [
    "#### Pregunta 4.1 Si plantegem el problema com un algorisme recursiu, quins serien els casos base? Observa els següents casos:\n",
    "\n",
    "- Llista:``[]``\n",
    "- Llista:``[0,0]``\n",
    "- Llista:``[1,1,1,1,1,1]``\n",
    "- Llista:``[0,1,1]``"
   ]
  },
  {
   "cell_type": "markdown",
   "metadata": {},
   "source": [
    "*Indica aquí la teva solució*"
   ]
  },
  {
   "cell_type": "markdown",
   "metadata": {},
   "source": [
    "#### Pregunta 4.2 Calcula la complexitat de l'algorisme pel teorema màster"
   ]
  },
  {
   "cell_type": "markdown",
   "metadata": {},
   "source": [
    "*Indica aquí la teva solució*"
   ]
  },
  {
   "cell_type": "markdown",
   "metadata": {},
   "source": [
    "## Problema 5: Elements Pic"
   ]
  },
  {
   "cell_type": "markdown",
   "metadata": {},
   "source": [
    "Donada una llista d’enters, trobar un dels elements *pic*. Un enter serà un element *pic* si els seus veïns immediats són menors que ell. "
   ]
  },
  {
   "cell_type": "markdown",
   "metadata": {},
   "source": [
    "<div style=\"font-style:italic\">\n",
    "Per exemple:\n",
    "<ul>\n",
    "<li>Llista=[3,1,5,2,7,8]</li>\n",
    "<li>Solució:\n",
    "   <ul>\n",
    "   <li>Un dels elements pic és el 3</li>\n",
    "   <li>En aquesta llista en realitat hi ha diversos elements pic: el 3, el 5 i el 8.</li>\n",
    "   </ul>\n",
    "</li>\n",
    "<li>Llista=[9,5,2]</li>\n",
    "<li>Solució:\n",
    "   <ul>\n",
    "   <li>Un dels elements pic és el 9</li>\n",
    "   <li>En una llista ordenada en ordre descendent, l'element pic sempre serà el primer enter.</li>\n",
    "   </ul>\n",
    "</li>\n",
    "<li>Llista=[1,2,7,8]</li>\n",
    "<li>Solució:\n",
    "   <ul>\n",
    "   <li>Un dels elements pic és el 8</li>\n",
    "   <li>En una llista ordenada en ordre ascendent, l'element pic sempre serà el darrer enter.</li>\n",
    "   </ul>\n",
    "</li>\n",
    "</ul>\n",
    "</div>"
   ]
  },
  {
   "cell_type": "code",
   "execution_count": 1,
   "metadata": {},
   "outputs": [
    {
     "ename": "AssertionError",
     "evalue": "",
     "output_type": "error",
     "traceback": [
      "\u001b[1;31m---------------------------------------------------------------------------\u001b[0m",
      "\u001b[1;31mAssertionError\u001b[0m                            Traceback (most recent call last)",
      "\u001b[1;32m<ipython-input-1-a5dc99a2a958>\u001b[0m in \u001b[0;36m<module>\u001b[1;34m()\u001b[0m\n\u001b[0;32m     17\u001b[0m \u001b[1;33m\u001b[0m\u001b[0m\n\u001b[0;32m     18\u001b[0m \u001b[1;33m\u001b[0m\u001b[0m\n\u001b[1;32m---> 19\u001b[1;33m \u001b[1;32massert\u001b[0m \u001b[0melementPic\u001b[0m\u001b[1;33m(\u001b[0m\u001b[1;33m[\u001b[0m\u001b[1;36m1\u001b[0m\u001b[1;33m,\u001b[0m\u001b[1;36m2\u001b[0m\u001b[1;33m,\u001b[0m\u001b[1;36m7\u001b[0m\u001b[1;33m,\u001b[0m\u001b[1;36m8\u001b[0m\u001b[1;33m]\u001b[0m\u001b[1;33m)\u001b[0m \u001b[1;33m==\u001b[0m \u001b[1;36m8\u001b[0m\u001b[1;33m\u001b[0m\u001b[0m\n\u001b[0m",
      "\u001b[1;31mAssertionError\u001b[0m: "
     ]
    }
   ],
   "source": [
    "def elementPic(llista):\n",
    "    \"\"\"\n",
    "Donada una llista d’enters, trobar un dels elements pic.\n",
    "Un enter serà un element pic si els seus veïns immediats són menors que ell.\n",
    ":param llista, la llista d'enters\n",
    ":return els elements pics o -1 si no en troba\n",
    "\"\"\"\n",
    "    i=0\n",
    "    if llista[i]<llista[i+1]:\n",
    "        i+=1\n",
    "    else:\n",
    "        return ll\n",
    "\n",
    "            \n",
    "        \n",
    "    \n",
    "    \n",
    "\n",
    "assert elementPic([1,2,7,8]) == 8\n"
   ]
  },
  {
   "cell_type": "code",
   "execution_count": 2,
   "metadata": {},
   "outputs": [],
   "source": [
    "#elementPic([1,2,7,8])\n",
    "elementPic([1,2,7,5,6,7])\n"
   ]
  },
  {
   "cell_type": "markdown",
   "metadata": {},
   "source": [
    "#### Pregunta 5.1: Si plantegem el problema com un algorisme recursiu. Quins són els casos base? Observeu les següents llistes:\n",
    "\n",
    "- ```llista1 = [8,9,10,2,5,6]```\n",
    "- ```llista2 = [8,9,10,12,15]```\n",
    "- ```llista3 = [10,8,6,5,3,2]```"
   ]
  },
  {
   "cell_type": "markdown",
   "metadata": {},
   "source": [
    "Els que estan envoltats de números menors...."
   ]
  },
  {
   "cell_type": "markdown",
   "metadata": {},
   "source": [
    "#### Pregunta 5.2: Calcula la complexitat de l'algorisme amb el teorema màster."
   ]
  },
  {
   "cell_type": "markdown",
   "metadata": {},
   "source": [
    "*Indica aquí la teva solució*"
   ]
  },
  {
   "cell_type": "markdown",
   "metadata": {},
   "source": [
    "## Problema 6: Nombres estrictament creixents"
   ]
  },
  {
   "cell_type": "markdown",
   "metadata": {},
   "source": [
    "<p style=\"font-family:Arial;font-size:1em\">\n",
    "Donat un enter N entre 1 i 9, trobar tots els nombres amb N dígits, dels quals el valor és estrictament creixent.\n",
    "</p>"
   ]
  },
  {
   "cell_type": "markdown",
   "metadata": {},
   "source": [
    "*Per exemple*:\n",
    "+ N=8\n",
    "+ Solució: 12345678, 12345679, 12345689, 12346789, 12356789, 12456789, 13456789, 23456789"
   ]
  },
  {
   "cell_type": "code",
   "execution_count": 9,
   "metadata": {
    "collapsed": true
   },
   "outputs": [],
   "source": [
    "def estrCreix(n):\n",
    "    \"\"\"\n",
    "Aquesta funció troba tots els nombres amb N dígits, amb valor\n",
    "estrictament creixent\n",
    ":param n, un enter entre 1 i 9\n",
    ":return no retorna res, mostra el resultat per pantalla\n",
    "\"\"\"\n",
    "#S'haurà de anar canviat un nombre, però sempre tindrem en la primera posició l'1 i el 2\n",
    "    estrCreixRec(str(''),n,0)\n",
    "    \n",
    "\n",
    "    \n",
    "    \n",
    "\n",
    "\n",
    "def estrCreixRec(cadena, n, previ):\n",
    "    \"\"\"\n",
    "Aquesta funció troba tots els nombres amb N dígits, amb valor\n",
    " estrictament creixent\n",
    ":param cadena, una cadena amb la preparació d'un nombre creixent amb x dígits\n",
    ":param n, un enter entre 1 i 9, que en aquest cas indica els dígit que falta\n",
    "          completar\n",
    ":param previ, el darrer dígit de la cadena\n",
    ":return no retorna res, mostra el resultat per pantalla\n",
    "\"\"\"\n",
    "    if n==0:\n",
    "        print(cadena)\n",
    "    \n",
    "    for i in range(previ+1,(10-n+1)%11):\n",
    "        estrCreixRec(cadena+str(i),n-1,i)\n",
    "            \n",
    "            \n",
    "    \n",
    "\n"
   ]
  },
  {
   "cell_type": "code",
   "execution_count": 13,
   "metadata": {},
   "outputs": [
    {
     "name": "stdout",
     "output_type": "stream",
     "text": [
      "123456789\n"
     ]
    }
   ],
   "source": [
    "estrCreix(9)"
   ]
  },
  {
   "cell_type": "markdown",
   "metadata": {},
   "source": [
    "#### Pregunta 6.1: Quina solució hauria de donar per als següents valors:"
   ]
  },
  {
   "cell_type": "markdown",
   "metadata": {},
   "source": [
    "- N=9\n",
    "- N=2"
   ]
  },
  {
   "cell_type": "markdown",
   "metadata": {},
   "source": [
    "N=9 123456789\n",
    "Per a n=2\n",
    "12\n",
    "13\n",
    "14\n",
    "15\n",
    "16\n",
    "17\n",
    "18\n",
    "19\n",
    "23\n",
    "24\n",
    "25\n",
    "26\n",
    "27\n",
    "28\n",
    "29\n",
    "34\n",
    "35\n",
    "36\n",
    "37\n",
    "38\n",
    "39\n",
    "45\n",
    "46\n",
    "47\n",
    "48\n",
    "49\n",
    "56\n",
    "57\n",
    "58\n",
    "59\n",
    "67\n",
    "68\n",
    "69\n",
    "78\n",
    "79\n",
    "89"
   ]
  },
  {
   "cell_type": "markdown",
   "metadata": {},
   "source": [
    "#### Pregunta 6.2: Imaginem que volem construir un número de 7 dígits (N=7) i que ja tenim escrit el nombre fins al dígit 6è (123456). Quantes crides recursives ha de fer el programa encara?"
   ]
  },
  {
   "cell_type": "markdown",
   "metadata": {},
   "source": [
    "Ha de fer la crida que correspon al 7,8 i 9: 3 crides"
   ]
  },
  {
   "cell_type": "markdown",
   "metadata": {},
   "source": [
    "#### Pregunta 6.3: Totes les crides recursives generaran cadenes correctes? se t'acudeix alguna millora?"
   ]
  },
  {
   "cell_type": "markdown",
   "metadata": {},
   "source": [
    "Si, crec que el programa no dona errors"
   ]
  },
  {
   "cell_type": "markdown",
   "metadata": {},
   "source": [
    "#### Pregunta 6.4: La complexitat d'aquest algorisme es pot calcular pel teorema del màster? per què?"
   ]
  },
  {
   "cell_type": "markdown",
   "metadata": {},
   "source": []
  }
 ],
 "metadata": {
  "kernelspec": {
   "display_name": "Python 3",
   "language": "python",
   "name": "python3"
  },
  "language_info": {
   "codemirror_mode": {
    "name": "ipython",
    "version": 3
   },
   "file_extension": ".py",
   "mimetype": "text/x-python",
   "name": "python",
   "nbconvert_exporter": "python",
   "pygments_lexer": "ipython3",
   "version": "3.6.1"
  }
 },
 "nbformat": 4,
 "nbformat_minor": 2
}
