{
 "cells": [
  {
   "cell_type": "markdown",
   "metadata": {},
   "source": [
    "# Sessió de problemes 5: Recursivitat, teorema Màster i fitxers"
   ]
  },
  {
   "cell_type": "markdown",
   "metadata": {},
   "source": [
    "## Problema 1: Força bruta: producte de conjunts\n",
    "\n",
    "Donats dos conjunts, $A$ i $B$, el producte d'aquests dos conjunts és el conjunt $A \\times B$ format per totes les parelles ordenades $(a, b)$ en què $a \\in A$ i $b \\in B$.\n",
    "\n",
    "Si tenim un nombre conegut de conjunts és fàcil fer-ho amb comprehensions:"
   ]
  },
  {
   "cell_type": "code",
   "execution_count": null,
   "metadata": {
    "collapsed": true
   },
   "outputs": [],
   "source": [
    "{a+b+c for a in {'A','B','C'} for b in {'D','E','F'} for c in {'G','H'}}"
   ]
  },
  {
   "cell_type": "markdown",
   "metadata": {},
   "source": [
    "Però si volem fer una funció que calculi el producte d'un nombre variable de conjunts, ja no es tant fàcil fer-ho amb comprensions i ho és més fer-ho recursivament. Com ho farieu?"
   ]
  },
  {
   "cell_type": "code",
   "execution_count": null,
   "metadata": {
    "collapsed": true
   },
   "outputs": [],
   "source": [
    "a = {'A','B','C'} \n",
    "b = {'D','E','F'} \n",
    "c = {'G','H'}\n",
    "l1 = [a,b,c]\n",
    "l2 = [a,b]\n",
    "\n",
    "def set_prod(l):\n",
    "    pass\n",
    "\n",
    "assert set_prod(l1) == {'ADG', 'ADH', 'AEG', 'AEH', 'AFG', 'AFH', 'BDG', 'BDH', 'BEG', 'BEH', 'BFG', 'BFH', 'CDG', 'CDH', 'CEG', 'CEH', 'CFG', 'CFH'}\n",
    "\n",
    "assert set_prod(l2) == {'AD', 'AE', 'AF', 'BD', 'BE', 'BF', 'CD', 'CE', 'CF'}"
   ]
  },
  {
   "cell_type": "markdown",
   "metadata": {},
   "source": [
    "## Problema 2: Combinacions de tecles"
   ]
  },
  {
   "cell_type": "markdown",
   "metadata": {},
   "source": [
    "<img src=\"keypad.png\" width=\"250px\" alt=\"2 ABC, 3 DEF, 4 GHI, 5 JKL, 6 MNO, 7 PQRS, 8 TUV, 9 WXYZ\" style=\"float:left; margin:0 10px 0 0\" /> \n",
    "\n",
    "\n",
    "Donada una seqüència de nombres entre 2 i 9, mostrar totes les possibles paraules que es poden formar amb les lletres associades a aquests nombres en un teclat de mòbil antic, com el que està dibuixat aquí.\n"
   ]
  },
  {
   "cell_type": "markdown",
   "metadata": {},
   "source": [
    "<div style=\"font-style:italic\">\n",
    "Per exemple:\n",
    "<ul>\n",
    "<li>Tecles=[tecla2,tecla3,tecla4]</li>\n",
    "<li>Solució:\n",
    "   <ul>\n",
    "   <li>ADG, BDG, AEG, BEG, CEG, AFG, BFG, CFG, ADH, BDH, CDH, AEH, BEH, CEH, AFH, BFH, CFH, ADI, BDI, CDI, AEI, BEI, CEI, AFI, BFI, CFI</li>\n",
    "   </ul>\n",
    "</li>\n",
    "</ul>\n",
    "</div>"
   ]
  },
  {
   "cell_type": "code",
   "execution_count": 1,
   "metadata": {},
   "outputs": [
    {
     "data": {
      "text/plain": [
       "['ADG',\n",
       " 'ADH',\n",
       " 'ADI',\n",
       " 'AEG',\n",
       " 'AEH',\n",
       " 'AEI',\n",
       " 'AFG',\n",
       " 'AFH',\n",
       " 'AFI',\n",
       " 'BDG',\n",
       " 'BDH',\n",
       " 'BDI',\n",
       " 'BEG',\n",
       " 'BEH',\n",
       " 'BEI',\n",
       " 'BFG',\n",
       " 'BFH',\n",
       " 'BFI',\n",
       " 'CDG',\n",
       " 'CDH',\n",
       " 'CDI',\n",
       " 'CEG',\n",
       " 'CEH',\n",
       " 'CEI',\n",
       " 'CFG',\n",
       " 'CFH',\n",
       " 'CFI']"
      ]
     },
     "execution_count": 1,
     "metadata": {},
     "output_type": "execute_result"
    }
   ],
   "source": [
    "# inserir aquí la solució\n",
    "\n",
    "tecla2 = ['A', 'B', 'C']\n",
    "tecla3 = ['D', 'E', 'F']\n",
    "tecla4 = ['G', 'H', 'I']\n",
    "tecla5 = ['J', 'K', 'L']\n",
    "tecla6 = ['M', 'N', 'O']\n",
    "tecla7 = ['P', 'Q', 'R', 'S']\n",
    "tecla8 = ['T', 'U', 'V']\n",
    "tecla9 = ['W', 'X', 'Y', 'Z']\n",
    "  \n",
    "def combinacions(teclat):\n",
    "    \"\"\"\n",
    "Donada una seqüència de nombres entre 2 i 9,\n",
    "aquest programa mostra totes les possibles paraules que es poden formar\n",
    "amb les lletres associades a aquests nombres en un teclat de mòbil antic\n",
    ":param tecles, una llista de les tecles per formar paraules\n",
    ":return no retorna res, mostra les paraules per pantalla\n",
    "\"\"\"\n",
    "    if len(teclat) == 1:\n",
    "        return teclat[0]\n",
    "    elif len(teclat) == 2:\n",
    "        return [a+b for a in teclat[0] for b in teclat[1]]\n",
    "    else:\n",
    "        return combinacions([teclat[0],combinacions(teclat[1:])])\n",
    "    \n",
    "teclat=[tecla2,tecla3,tecla4]\n",
    "combinacions(teclat)"
   ]
  },
  {
   "cell_type": "markdown",
   "metadata": {},
   "source": [
    "Escriviu una versió de la solució en la que llegiu les lletres associades a cada tecla des del fitxer \"tecles.txt\" que us facilitem."
   ]
  },
  {
   "cell_type": "code",
   "execution_count": 3,
   "metadata": {},
   "outputs": [
    {
     "data": {
      "text/plain": [
       "['ADG',\n",
       " 'ADH',\n",
       " 'ADI',\n",
       " 'AEG',\n",
       " 'AEH',\n",
       " 'AEI',\n",
       " 'AFG',\n",
       " 'AFH',\n",
       " 'AFI',\n",
       " 'BDG',\n",
       " 'BDH',\n",
       " 'BDI',\n",
       " 'BEG',\n",
       " 'BEH',\n",
       " 'BEI',\n",
       " 'BFG',\n",
       " 'BFH',\n",
       " 'BFI',\n",
       " 'CDG',\n",
       " 'CDH',\n",
       " 'CDI',\n",
       " 'CEG',\n",
       " 'CEH',\n",
       " 'CEI',\n",
       " 'CFG',\n",
       " 'CFH',\n",
       " 'CFI']"
      ]
     },
     "execution_count": 3,
     "metadata": {},
     "output_type": "execute_result"
    }
   ],
   "source": [
    "# inserir aquí la solució (atenció: vigileu amb els \\n de final de línia)\n",
    "\n",
    "file = open(\"tecles.txt\", \"r\") \n",
    "for l in file:\n",
    "    l = l.replace(\",\",\"\")\n",
    "    l = l.replace(\"\\n\",\"\")\n",
    "file.close() \n",
    "\n",
    "teclat=[tecla2,tecla3,tecla4]\n",
    "combinacions(teclat)"
   ]
  },
  {
   "cell_type": "code",
   "execution_count": 2,
   "metadata": {},
   "outputs": [
    {
     "name": "stdout",
     "output_type": "stream",
     "text": [
      "['A', 'B', 'C']\n",
      "['D', 'E', 'F']\n",
      "['G', 'H', 'I']\n",
      "['J', 'K', 'L']\n",
      "['M', 'N', 'O']\n",
      "['P', 'Q', 'R', 'S']\n",
      "['T', 'U', 'V']\n",
      "['W', 'X', 'Y', 'Z']\n"
     ]
    }
   ],
   "source": [
    "with open(\"tecles.txt\") as fitxer:\n",
    "    tecles=[]\n",
    "    for l in fitxer:\n",
    "        tecles.append(l.replace('\\n','').split(','))\n",
    "\n",
    "for tecla in tecles:\n",
    "    print(tecla)"
   ]
  },
  {
   "cell_type": "markdown",
   "metadata": {},
   "source": [
    "#### Pregunta 2.1: Quantes combinacions es poden crear amb 3 tecles? Quines combinacions es poden crear amb [2,3]?"
   ]
  },
  {
   "cell_type": "markdown",
   "metadata": {},
   "source": [
    "*Indica aquí la teva solució*\n",
    "\n",
    "Depèn, el nombre de combinacions és igual a multiplicar el nombre de lletres associat a cada tecla. Però no totes tenen el mateix nombre de lletres associat.\n",
    "Si a les tecles no hi apareix ni el 7 ni el 9 es podran crear 3x3x3 combinacions Si a les tecles hi ha el 7 o el 9 un sol cop es podran crear 3x3x4 combinacions Si a les tecles hi ha el 7 i el 9 o un dels dos apareix dos cops es podran crear 3x4x4 combinacions Si a les tecles hi apareixen 3 cops el 7 o el 9 o una combinació d'ambdós es podran crear 4x4x4\n",
    "Amb 2,3 es poden crear les següents combinacions: AD, AE, AF, BD, BE, BF, CD, CE, CF"
   ]
  },
  {
   "cell_type": "markdown",
   "metadata": {},
   "source": [
    "#### Pregunta 2.2: Si $N$ és el nombre de tecles d'entrada, quina és la complexitat d'aquest algorisme?\n",
    "\n",
    "**Atenció**: abans de respondre comproveu si l'algorisme compleix els requisits per usar el teorema del màster, en cas contrari feu el càlcul de complexitat per combinatòria."
   ]
  },
  {
   "cell_type": "markdown",
   "metadata": {},
   "source": [
    "*Indica aquí la teva solució*\n",
    "\n",
    "$M^N$, on $M$ és el nombre d'elements i $N$ el de conjunts."
   ]
  },
  {
   "cell_type": "markdown",
   "metadata": {},
   "source": [
    "## Problema 3: Càlcul de complexitat\n",
    "\n",
    "#### Pregunta 3.1. Calcula la complexitat de la següent funció recursiva, considerant la mida $n$ dels nombres en bits."
   ]
  },
  {
   "cell_type": "code",
   "execution_count": 2,
   "metadata": {},
   "outputs": [
    {
     "data": {
      "text/plain": [
       "162179424523293"
      ]
     },
     "execution_count": 2,
     "metadata": {},
     "output_type": "execute_result"
    }
   ],
   "source": [
    "def multiplica(x, y):\n",
    "    \"\"\"\n",
    "    Aquesta funció retorna la multiplicació de dos nombres expressats en binari\n",
    "    :param: x,y són nombres binaris introduits com a cadenes de text\n",
    "    :return: el resultat de la multiplicació\n",
    "    \"\"\"\n",
    "    n = max(len(x), len(y))\n",
    "    if n == 1:\n",
    "        return int(x)*int(y)\n",
    "    xleft, xright = x[:n//2], x[n//2:]\n",
    "    yleft, yright = y[:n//2], y[n//2:]\n",
    "    p1 = multiplica(xleft, yleft)\n",
    "    p2 = multiplica(xright, yright)\n",
    "    p3 = multiplica(str(int(xleft)+int(xright)), \n",
    "                    str(int(yleft)+int(yright)))\n",
    "    return p1*2**n+(p3-p1-p2)*2**(n//2)+p2\n",
    "\n",
    "multiplica(\"111111111111111000000111\",\"111111111111111000000111\") "
   ]
  },
  {
   "cell_type": "markdown",
   "metadata": {},
   "source": [
    "Solució\n",
    "\n",
    "a) Apuntem les complexitats de les operacions simples: \n",
    "\n",
    "| Operació | Complexitat |\n",
    "| -------- | ----------- |\n",
    "|  len(x)  |  O(1) |\n",
    "| max(a,b) | O(1) | \n",
    "| slice | O(k)=O(n/2) | \n",
    "| int(str) | O(n)  |\n",
    "| str(int) | O(n) |\n",
    "\n",
    "    \n",
    "b) Apuntem la complexitat de cada bloc de codi\n",
    "\n",
    "| Bloc | Complexitat |\n",
    "| -------- | ----------- |\n",
    "| ``n=max(len(x),len(y))``  | O($1$) |\n",
    "| ``if n==1: return int(x)*int(y)``   |  O($n^2$)  on n és la longitud del més llarg d'ambdós nombres | \n",
    "|  ``xleft,xright=x[:n/2],x[n/2:]`` |  O($n/2$)+O($n/2$) => O($n$) | \n",
    "|  ``str(int(xleft)+int(xright))`` |  O($n$)+O($n$)+O($n$) => O($n$) | \n",
    "|  ``p1*2**n+(p3-p1-p2)*2**(n/2)+p2`` |  O($n^2$) | \n",
    "\n",
    "     \n",
    "c) Determinem els paràmetres del teorema de màster:  a =  , b =  , d =  . \n",
    "\n",
    "$a = 3, b = 2, d = 2$. \n",
    "       \n",
    "d) Identifiquem el cas pertinent (cas  ) i apliquem el teorema de màster: O( ).\n",
    "\n",
    "O($n^2$).\n",
    "    \n",
    "La funció multiplica té un cost  quadratic   respecte al nombre de bits del nombre més llarg.\n",
    "    "
   ]
  },
  {
   "cell_type": "markdown",
   "metadata": {},
   "source": [
    "#### Pregunta 3.2 Calcula la complexitat segons el teorema de màster:\n",
    "\n",
    "<ol style=\"list-style-type:lower-alpha\">\n",
    "<li>$T(n)=2T(n/2)+n^{4}$</li>\n",
    "<li>$T(n)=T(7n/10)+n$</li>\n",
    "<li>$T(n)=16T(n/4)+n^{2}$</li>\n",
    "<li>$T(n)=2T(n/4)+sqrt(n)$</li>\n",
    "</ol>\n",
    "\n",
    "<p>Solució</p>\n",
    "<ol style=\"list-style-type: lower-alpha\">\n",
    "<li>$T(n)=2T(n/2)+n^{4}$ => a=2; b=2; d=4; cas 1 $O(nd)$=> $O(n^4)$</li>\n",
    "<li>$T(n)=T(7n/10)+n^{-1}$ => a=1; b=7/10; d=-1; cas 3 $O(n^{log_{b}a})$=> $O(1)$</li>\n",
    "<li>$T(n)=16T(n/4)+n^{2}$ => a=16; b=4; d=2; cas 2 $O(n^{d}log n)$=> $O(n^2 log n)$</li>\n",
    "<li> \n",
    "</ol>"
   ]
  },
  {
   "cell_type": "markdown",
   "metadata": {},
   "source": [
    "## Problema 4: Quantitat d'1s a una llista binària"
   ]
  },
  {
   "cell_type": "markdown",
   "metadata": {},
   "source": [
    "Donada una llista de nombres binaris ordenada, trobar de manera eficient el nombre d'1s que conté.\n",
    "\n",
    "Per exemple:\n",
    "+ La ``llista=[0,0,1,1,1,1,1]`` conté 5 1s.\n",
    "+ La ``llista=[0,0,0,0,1,1]`` conté 2 1s."
   ]
  },
  {
   "cell_type": "code",
   "execution_count": null,
   "metadata": {
    "collapsed": true
   },
   "outputs": [],
   "source": [
    "# Inserir aquí el codi de la solució\n",
    "\n",
    "def Nombre1(llista):\n",
    "    \"\"\"\n",
    "    Aquesta funció, donada una llista de nombres binaris ordenada,\n",
    "    troba de manera eficient el nombre d'1s que conté\n",
    "    :param llista, la llista de nombres binaris ordenada\n",
    "    :return el nombre d'1s que conté\n",
    "    \"\"\"\n",
    "    pass"
   ]
  },
  {
   "cell_type": "code",
   "execution_count": null,
   "metadata": {
    "collapsed": true
   },
   "outputs": [],
   "source": [
    "Nombre1([0,0,1,1,1,1,1])"
   ]
  },
  {
   "cell_type": "code",
   "execution_count": 2,
   "metadata": {
    "collapsed": true
   },
   "outputs": [],
   "source": [
    "# Inserir aquí el codi de la solució\n",
    "# te complexitat log n \n",
    "\n",
    "def Nombre1(llista):\n",
    "    \"\"\"\n",
    "    Aquesta funció, donada una llista de nombres binaris ordenada,\n",
    "    troba de manera eficient el nombre d'1s que conté\n",
    "    :param llista, la llista de nombres binaris ordenada\n",
    "    :return el nombre d'1s que conté\n",
    "    \"\"\"\n",
    "    if len(llista) == 0 or llista[-1] == 0:\n",
    "        return 0\n",
    "        # la llista és buida\n",
    "        # o el darrer element és un 0 i no hi ha 1s\n",
    "    if llista[0] == 1:\n",
    "        return len(llista)\n",
    "        # si està ordenada i el primer element és un 1, tots ho seran\n",
    "    mid = len(llista) // 2\n",
    "    return Nombre1(llista[0:mid])+Nombre1(llista[mid:])\n",
    "            \n",
    "assert Nombre1([0,0,1,1,1,1,1]) == 5\n",
    "assert Nombre1([0,0,0,0,1,1]) == 2"
   ]
  },
  {
   "cell_type": "markdown",
   "metadata": {},
   "source": [
    "Escriu una versió en la que llegeixis les llistes del fitxer input.txt i retornis el nombre d'1s al fitxer output.txt"
   ]
  },
  {
   "cell_type": "code",
   "execution_count": 13,
   "metadata": {},
   "outputs": [
    {
     "name": "stdout",
     "output_type": "stream",
     "text": [
      "[0, 0]\n",
      "0\n",
      "[1, 1, 1, 1, 1]\n",
      "5\n",
      "[0, 1, 1]\n",
      "2\n",
      "[0, 0, 1, 1, 1, 1, 1]\n",
      "5\n",
      "[0, 0, 0, 0, 1, 1]\n",
      "2\n"
     ]
    }
   ],
   "source": [
    "with open(\"input.txt\") as fitxer:\n",
    "    for l in fitxer:\n",
    "        l = l.replace('\\n','').split(',')\n",
    "        l = [int(i) for i in l]\n",
    "        print(l)\n",
    "        print(Nombre1(l))"
   ]
  },
  {
   "cell_type": "markdown",
   "metadata": {},
   "source": [
    "#### Pregunta 4.1 Si plantegem el problema com un algorisme recursiu, quins serien els casos base? Observa els següents casos:\n",
    "\n",
    "- Llista:``[]``\n",
    "- Llista:``[0,0]``\n",
    "- Llista:``[1,1,1,1,1,1]``\n",
    "- Llista:``[0,1,1]``"
   ]
  },
  {
   "cell_type": "markdown",
   "metadata": {},
   "source": [
    "*Indica aquí la teva solució*\n",
    "\n",
    "Els casos base són:\n",
    "- quan la llista és buida => no hi ha cap 1\n",
    "- quan acaba en 0 => no hi ha cap 1\n",
    "- quan comença per 1 => tota la llista són 1"
   ]
  },
  {
   "cell_type": "markdown",
   "metadata": {},
   "source": [
    "#### Pregunta 4.2 Calcula la complexitat de l'algorisme pel teorema màster"
   ]
  },
  {
   "cell_type": "markdown",
   "metadata": {},
   "source": [
    "*Indica aquí la teva solució*\n",
    "\n",
    "- a=2 - fem dues crides recursives\n",
    "- b=2 - a cada crida recursiva la n es divideix per 2\n",
    "- d=1 - quan recomponem les funcions l'operació més costosa és la contatenació, d'ordre n\n",
    "\n",
    "cas 2 $d=log_ba$ => $O(n^dlogn)$ = $O(nlogn)$"
   ]
  },
  {
   "cell_type": "markdown",
   "metadata": {},
   "source": [
    "## Problema 5: Elements Pic"
   ]
  },
  {
   "cell_type": "markdown",
   "metadata": {},
   "source": [
    "Donada una llista d’enters, trobar **un** dels elements *pic* amb la menor complexitat possible. Un enter serà un element *pic* si els seus veïns immediats són menors que ell. "
   ]
  },
  {
   "cell_type": "markdown",
   "metadata": {},
   "source": [
    "<div style=\"font-style:italic\">\n",
    "Per exemple:\n",
    "<ul>\n",
    "<li>Llista=[3,1,5,2,7,8]</li>\n",
    "<li>Solució:\n",
    "   <ul>\n",
    "   <li>Un dels elements pic és el 3</li>\n",
    "   <li>En aquesta llista en realitat hi ha diversos elements pic: el 3, el 5 i el 8.</li>\n",
    "   </ul>\n",
    "</li>\n",
    "<li>Llista=[9,5,2]</li>\n",
    "<li>Solució:\n",
    "   <ul>\n",
    "   <li>Un dels elements pic és el 9</li>\n",
    "   <li>En una llista ordenada en ordre descendent, l'element pic sempre serà el primer enter.</li>\n",
    "   </ul>\n",
    "</li>\n",
    "<li>Llista=[1,2,7,8]</li>\n",
    "<li>Solució:\n",
    "   <ul>\n",
    "   <li>Un dels elements pic és el 8</li>\n",
    "   <li>En una llista ordenada en ordre ascendent, l'element pic sempre serà el darrer enter.</li>\n",
    "   </ul>\n",
    "</li>\n",
    "</ul>\n",
    "</div>"
   ]
  },
  {
   "cell_type": "code",
   "execution_count": null,
   "metadata": {
    "collapsed": true
   },
   "outputs": [],
   "source": [
    "def elementPic(llista):\n",
    "    \"\"\"\n",
    "Donada una llista d’enters, trobar un dels elements pic.\n",
    "Un enter serà un element pic si els seus veïns immediats són menors que ell.\n",
    ":param llista, la llista d'enters\n",
    ":return els elements pics o -1 si no en troba\n",
    "\"\"\"\n",
    "    pass\n",
    "\n",
    "assert elementPic([1,2,7,8]) == 8\n",
    "assert elementPic(elementPic([1,2,7,8,5,6,7])) == 8"
   ]
  },
  {
   "cell_type": "code",
   "execution_count": 23,
   "metadata": {},
   "outputs": [
    {
     "data": {
      "text/plain": [
       "10"
      ]
     },
     "execution_count": 23,
     "metadata": {},
     "output_type": "execute_result"
    }
   ],
   "source": [
    "def elementPic(llista):\n",
    "    \"\"\"\n",
    "Donada una llista d’enters, trobar un dels elements pic.\n",
    "Un enter serà un element pic si els seus veïns immediats són menors que ell.\n",
    ":param llista, la llista d'enters\n",
    ":return els elements pics o -1 si no en troba\n",
    "\"\"\"\n",
    "    # casos base\n",
    "    if len(llista) == 0:\n",
    "        return -1\n",
    "    elif len(llista) == 1:\n",
    "        return llista[0]\n",
    "    elif len(llista) == 2:\n",
    "        if llista[0] > llista[1]:\n",
    "            return llista[0]\n",
    "        else:\n",
    "            return llista[1]\n",
    "        \n",
    "    mid = len(llista) // 2\n",
    "    if llista[mid] > llista[mid-1]:\n",
    "        if llista[mid] > llista[mid+1]:\n",
    "            return llista[mid]\n",
    "            # mid és un element pic\n",
    "        else:\n",
    "            return elementPic(llista[mid:])\n",
    "            # seguim buscant per l'esquerra\n",
    "    else:\n",
    "        return elementPic(llista[:mid])\n",
    "        # seguim buscant per la dreta\n",
    "        \n",
    "elementPic([8,9,10,2,5,6])"
   ]
  },
  {
   "cell_type": "markdown",
   "metadata": {},
   "source": [
    "#### Pregunta 5.1: Si plantegem el problema com un algorisme recursiu. Quins són els casos base? Observeu les següents llistes:\n",
    "\n",
    "- ```llista1 = [8,9,10,2,5,6]```\n",
    "- ```llista2 = [8,9,10,12,15]```\n",
    "- ```llista3 = [10,8,6,5,3,2]```"
   ]
  },
  {
   "cell_type": "markdown",
   "metadata": {},
   "source": [
    "*Indica aquí la teva solució*"
   ]
  },
  {
   "cell_type": "markdown",
   "metadata": {},
   "source": [
    "#### Pregunta 5.2: Calcula la complexitat de l'algorisme amb el teorema màster."
   ]
  },
  {
   "cell_type": "markdown",
   "metadata": {},
   "source": [
    "*Indica aquí la teva solució*\n",
    "\n",
    "- a=1\n",
    "- b=2\n",
    "- d=0\n",
    "\n",
    "d>$log_ba$=0 => cas 1 => $O(n^d)$\n",
    "\n",
    "$O(log n)$"
   ]
  },
  {
   "cell_type": "markdown",
   "metadata": {},
   "source": [
    "## Problema 6: Nombres estrictament creixents"
   ]
  },
  {
   "cell_type": "markdown",
   "metadata": {},
   "source": [
    "<p style=\"font-family:Arial;font-size:1em\">\n",
    "Donat un enter N entre 1 i 9, trobar tots els nombres amb N dígits, dels quals el valor és estrictament creixent.\n",
    "</p>"
   ]
  },
  {
   "cell_type": "markdown",
   "metadata": {},
   "source": [
    "*Per exemple*:\n",
    "+ N=8\n",
    "+ Solució: 12345678, 12345679, 12345689, 12346789, 12356789, 12456789, 13456789, 23456789"
   ]
  },
  {
   "cell_type": "code",
   "execution_count": null,
   "metadata": {
    "collapsed": true
   },
   "outputs": [],
   "source": [
    "def estrCreix(n):\n",
    "    \"\"\"\n",
    "Aquesta funció troba tots els nombres amb N dígits, amb valor\n",
    "estrictament creixent\n",
    ":param n, un enter entre 1 i 9\n",
    ":return no retorna res, mostra el resultat per pantalla\n",
    "\"\"\"\n",
    "    pass\n",
    "\n",
    "\n",
    "def estrCreixRec(cadena, n, previ):\n",
    "    \"\"\"\n",
    "Aquesta funció troba tots els nombres amb N dígits, amb valor\n",
    " estrictament creixent\n",
    ":param cadena, una cadena amb la preparació d'un nombre creixent amb x dígits\n",
    ":param n, un enter entre 1 i 9, que en aquest cas indica els dígit que falta\n",
    "          completar\n",
    ":param previ, el darrer dígit de la cadena\n",
    ":return no retorna res, mostra el resultat per pantalla\n",
    "\"\"\"\n",
    "    pass\n",
    "\n",
    "estrCreix(8)"
   ]
  },
  {
   "cell_type": "code",
   "execution_count": 7,
   "metadata": {},
   "outputs": [
    {
     "name": "stdout",
     "output_type": "stream",
     "text": [
      "12\n",
      "13\n",
      "14\n",
      "15\n",
      "16\n",
      "17\n",
      "18\n",
      "19\n",
      "23\n",
      "24\n",
      "25\n",
      "26\n",
      "27\n",
      "28\n",
      "29\n",
      "34\n",
      "35\n",
      "36\n",
      "37\n",
      "38\n",
      "39\n",
      "45\n",
      "46\n",
      "47\n",
      "48\n",
      "49\n",
      "56\n",
      "57\n",
      "58\n",
      "59\n",
      "67\n",
      "68\n",
      "69\n",
      "78\n",
      "79\n",
      "89\n"
     ]
    }
   ],
   "source": [
    "def estrCreix(n):\n",
    "    \"\"\"\n",
    "Aquesta funció troba tots els nombres amb N dígits, amb valor\n",
    "estrictament creixent\n",
    ":param n, un enter entre 1 i 9\n",
    ":return no retorna res, mostra el resultat per pantalla\n",
    "\"\"\"\n",
    "    estrCreixRec(str(''), n, 0)\n",
    "\n",
    "\n",
    "def estrCreixRec(cadena, n, previ):\n",
    "    \"\"\"\n",
    "Aquesta funció troba tots els nombres amb N dígits, amb valor\n",
    " estrictament creixent\n",
    ":param cadena, una cadena amb la preparació d'un nombre creixent amb x dígits\n",
    ":param n, un enter entre 1 i 9, que en aquest cas indica els dígit que falta\n",
    "          completar\n",
    ":param previ, el darrer dígit de la cadena\n",
    ":return no retorna res, mostra el resultat per pantalla\n",
    "\"\"\"\n",
    "    if n==0:  # ja no queden dígits per calcular\n",
    "        print(cadena)\n",
    "    for i in range(previ+1, (10-n+1)%11):\n",
    "        estrCreixRec(cadena+str(i), n-1, i)\n",
    "        # fem 10-previ crides, pels valors entre previ i el màxim valor del dígit enèssim\n",
    "\n",
    "estrCreix(2)"
   ]
  },
  {
   "cell_type": "markdown",
   "metadata": {},
   "source": [
    "#### Pregunta 6.1: Quina solució hauria de donar per als següents valors:"
   ]
  },
  {
   "cell_type": "markdown",
   "metadata": {},
   "source": [
    "- N=9\n",
    "- N=2"
   ]
  },
  {
   "cell_type": "markdown",
   "metadata": {},
   "source": [
    "*Indica aquí la teva solució*\n",
    "\n",
    "N=9  123456789\n",
    "N= 2 12, 13, 14, 15, 16, 17, 18, 19, 23, 24, 25, 26, 27, 28, 29, 34, 35, 36, 37, 38, 39, 45, 46, 47, 48, 49, 56, 57, 58, 59, 67, 68, 69, 78, 79, 89 "
   ]
  },
  {
   "cell_type": "markdown",
   "metadata": {},
   "source": [
    "#### Pregunta 6.2: Imaginem que volem construir un número de 7 dígits (N=7) i que ja tenim escrit el nombre fins al dígit 6è (123456). Quantes crides recursives ha de fer el programa encara?"
   ]
  },
  {
   "cell_type": "markdown",
   "metadata": {},
   "source": [
    "*Indica aquí la teva solució*\n",
    "\n",
    "3 crides: una pel 7 una pel 8 i una pel 9"
   ]
  },
  {
   "cell_type": "markdown",
   "metadata": {},
   "source": [
    "#### Pregunta 6.3: Totes les crides recursives generaran cadenes correctes? se t'acudeix alguna millora?"
   ]
  },
  {
   "cell_type": "markdown",
   "metadata": {},
   "source": [
    "*Indica aquí la teva solució*\n",
    "\n",
    "La millora ja s'ha incorporat al codi evitant fer crides a nombres massa grans que no permetrien completar els dígits."
   ]
  },
  {
   "cell_type": "markdown",
   "metadata": {},
   "source": [
    "#### Pregunta 6.4: La complexitat d'aquest algorisme es pot calcular pel teorema del màster? per què?"
   ]
  },
  {
   "cell_type": "markdown",
   "metadata": {},
   "source": [
    "*Indica aquí la teva solució*\n",
    "\n",
    "perquè no segueix el patró de dividir la solució"
   ]
  }
 ],
 "metadata": {
  "kernelspec": {
   "display_name": "Python 3",
   "language": "python",
   "name": "python3"
  },
  "language_info": {
   "codemirror_mode": {
    "name": "ipython",
    "version": 3
   },
   "file_extension": ".py",
   "mimetype": "text/x-python",
   "name": "python",
   "nbconvert_exporter": "python",
   "pygments_lexer": "ipython3",
   "version": "3.6.1"
  }
 },
 "nbformat": 4,
 "nbformat_minor": 2
}
