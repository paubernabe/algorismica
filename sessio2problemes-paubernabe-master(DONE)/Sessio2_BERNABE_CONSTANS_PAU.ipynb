{
 "cells": [
  {
   "cell_type": "markdown",
   "metadata": {},
   "source": [
    "# Sessió 2: Python II\n",
    "\n",
    "Indicacions:\n",
    "+ Cada exercici s'ha de poder respondre executant una única funció (tot i que aquesta funció pot cridar altres funcions si és necessari)."
   ]
  },
  {
   "cell_type": "markdown",
   "metadata": {},
   "source": [
    "## Calculadora\n",
    "\n",
    "Creeu una funció anomenada `calculadora` que permeti fer operacions de suma, resta i multiplicació amb nombres naturals a partir d'una entrada que sigui `string`. L'usuari anirà entrant les operacions, i quan vulgui acabar farà `<Enter>`"
   ]
  },
  {
   "cell_type": "markdown",
   "metadata": {},
   "source": [
    "Exemple de funcionament:\n",
    "\n",
    "**Calculadora**\n",
    "\n",
    "     Entra operació: 4+5\n",
    "     9\n",
    "     Entra operació: 7-2\n",
    "     5\n",
    "     Entra operació: 1*4"
   ]
  },
  {
   "cell_type": "markdown",
   "metadata": {},
   "source": [
    "**Pregunta 1**: Quin tipus d'iteració cal per anar demanant dades a l'usuari? "
   ]
  },
  {
   "cell_type": "markdown",
   "metadata": {},
   "source": [
    "Utilitzarem el while amb \"sentinella\" perquè esperem contingut buit al acabar."
   ]
  },
  {
   "cell_type": "markdown",
   "metadata": {
    "collapsed": true
   },
   "source": [
    "**Pregunta 2**: Pensa en la descomposició de funcions. Creus que la funció `calculadora` es pot descomposar en altres? En quines?"
   ]
  },
  {
   "cell_type": "markdown",
   "metadata": {},
   "source": [
    "def suma (x,y)\n",
    "def resta (x,y)\n",
    "def mult (x,y)"
   ]
  },
  {
   "cell_type": "markdown",
   "metadata": {},
   "source": [
    "**Pregunta 3**: Escriu el codi de la funció."
   ]
  },
  {
   "cell_type": "code",
   "execution_count": 19,
   "metadata": {
    "collapsed": true
   },
   "outputs": [],
   "source": [
    "# Escriu aquí el codi de la funció/les funcions, \n",
    "# seguint les directrius d'estil PEP8\n",
    "\n",
    "def suma(x,y):\n",
    "    return x + y\n",
    "\"\"\"\n",
    "Aquesta funcio retorna la suma de dos nombres\n",
    ":param x y els dos operands\n",
    ":return la suma de x i y\n",
    "\"\"\"\n",
    "   \n",
    "    \n",
    "def resta(x,y):\n",
    "    return x - y\n",
    "\"\"\"\n",
    "Aquesta funcio retorna la resta de dos nombres\n",
    ":param son x i y els dos operands\n",
    ":return la resta de x i y\n",
    "\"\"\"\n",
    "       \n",
    "\n",
    "\n",
    "def mult(x,y):\n",
    "    return x * y\n",
    "\"\"\"\n",
    "Aquesta funcio retorna la multiplicació de dos nombres\n",
    ":param son x i y els dos operands\n",
    ":return la multiplicació de x i y\n",
    "\"\"\"\n",
    "    \n",
    "\n",
    "def calculadora():\n",
    "    op = input (\"Entra una operació\")\n",
    "    while op!= \" \":\n",
    "        if '+' in op:\n",
    "            llistaArguments = op.split('+')\n",
    "            x = int (llistaArguments [0])\n",
    "            y = int (llistaArguments [1])\n",
    "            print (suma(x, y))\n",
    "        elif '*' in op:\n",
    "            llistaArguments = op.split('*')\n",
    "            x = int (llistaArguments [0])\n",
    "            y = int (llistaArguments [1])\n",
    "            print (mult(x, y))\n",
    "        elif '-' in op:\n",
    "            llistaArguments = op.split('-')\n",
    "            x = int (llistaArguments [0])\n",
    "            y = int (llistaArguments [1])\n",
    "            print (resta(x, y))\n",
    "        op = input (\"Entra una operació\")\n",
    "        \n",
    "        \n",
    "            \n",
    "            \n",
    "    \n",
    "\n",
    "\n"
   ]
  },
  {
   "cell_type": "code",
   "execution_count": null,
   "metadata": {
    "collapsed": true
   },
   "outputs": [],
   "source": [
    "calculadora()"
   ]
  },
  {
   "cell_type": "markdown",
   "metadata": {},
   "source": [
    "## Compressió de dades Run Length Encoding (RLE):\n",
    "\n",
    "Escriu una funció que donat un text de lletres ASCII el codifiqui segons l’algorisme Run Length Encoding (RLE).\n",
    "\n",
    "\n",
    "Run Length Encoding és un algorisme de compressió de dades sense pèrdua que es basa en codificar els valors repetits un sol cop juntament amb el seu recompte.\n",
    "\n",
    "\n",
    "Per exemple, imaginem una pantalla amb text negre sobre blanc. Una línia d’aquesta pantalla podria ser:\n",
    "\n",
    "`BBBBBBBNBBBBBBBBBBBBBNNNBBBBBBBBBBBBNBBBBBBBBB`\n",
    "\n",
    "Aquesta línia es podria indicar de manera comprimida amb RLE com a:\n",
    "\n",
    "`B7N1B13N3B12N1B9`\n",
    "\n",
    "De manera que es podria reinterpretar com 7 caràcters blancs, 1 de negre, 13 de blancs, 3 de negres, 12 de blancs, 1 de negre i 9 de blancs recuperant la línia original sense cap pèrdua."
   ]
  },
  {
   "cell_type": "markdown",
   "metadata": {},
   "source": [
    "**Pregunta 1**: Quina solució hauria de donar per als següents valors:\n",
    "\n",
    "- `ABBBBNNNEEEDDDZZAAAAA` \n",
    "- `BBBBBBBBBBBBBBBBBWWWWWWZAAA`"
   ]
  },
  {
   "cell_type": "markdown",
   "metadata": {},
   "source": [
    "A1B4N3E3D3Z2A5\n",
    "B17W6Z1A3"
   ]
  },
  {
   "cell_type": "markdown",
   "metadata": {},
   "source": [
    "**Pregunta 2**: Quants caràcters s’escurça el text comprimit? Comenta el cas millor i el cas pitjor. "
   ]
  },
  {
   "cell_type": "markdown",
   "metadata": {},
   "source": [
    "En el primer cas escurça 7 caràcters(21-14=7) "
   ]
  },
  {
   "cell_type": "markdown",
   "metadata": {},
   "source": [
    "**Pregunta 3**: Escriu el codi de la funció."
   ]
  },
  {
   "cell_type": "code",
   "execution_count": 48,
   "metadata": {
    "collapsed": true
   },
   "outputs": [],
   "source": [
    "def rle(codi):\n",
    "    \n",
    "    long=len(codi)\n",
    "    coded=\"\"\n",
    "    if long==0:\n",
    "        return 0\n",
    "    \n",
    "    if long==1:\n",
    "        return s+\"1\"\n",
    "    \n",
    "    count=0\n",
    "    cin=1\n",
    "    \n",
    "    while cin<long:\n",
    "        if codi[cin]==codi[cin-1]:\n",
    "            count+=1\n",
    "        else:\n",
    "            coded=coded+codi[cin-1] +str(count)\n",
    "            count=1\n",
    "        cin+=1\n",
    "    \n",
    "    coded=coded+codi[cin-1]+str(count)\n",
    "\n",
    "    return coded    "
   ]
  },
  {
   "cell_type": "code",
   "execution_count": 49,
   "metadata": {},
   "outputs": [
    {
     "data": {
      "text/plain": [
       "'B7N1B13N3B12N1B9'"
      ]
     },
     "execution_count": 49,
     "metadata": {},
     "output_type": "execute_result"
    }
   ],
   "source": [
    "# Test de la funció\n",
    "\n",
    "rle(\"BBBBBBBBNBBBBBBBBBBBBBNNNBBBBBBBBBBBBNBBBBBBBBB\")\n",
    "\n",
    "# Hauria de retornar: B7N1B13N3B12N1B9"
   ]
  },
  {
   "cell_type": "markdown",
   "metadata": {},
   "source": [
    "**Pregunta 4**: Si el text és de llargada $N$, quantes operacions bàsiques cal fer per comprimir-lo?"
   ]
  },
  {
   "cell_type": "code",
   "execution_count": null,
   "metadata": {
    "collapsed": true
   },
   "outputs": [],
   "source": [
    "Llegir-lo,sumar cada valor igual i ordenar-los"
   ]
  },
  {
   "cell_type": "markdown",
   "metadata": {},
   "source": [
    "## Validar adreça IP\n",
    "\n",
    "Una adreça IPv4 vàlida ha de tenir la forma `XXX.XXX.XXX.XXX` en la que cada seqüència `XXX` pot prendre valors entre `0` i `255`."
   ]
  },
  {
   "cell_type": "markdown",
   "metadata": {},
   "source": [
    "**Pregunta 1**: Quina solució (`True` o `False`) hauria de donar per als següents valors: ¶\n",
    "    \n",
    "- `115.300.10.60` FALSE\n",
    "- `255.255.255.255` TRUE\n",
    "- `0000`FALSE\n",
    "- `1.0.0.0009`FALSE"
   ]
  },
  {
   "cell_type": "markdown",
   "metadata": {},
   "source": []
  },
  {
   "cell_type": "markdown",
   "metadata": {},
   "source": [
    "**Pregunta 2**: Escriu el codi de la funció."
   ]
  },
  {
   "cell_type": "code",
   "execution_count": 73,
   "metadata": {
    "collapsed": true
   },
   "outputs": [],
   "source": [
    "# Escriu el codi de la funció/les funcions, \n",
    "# seguint les directrius d'estil PEP8\n",
    "def validarIP(dip):\n",
    "    frag=dip.split('.')\n",
    "    if len(frag) != 4:\n",
    "        return False\n",
    "    \n",
    "    for j in frag:\n",
    "        if not j.isdigit():  #el mètode isdigit() ens confirma si el caràcter és realment un nombre.   \n",
    "             return False\n",
    "        \n",
    "        i=int(j)\n",
    "        if i>255 or i<0:\n",
    "            return False\n",
    "    \n",
    "    return True"
   ]
  },
  {
   "cell_type": "code",
   "execution_count": 75,
   "metadata": {},
   "outputs": [
    {
     "data": {
      "text/plain": [
       "False"
      ]
     },
     "execution_count": 75,
     "metadata": {},
     "output_type": "execute_result"
    }
   ],
   "source": [
    "# Test de la funció\n",
    "\n",
    "validarIP(\"255.255.255.255\")\n",
    "\n",
    "# Hauria de retornar: que és vàlida"
   ]
  },
  {
   "cell_type": "markdown",
   "metadata": {},
   "source": [
    "## Majúscules i minúscules\n",
    "\n",
    "Fer una funció `majMin` que, donada una lletra, si està en majúscula la converteixi a minúscula, si està en minúscula la converteixi a majúscula. A més ha de determinar la posició que ocupa a l’alfabet anglès."
   ]
  },
  {
   "cell_type": "markdown",
   "metadata": {},
   "source": [
    "** Pregunta 1**: Pensa en la descomposició de funcions. Creus que la funció es pot descomposar en altres? En quines?"
   ]
  },
  {
   "cell_type": "markdown",
   "metadata": {},
   "source": []
  },
  {
   "cell_type": "markdown",
   "metadata": {},
   "source": [
    "** Pregunta 2**: Escriu la funció."
   ]
  },
  {
   "cell_type": "code",
   "execution_count": 1,
   "metadata": {
    "collapsed": true
   },
   "outputs": [],
   "source": [
    "def majMin(ltr):\n",
    "    \n",
    "    for i in ltr[0]:\n",
    "        if i.lower()==ltr:\n",
    "            return i.upper(),ord(i)\n",
    "        else:\n",
    "            return i.lower(),ord(i)\n",
    "        \n",
    "        "
   ]
  },
  {
   "cell_type": "code",
   "execution_count": 2,
   "metadata": {},
   "outputs": [
    {
     "data": {
      "text/plain": [
       "('N', 110)"
      ]
     },
     "execution_count": 2,
     "metadata": {},
     "output_type": "execute_result"
    }
   ],
   "source": [
    "majMin('n')"
   ]
  },
  {
   "cell_type": "markdown",
   "metadata": {},
   "source": [
    "**Optatiu**: Implementeu la funció anterior usant les funcions `esMaj`, `conversioMin` i `conversioMaj` (que harien d'implementar les funcions derivades del seu nom) a partir dels codis de les lletres i d'operacions `and` i `or` amb els codis binaris (mireu apunts sobre *booleans*)."
   ]
  },
  {
   "cell_type": "code",
   "execution_count": null,
   "metadata": {
    "collapsed": true
   },
   "outputs": [],
   "source": [
    "# Escriu el codi de la funció/les funcions, \n",
    "# seguint les directrius d'estil PEP8\n",
    "\n"
   ]
  },
  {
   "cell_type": "markdown",
   "metadata": {},
   "source": [
    "<p style=\"text-align:right;font-size:0.9em\">\n",
    "&copy;Jordi Vitrià i Mireia Ribera\n",
    "</p>"
   ]
  }
 ],
 "metadata": {
  "kernelspec": {
   "display_name": "Python 3",
   "language": "python",
   "name": "python3"
  },
  "language_info": {
   "codemirror_mode": {
    "name": "ipython",
    "version": 3
   },
   "file_extension": ".py",
   "mimetype": "text/x-python",
   "name": "python",
   "nbconvert_exporter": "python",
   "pygments_lexer": "ipython3",
   "version": "3.6.1"
  }
 },
 "nbformat": 4,
 "nbformat_minor": 2
}
