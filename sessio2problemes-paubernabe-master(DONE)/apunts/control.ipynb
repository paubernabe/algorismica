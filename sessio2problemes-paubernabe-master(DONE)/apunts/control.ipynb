{
 "cells": [
  {
   "cell_type": "markdown",
   "metadata": {},
   "source": [
    "<p style=\"text-align:right;font-size:0.9em\">\n",
    "Grau d'Enginyeria Informàtica. Algorísmica. Curs 2017-2018\n",
    "</p>"
   ]
  },
  {
   "cell_type": "markdown",
   "metadata": {},
   "source": [
    "<h1 style=\"padding:0.5em 0;font:Garamond;font-size:1-5em;color:#F90;background-color:#005\">\n",
    "Apunts de Python: Estructures de control\n",
    "</h1>"
   ]
  },
  {
   "cell_type": "markdown",
   "metadata": {},
   "source": [
    "Documentació de Python relacionada:\n",
    "- Compound statements: https://docs.python.org/3/reference/compound_stmts.html"
   ]
  },
  {
   "cell_type": "markdown",
   "metadata": {},
   "source": [
    "Les estructures de control ens permeten alterar la seqüència d'execució de les instruccions d'un programa.\n",
    "\n",
    "Sense elles els programes s'executarien sempre línia a línia."
   ]
  },
  {
   "cell_type": "markdown",
   "metadata": {},
   "source": [
    "## Condicionals"
   ]
  },
  {
   "cell_type": "markdown",
   "metadata": {},
   "source": [
    "Podem decidir quin codi executar a partir d’una comprovació amb if,elif i else. \n",
    "\n",
    "El programa primer avaluarà la condició de l’if, i si es compleix executarà el codi indentat a continuació. Si no es compleix passarà a avaluar la condició de l’elif (poden haver tants elifs com siguin necessaris o pot no haver-n'hi cap), i així fins a que cap es compleixi, cas en el què s’executaran les instruccions de l’else."
   ]
  },
  {
   "cell_type": "code",
   "execution_count": 1,
   "metadata": {},
   "outputs": [
    {
     "name": "stdout",
     "output_type": "stream",
     "text": [
      "a és major que 4\n"
     ]
    }
   ],
   "source": [
    "# Exemple\n",
    "a = 5\n",
    "if a > 4:\n",
    "    print(\"a és major que 4\")\n",
    "elif a > 2:\n",
    "    print(\"a és major que 2 i igual o menor que 4\")\n",
    "else:\n",
    "    print(\"a és igual o menor que 2\")\n",
    "\n",
    "# Prova el mateix exemple canviant el valor d'a per a = 3 i per a = 1"
   ]
  },
  {
   "cell_type": "markdown",
   "metadata": {},
   "source": [
    "## Bucles"
   ]
  },
  {
   "cell_type": "markdown",
   "metadata": {},
   "source": [
    "<p style=\"font-family:Arial;font-size:1em\">\n",
    "Els bucles són estructures que ens permeten repetir un conjunt d’instruccions amb diferents valors.\n",
    "La repetició ve determinada o bé pel compliment d'una condició o per un rang de valors a recorrer.\n",
    "</p>"
   ]
  },
  {
   "cell_type": "code",
   "execution_count": 2,
   "metadata": {},
   "outputs": [
    {
     "name": "stdout",
     "output_type": "stream",
     "text": [
      "1\n",
      "2\n",
      "3\n",
      "4\n"
     ]
    }
   ],
   "source": [
    "# Exemple\n",
    "a = 1\n",
    "while (a < 5):\n",
    "    print(a)\n",
    "    a += 1    # A Python l'operació d'autoincrement s'escriu així\n",
    "\n",
    "# Prova el mateix exemple canviant el valor de la condició per 3 i del valor inicial d'a per 4"
   ]
  },
  {
   "cell_type": "markdown",
   "metadata": {},
   "source": [
    "### Bucle while"
   ]
  },
  {
   "cell_type": "markdown",
   "metadata": {},
   "source": [
    "En el bucle while establim una condició de sortida. Mentre la condició sigui certa, les instruccions dins el bucle s'aniran repetint.\n",
    "\n",
    "Per tant és molt important verificar que la condició varia, ja sigui per l'entrada de l'usuari o perquè el programa incrementa la variable de la condició. Altrament podem crear bucles infinits que no acabaran mai.\n",
    "\n",
    "Aquest tipus de bucle s'usa quan en temps de programació no es coneix en quin moment cal acabar la repetició d'instruccions."
   ]
  },
  {
   "cell_type": "code",
   "execution_count": 1,
   "metadata": {},
   "outputs": [
    {
     "name": "stdout",
     "output_type": "stream",
     "text": [
      "Introdueix un nombre menor que 5: 13\n",
      "El nombre introduit no és menor que 5\n",
      "Introdueix un nombre menor que 5: 8\n",
      "El nombre introduit no és menor que 5\n",
      "Introdueix un nombre menor que 5: 3\n",
      "molt bé, 3  és menor que 5\n"
     ]
    }
   ],
   "source": [
    "# Exemple\n",
    "a = int(input(\"Introdueix un nombre menor que 5: \"))\n",
    "while (a >= 5):\n",
    "    print(\"El nombre introduit no és menor que 5\")\n",
    "    a = int(input(\"Introdueix un nombre menor que 5: \"))\n",
    "print(\"molt bé,\", a, \" és menor que 5\")\n",
    "# prova diverses execucions del codi"
   ]
  },
  {
   "cell_type": "markdown",
   "metadata": {},
   "source": [
    "### Bucle for"
   ]
  },
  {
   "cell_type": "markdown",
   "metadata": {},
   "source": [
    "En el bucle for hi ha una variable que va prenent valors dins un rang. Aquesta variable pot ser numèrica però també pot ser de qualsevol altre tipus si el rang és una llista d'aquest tipus.\n",
    "\n",
    "Si s'usa una variable numèrica se sol definir el valor inicial, el valor final i l'increment a cada iteració amb un rang segons el model start [valor inicial], stop [valor final al que no s'ha d'arribar], step [salt]. \n",
    "\n",
    "Aquest tipus de bucle s'usa quan en temps de programació es coneix exactament quan es començarà i quan s'acabarà el recorregut."
   ]
  },
  {
   "cell_type": "code",
   "execution_count": 4,
   "metadata": {},
   "outputs": [
    {
     "name": "stdout",
     "output_type": "stream",
     "text": [
      "0\n",
      "1\n",
      "2\n",
      "3\n",
      "4\n",
      "5\n",
      "6\n",
      "7\n",
      "8\n",
      "9\n"
     ]
    }
   ],
   "source": [
    "# Exemple\n",
    "for i in range(0, 10): # valor inicial:0 \n",
    "                       # valor final: 10 [quan hi arriba surt, no itera]\n",
    "                       # increment: no s'indica, per defecte és 1\n",
    "    print(i)"
   ]
  },
  {
   "cell_type": "markdown",
   "metadata": {},
   "source": [
    "Fixeu-vos que el 10 no es mostra, ja que quan arriba a 10 surt del bucle."
   ]
  },
  {
   "cell_type": "code",
   "execution_count": 5,
   "metadata": {},
   "outputs": [
    {
     "name": "stdout",
     "output_type": "stream",
     "text": [
      "0\n",
      "2\n",
      "4\n",
      "6\n",
      "8\n"
     ]
    }
   ],
   "source": [
    "# Exemple\n",
    "for i in range(0, 10, 2):  # valor inicial:0 \n",
    "                           # valor final: 10 [quan hi arriba surt, no itera]\n",
    "                           # increment: 2\n",
    "    print(i)"
   ]
  },
  {
   "cell_type": "code",
   "execution_count": null,
   "metadata": {
    "collapsed": true
   },
   "outputs": [],
   "source": [
    "# Exemple\n",
    "for i in range(10, 0, -5):  # valor inicial: 10 \n",
    "                            # valor final: 0 [quan hi arriba surt, no itera]\n",
    "                            # increment: -5\n",
    "    print(i)\n",
    "# Abans d'executar el codi, penseu quin resultat apareixerà"
   ]
  },
  {
   "cell_type": "code",
   "execution_count": 7,
   "metadata": {},
   "outputs": [
    {
     "name": "stdout",
     "output_type": "stream",
     "text": [
      "gat\n",
      "gos\n",
      "canari\n"
     ]
    }
   ],
   "source": [
    "# Exemple\n",
    "for animal in [\"gat\", \"gos\", \"canari\"]:  \n",
    "    print(animal)\n",
    "# En aquest cas la variable, \"animal\", va prenent els valors dins la llista"
   ]
  },
  {
   "cell_type": "markdown",
   "metadata": {},
   "source": [
    "### Inicialització i valors finals"
   ]
  },
  {
   "cell_type": "markdown",
   "metadata": {},
   "source": [
    "Quan usem bucles sovint hem de pensar a inicialitzar algunes variables abans d'entrar al bucle, i a tractar els casos finals després de sortir del bucle."
   ]
  },
  {
   "cell_type": "markdown",
   "metadata": {},
   "source": [
    "<p style=\"text-align:right;font-size:0.9em\">\n",
    "&copy;Jordi Vitrià i Mireia Ribera\n",
    "</p>"
   ]
  }
 ],
 "metadata": {
  "kernelspec": {
   "display_name": "Python 3",
   "language": "python",
   "name": "python3"
  },
  "language_info": {
   "codemirror_mode": {
    "name": "ipython",
    "version": 3
   },
   "file_extension": ".py",
   "mimetype": "text/x-python",
   "name": "python",
   "nbconvert_exporter": "python",
   "pygments_lexer": "ipython3",
   "version": "3.6.1"
  }
 },
 "nbformat": 4,
 "nbformat_minor": 2
}
