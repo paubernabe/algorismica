{
 "cells": [
  {
   "cell_type": "markdown",
   "metadata": {},
   "source": [
    "<p style=\"text-align:right;font-size:0.9em\">\n",
    "Grau d'Enginyeria Informàtica. Algorísmica. Curs 2017-2018\n",
    "</p>"
   ]
  },
  {
   "cell_type": "markdown",
   "metadata": {},
   "source": [
    "<h1 style=\"height:3em;padding:0.5em 0;font:Garamond;font-size:1-5em;color:#F90;background-color:#005\">\n",
    "Apunts de Python: Operadors booleans\n",
    "</h1>"
   ]
  },
  {
   "cell_type": "markdown",
   "metadata": {},
   "source": [
    "Documentació de Python relacionada:\n",
    "- Boolean values: https://docs.python.org/3/library/stdtypes.html?#boolean-values\n",
    "- Boolean operators: https://docs.python.org/3/library/stdtypes.html?#boolean-operations-and-or-not\n",
    "- Comparisons: https://docs.python.org/3/library/stdtypes.html?#comparisons\n",
    "- Bitwise Operations: https://docs.python.org/3/library/stdtypes.html?#bitwise-operations-on-integer-types"
   ]
  },
  {
   "cell_type": "markdown",
   "metadata": {},
   "source": [
    "Per comparar dues variables podem usar els operadors relacionals:\n",
    "- == igual\n",
    "- != diferent\n",
    "- < menor\n",
    "- \\> major\n",
    "- <= menor o igual\n",
    "- \\>= major o igual\n",
    "\n",
    "que ens retornaran True (1) o False (0)"
   ]
  },
  {
   "cell_type": "code",
   "execution_count": 16,
   "metadata": {},
   "outputs": [
    {
     "name": "stdout",
     "output_type": "stream",
     "text": [
      "4 == 2+2 True\n",
      "4 != 2+2 False\n",
      "4 < 2 False\n",
      "4 <= 4 True\n",
      "4 > 2 True\n",
      "4 >= 5 False\n"
     ]
    }
   ],
   "source": [
    "# Exemple\n",
    "print(\"4 == 2+2\", 4==2+2)\n",
    "print(\"4 != 2+2\", 4!=2+2)\n",
    "print(\"4 < 2\", 4<2)\n",
    "print(\"4 <= 4\", 4<=4)\n",
    "print(\"4 > 2\", 4>2)\n",
    "print(\"4 >= 5\", 4>=5)\n"
   ]
  },
  {
   "cell_type": "markdown",
   "metadata": {},
   "source": [
    "Si el què comparem són cadenes de caràcters aquests operadors comparen l’ordre lexicogràfic dels caràcters que les formen. Per exemple “Hello” és més petit que “hello” i “a” és més petita que “b”."
   ]
  },
  {
   "cell_type": "code",
   "execution_count": 17,
   "metadata": {},
   "outputs": [
    {
     "name": "stdout",
     "output_type": "stream",
     "text": [
      "a < b True\n",
      "hola == Hola False\n",
      "hola > Hola True\n"
     ]
    }
   ],
   "source": [
    "# Exemple\n",
    "print(\"a < b\", 'a'<'b')\n",
    "print(\"hola == Hola\", \"hola\"==\"Hola\")\n",
    "print(\"hola > Hola\", \"hola\">\"Hola\")"
   ]
  },
  {
   "cell_type": "markdown",
   "metadata": {},
   "source": [
    "També podem usar els operadors booleans:\n",
    "- **and**:  a and b és True si a i b són True\n",
    "- **or**:\ta or b és True si a és True o si b és True\n",
    "- **not**:\tnot a és True si a és False\n",
    "la precedència d'aquests operadors és not, and i or\n",
    "\n",
    "no tan habitual, a vegades també s'usa l'operador **xor** o or exclusiva\n",
    "- **xor**: a or b és True si a és True i b és False, o si a és False i b és True\n"
   ]
  },
  {
   "cell_type": "code",
   "execution_count": 18,
   "metadata": {},
   "outputs": [
    {
     "name": "stdout",
     "output_type": "stream",
     "text": [
      "2>1 and 3>2  True\n",
      "2>1 or 4<2 True\n",
      "not 2>1  False\n"
     ]
    }
   ],
   "source": [
    "# Exemple\n",
    "print(\"2>1 and 3>2 \", 2>1 and 3>2 )\n",
    "print(\"2>1 or 4<2\", 2>1 or 4<2)\n",
    "print(\"not 2>1 \", not 2>1 )"
   ]
  },
  {
   "cell_type": "markdown",
   "metadata": {},
   "source": [
    "Les taules de veritat d'aquests operadors són les següents:\n",
    "\n",
    "**not (!)**\n",
    "\n",
    "| P   | not P |\n",
    "|-----|-------|\n",
    "|True |False  |\n",
    "|False|True   |\n",
    "\n",
    "**and (&)**\n",
    "\n",
    "| P   |  Q   | P and Q |\n",
    "|-----|------|---------|\n",
    "|True |True  |True     |\n",
    "|True |False |False    |\n",
    "|False|True  |False    |\n",
    "|False|False |False    |\n",
    "\n",
    "**or (|)**\n",
    "\n",
    "| P   |  Q  | P or Q |\n",
    "|-----|-----|--------|\n",
    "|True |True |True    |\n",
    "|True |False|True    |\n",
    "|False|True |True    |\n",
    "|False|False|False   |\n",
    "\n",
    "**xor (^)**\n",
    "\n",
    "| P   |  Q  | P xor Q |\n",
    "|-----|-----|---------|\n",
    "|True |True |**False** |    \n",
    "|True |False|True     |\n",
    "|False|True |True     |\n",
    "|False|False|False    |"
   ]
  },
  {
   "cell_type": "markdown",
   "metadata": {},
   "source": [
    "Si s'usen aquests operadors amb nombres binaris obtenim un efecte màscara (amb or) o filtre (amb 1)"
   ]
  },
  {
   "cell_type": "code",
   "execution_count": 19,
   "metadata": {},
   "outputs": [
    {
     "name": "stdout",
     "output_type": "stream",
     "text": [
      "20&1 0\n",
      "21&1 1\n"
     ]
    }
   ],
   "source": [
    "# Exemple:\n",
    "# L'expressió n & 1 retorna 1 si el nombre és senar i 0 si és parell\n",
    "\n",
    "# 00010100 &  (n=20)\n",
    "# 00000001    (1)\n",
    "# --------\n",
    "# 00000000    (=0, 20 és parell)\n",
    "\n",
    "# 00010101 &  (n=21)\n",
    "# 00000001    (1)\n",
    "# --------\n",
    "# 00000001    (=1, 21 és senar)\n",
    "\n",
    "print(\"20&1\",20&1)\n",
    "print(\"21&1\",21&1)\n",
    "\n",
    "#el nombre 1 ha actuat de filtre i només ha deixat passar el darrer bit, \n",
    "#corresponent a la unitat binària"
   ]
  },
  {
   "cell_type": "code",
   "execution_count": 20,
   "metadata": {},
   "outputs": [
    {
     "name": "stdout",
     "output_type": "stream",
     "text": [
      "A a\n",
      "B b\n",
      "C c\n",
      "D d\n",
      "E e\n",
      "F f\n",
      "G g\n",
      "H h\n",
      "I i\n",
      "J j\n",
      "K k\n",
      "L l\n",
      "M m\n",
      "N n\n",
      "O o\n",
      "P p\n",
      "Q q\n",
      "R r\n",
      "S s\n",
      "T t\n",
      "U u\n",
      "V v\n",
      "W w\n",
      "X x\n",
      "Y y\n",
      "Z z\n"
     ]
    }
   ],
   "source": [
    "# Exemple:\n",
    "# L'expressió lletra majúscula | ' '  retorna la lletra en minúscula\n",
    "\n",
    "# 00010100 &  (n=20)\n",
    "# 00000001    (1)\n",
    "# --------\n",
    "# 00000000    (=0, 20 és parell)\n",
    "\n",
    "# 00010101 &  (n=21)\n",
    "# 00000001    (1)\n",
    "# --------\n",
    "# 00000001    (=1, 21 és senar)\n",
    "\n",
    "for codicaracter in range(65,91):\n",
    "    print(chr(codicaracter),chr(codicaracter|ord(' ')))\n",
    "\n",
    "#el caràcter ' ' (00100000) ha actuat de màscara i ha convertit\n",
    "#tots els 3ers bits en 1, augmentant en 32 el valor del caràcter\n",
    "#i per tant convertint-lo a minúscula, ja que\n",
    "#  A té el codi 65 (01000001)\n",
    "#i a té el codi 97 (01100001)\n",
    "#i el mateix amb la resta de lletre"
   ]
  },
  {
   "cell_type": "markdown",
   "metadata": {},
   "source": [
    "<p style=\"text-align:right;font-size:0.9em\">\n",
    "&copy;Jordi Vitrià i Mireia Ribera\n",
    "</p>"
   ]
  }
 ],
 "metadata": {
  "kernelspec": {
   "display_name": "Python 3",
   "language": "python",
   "name": "python3"
  },
  "language_info": {
   "codemirror_mode": {
    "name": "ipython",
    "version": 3
   },
   "file_extension": ".py",
   "mimetype": "text/x-python",
   "name": "python",
   "nbconvert_exporter": "python",
   "pygments_lexer": "ipython3",
   "version": "3.6.1"
  }
 },
 "nbformat": 4,
 "nbformat_minor": 2
}
