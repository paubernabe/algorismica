{
 "cells": [
  {
   "cell_type": "markdown",
   "metadata": {},
   "source": [
    "<p style=\"text-align:right;font-size:0.9em\">\n",
    "Grau d'Enginyeria Informàtica. Algorísmica. Curs 2017-2018\n",
    "</p>"
   ]
  },
  {
   "cell_type": "markdown",
   "metadata": {},
   "source": [
    "<h1 style=\"padding:0.5em 0;font:Garamond;font-size:1-5em;color:#F90;background-color:#005\">\n",
    "Apunts de Python: Representació de caràcters\n",
    "</h1>"
   ]
  },
  {
   "cell_type": "markdown",
   "metadata": {},
   "source": [
    "A l’ordinador cada lletra es representa per un codi. El codi més estès és el codi ASCII que cobreix només les lletres A-Z sense accents ni caràcters especials (ç, ñ...). \n",
    "\n",
    "|  Binari | Dec   |Hex   |Representació   |\n",
    "|---|---|---|---|\n",
    "    |  00100000 | 32  | 20 |  Espai en blanc |\n",
    "    |  01000001 | 65  | 41 | A |\n",
    "    |  01000010 | 66  | 42 | B |\n",
    "    |  01000011 | 67  | 43 | C | \n",
    "    |  01000100 | 68  | 44 | D |\n",
    "    |  01000101 | 69  | 45 | E |\n",
    "    |  01000110 | 70  | 46 | F |\n",
    "    |  01000111 | 71  | 47 | G |\n",
    "    |  01001000 | 72  | 48 | H |\n",
    "    |  01001001 | 73  | 49 | I |\n",
    "    |  01001010 | 74  | 4A | J |\n",
    "    |  01001011 | 75  | 4B | K |\n",
    "    |  01001100 | 76  | 4C | L |\n",
    "    |  01001101 | 77  | 4D | M |\n",
    "    |  01001110 | 78  | 4E | N |\n",
    "    |  01001111 | 79  | 4F | O |\n",
    "    |  01010000 | 80  | 50 | P |\n",
    "    |  01010001 | 81  | 51 | Q |\n",
    "    |  01010010 | 82  | 52 | R |\n",
    "    |  01010011 | 83  | 53 | S |\n",
    "    |  01010100 | 84  | 54 | T |\n",
    "    |  01010101 | 85  | 55 | U |\n",
    "    |  01010110 | 86  | 56 | V |\n",
    "    |  01010111 | 87  | 57 | W |\n",
    "    |  01011000 | 88  | 58 | X |\n",
    "    |  01011001 | 89  | 59 | Y |\n",
    "    |  01011010 | 90  | 5A | Z |\n",
    "    \n",
    "    \n",
    "    \n",
    "|  Binari | Dec   |Hex   |Representació   |\n",
    "|---|---|---|---|\n",
    "    |  01011111 | 95  | 5F | - |\n",
    "    |  01100001 | 97  | 61 | a |\n",
    "    |  01100010 | 98  | 62 | b |\n",
    "    |  01100011 | 99  | 63 | c |\n",
    "    |  01100100 | 100 | 64 | d | \n",
    "    |  01100101 | 101 | 65 | e |\n",
    "    |  01100110 | 102 | 66 | f |\n",
    "    |  01100111 | 103 | 67 | g |\n",
    "    |  01101000 | 104 | 68 | h |\n",
    "    |  01101001 | 105 | 69 | i |\n",
    "    |  01101010 | 106 | 6A | j |\n",
    "    |  01101011 | 107 | 6B | k |\n",
    "    |  01101100 | 108 | 6C | l |\n",
    "    |  01101101 | 109 | 6D | m |\n",
    "    |  01101110 | 110 | 6E | n |\n",
    "    |  01111111 | 111 | 6F | o |\n",
    "    |  01110000 | 112 | 70 | p |\n",
    "    |  01110001 | 113 | 71 | q |\n",
    "    |  01110010 | 114 | 72 | r |\n",
    "    |  01110011 | 115 | 73 | s |\n",
    "    |  01110100 | 116 | 74 | t |\n",
    "    |  01110101 | 117 | 75 | u |\n",
    "    |  01110110 | 118 | 76 | v |\n",
    "    |  01110111 | 119 | 77 | w |\n",
    "    |  01111000 | 120 | 78 | x |\n",
    "    |  01111001 | 121 | 79 | y |\n",
    "    |  01111010 | 122 | 7A | z |\n",
    "   "
   ]
  },
  {
   "cell_type": "markdown",
   "metadata": {},
   "source": [
    "Un altre codi, molt més complet i que cada cop es fa servir més és el codi UNICODE i UTF8 que cobreixen totes les lletres de totes les llengües escrites del món. En aquests dos codis les lletres de la A a la Z es codifiquen igual que en ASCII.\n"
   ]
  },
  {
   "cell_type": "markdown",
   "metadata": {},
   "source": [
    "Per convertir del codi al caràcter i viceversa usem les funcions chr i ord."
   ]
  },
  {
   "cell_type": "code",
   "execution_count": 2,
   "metadata": {},
   "outputs": [
    {
     "name": "stdout",
     "output_type": "stream",
     "text": [
      "L\n",
      "122\n"
     ]
    }
   ],
   "source": [
    "# Exemple\n",
    "\n",
    "print(chr(76))\n",
    "print(ord('z'))"
   ]
  },
  {
   "cell_type": "markdown",
   "metadata": {},
   "source": [
    "<p style=\"text-align:right;font-size:0.9em\">\n",
    "&copy;Jordi Vitrià i Mireia Ribera\n",
    "</p>"
   ]
  }
 ],
 "metadata": {
  "kernelspec": {
   "display_name": "Python 3",
   "language": "python",
   "name": "python3"
  },
  "language_info": {
   "codemirror_mode": {
    "name": "ipython",
    "version": 3
   },
   "file_extension": ".py",
   "mimetype": "text/x-python",
   "name": "python",
   "nbconvert_exporter": "python",
   "pygments_lexer": "ipython3",
   "version": "3.6.1"
  }
 },
 "nbformat": 4,
 "nbformat_minor": 2
}
