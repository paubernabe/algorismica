{
 "cells": [
  {
   "cell_type": "markdown",
   "metadata": {},
   "source": [
    "# Complexitat dels algorismes"
   ]
  },
  {
   "cell_type": "markdown",
   "metadata": {},
   "source": [
    "En aquest Notebook s'expliquen els conceptes bàsics per calcular la complexitat d'un algorisme i es proposen uns exercicis senzills per validar els conceptes, dels quals es dóna la solució al final."
   ]
  },
  {
   "cell_type": "markdown",
   "metadata": {},
   "source": [
    "\n",
    "## Càlcul\n",
    "\n",
    "Estimem la complexitat d'un algorisme comptant el nombre de funcions elementals que fa l'algorisme. Usualment calcularem el temps del pitjor cas, i usarem la notació gran O.\n",
    "\n",
    "Anem a veure uns casos simples de càlcul de complexitats:"
   ]
  },
  {
   "cell_type": "markdown",
   "metadata": {},
   "source": [
    "### Complexitat d'una operació\n",
    "\n",
    "<p width=\"100%\" style=\"background-color:#EECCCC\" >operació simple</p>\n",
    "\n",
    "En general la complexitat d'aquest cas és d'ordre Constant, ja que no depèn de la mida de l'entrada. Però atenció, quan treballem amb llistes algunes operacions aparentment simples, tenen una complexitat d'ordre **n**. Ho podeu consultar a <a href=\"https://wiki.python.org/moin/TimeComplexity\">TimeComplexity </a>\n",
    "\n",
    "- LLista.append('a')                    #complexitat $O(1)$\n",
    "- Llista.insert(2,'a')                  #complexitat $O(n)$"
   ]
  },
  {
   "cell_type": "markdown",
   "metadata": {},
   "source": [
    "### Complexitat d'un bloc condicional\n",
    "<div width=\"100%\" style=\"background-color:#EECCCC\" >\n",
    "<ul style=\"list-style-type: none\">\n",
    "    <li>if condicio:</li>\n",
    "    <li>&nbsp;&nbsp;&nbsp;&nbsp;operacio1</li>\n",
    "    <li>else:</li>\n",
    "    <li>&nbsp;&nbsp;&nbsp;&nbsp;operacio2</li>\n",
    "</ul>\n",
    "</div>\n",
    "\n",
    "Quan ens trobem amb un bloc condicional (if, elif, else) la complexitat serà la màxim de les complexitats de les diferents opcions. Per ex. si complexitat(operacio1)=$O(n)$ i complexitat(operacio2)=$O(1)$, la complexitat del bloc if serà de $O(n)$, que és l'opció amb més complexitat."
   ]
  },
  {
   "cell_type": "markdown",
   "metadata": {},
   "source": [
    "### Complexitat d'un conjunt d'instruccions\n",
    "\n",
    "<div width=\"100%\" style=\"background-color:#EECCCC\" >\n",
    "<ul style=\"list-style-type: none\">\n",
    "    <li>def: funcio():</li>\n",
    "    <li>&nbsp;&nbsp;&nbsp;&nbsp;operacio1</li>\n",
    "    <li>&nbsp;&nbsp;&nbsp;&nbsp;operacio2</li>\n",
    "    <li>&nbsp;&nbsp;&nbsp;&nbsp;operacio3</li>\n",
    "    <li>&nbsp;&nbsp;&nbsp;&nbsp;operacio4</li>\n",
    "    <li>&nbsp;&nbsp;&nbsp;&nbsp;operacio5</li>\n",
    "    <li>&nbsp;&nbsp;&nbsp;&nbsp;if condicio:</li>\n",
    "    <li>&nbsp;&nbsp;&nbsp;&nbsp;&nbsp;&nbsp;&nbsp;&nbsp;operacio6</li>\n",
    "    <li>&nbsp;&nbsp;&nbsp;&nbsp;else:</li>\n",
    "    <li>&nbsp;&nbsp;&nbsp;&nbsp;&nbsp;&nbsp;&nbsp;&nbsp;operacio7</li>\n",
    "</ul>\n",
    "</div>\n",
    "\n",
    "Quan s'agrupen diverses operacions simples la complexitat és la suma de totes elles, tenint en compte que quan treballem amb ordres de magnitud i sumem diverses quantitats, només ens quedem amb la cota superior, que és la que mana. \n",
    "\n",
    "Així si complexitat(operacio1)==complexitat(operacio2)==complexitat(operacio3) és $O(1)$, i la complexitat(operacio4) és $O(n^{2})$, i la complexitat(operacio5) és $O(log_{n})$, la complexitat de totes aquestes serà d'ordre $O(n^{2})$, que és la complexitat major. I sumant la complexitat del bloc condicional (operacio6 és $O(n)$ i operacio7 és $O(1)$), seguim tenint $O(n^{2})$, ja que aquest ordre predomina sobre $O(n)$.\n",
    "\n",
    "La complexitat final d'aquest bloc és $O(n^{2})$.\n"
   ]
  },
  {
   "cell_type": "markdown",
   "metadata": {},
   "source": [
    "### Complexitat dels blocs iteratius (bucles)\n",
    "\n",
    "<div width=\"100%\" style=\"background-color:#EECCCC\" >\n",
    "<ul style=\"list-style-type: none\">\n",
    "    <li>for i in range(1,n):</li>\n",
    "    <li>&nbsp;&nbsp;&nbsp;&nbsp;operacio1</li>\n",
    "    <br/>\n",
    "    <li>for i in range(1,n):</li>\n",
    "    <li>&nbsp;&nbsp;&nbsp;&nbsp;operacio1</li>\n",
    "    <br/>\n",
    "    <li>for i in range(1,n):</li>\n",
    "    <li>&nbsp;&nbsp;&nbsp;&nbsp;operacio1</li>\n",
    "</ul>\n",
    "</div>\n",
    "\n",
    "En el cas dels bucles iteratius, primer cal calcular la complexitat de les operacions dins el bucle, i després multiplicar-les pel nombre de vegades que iterem.\n",
    "En els exemples, si complexitat(operacio1) és $O(1)$, la complexitat dels blocs és $O(n)$, ja que tots -- en el pitjor cas -- iteren n vegades sobre aquesta operació."
   ]
  },
  {
   "cell_type": "markdown",
   "metadata": {},
   "source": [
    "### Complexitat dels blocs iteratius imbricats\n",
    "\n",
    "<div width=\"100%\" style=\"background-color:#EECCCC\" >\n",
    "<ul style=\"list-style-type: none\">\n",
    "    <li>for i in range(1,n):</li>\n",
    "    <li>&nbsp;&nbsp;&nbsp;&nbsp;for j in range(1,n):</li>\n",
    "    <li>&nbsp;&nbsp;&nbsp;&nbsp;&nbsp;&nbsp;&nbsp;&nbsp;operacio1</li>\n",
    "    <br/>\n",
    "</ul>\n",
    "</div>\n",
    "\n",
    "En el cas dels bucles imbricats cal multiplicar tantes vegades com bucles hi hagi. A l'exemple, la complexitat del bloc de la j és $O(n)$ però la complexitat del bloc de la i és $O(n^{2}$). És a dir, aquest tros de codi té una complexitat quadràtica."
   ]
  },
  {
   "cell_type": "markdown",
   "metadata": {},
   "source": [
    "### Complexitat de les funcions recursives\n",
    "En aquest curs només heu vist com calcular la complexitat de les funcions recursives que segueixen el patró: $T(n)=aT(n/b)+O(n^{d})$, per algunes constants a>0, b>1 i d>0, segons el teorema de màster. \n",
    "\n",
    "Veiem-ne un exemple:\n",
    "<div width=\"100%\" style=\"background-color:#EECCCC\" >\n",
    "<ul style=\"list-style-type: none\">\n",
    "    <li>def exponent(base,ponencia):</li>\n",
    "    <li>&nbsp;&nbsp;&nbsp;&nbsp;if potencia==1:</li>\n",
    "    <li>&nbsp;&nbsp;&nbsp;&nbsp;&nbsp;&nbsp;&nbsp;&nbsp;return base</li>\n",
    "    <li>&nbsp;&nbsp;&nbsp;&nbsp;else:</li>\n",
    "    <li>&nbsp;&nbsp;&nbsp;&nbsp;&nbsp;&nbsp;&nbsp;&nbsp;subsolucio=exponent(base,potencia/2)</li>\n",
    "    <li>&nbsp;&nbsp;&nbsp;&nbsp;&nbsp;&nbsp;&nbsp;&nbsp;return subsolucio x subsolucio x  base^potencia%2</li>\n",
    "</ul>\n",
    "</div>\n",
    "\n",
    "Per calcular la complexitat hem de saber quants subproblemes es generen (a), per quant dividim la n en cada nova crida (b), i quin és l'exponent del cost d'ajuntar les solucions (d).\n",
    "\n",
    "<div width=\"100%\" style=\"background-color:#EECCCC\" >\n",
    "A la funció exponent anterior, aquests valors són, respectivament:\n",
    "<ul>\n",
    "<li>a=1, fem una única crida recursiva</li>\n",
    "<li>b=2, a cada crida, n es partex per dos</li>\n",
    "<li>d=2, ja que ajuntar les solucions es fa amb una multiplicació que té un cost quadràtic $O(n^{2})$</li>\n",
    "</ul>\n",
    "</div>\n",
    "<br/>\n",
    "Un cop tenim aquests valors, calculem el valor pel Teorema del màster aplicant el cas que correspon:\n",
    "<br/>\n",
    "<ul style=\"list-style-type: none\">\n",
    "<li>Si $d>log_{b}a$, el cost serà $O(n^{d})$</li>\n",
    "<li>Si $d=log_{b}a$, el cost serà $O(n^{d}log n)$</li>\n",
    "<li>Si $d<log_{b}a$, el cost serà $O(n^{log_{b}a})$</li>\n",
    "</ul>\n",
    "<br/>\n",
    "<div width=\"100%\" style=\"background-color:#EECCCC\" >\n",
    "A la funció exponent anterior:\n",
    "$log_{2}1=0$; per tant estem en el primer cas del teorema de màster, $d>log_{b}a$, i el cost és d'ordre $O(n^{d})$, i com que d=2, això equival a $O( n^2)$.\n",
    "La funció exponent té una complexitat de $O(n^{2}).$\n",
    "</div>"
   ]
  },
  {
   "cell_type": "markdown",
   "metadata": {},
   "source": [
    "## Exercicis\n",
    "\n",
    "1. Calcula la complexitat de la següent funció"
   ]
  },
  {
   "cell_type": "code",
   "execution_count": 7,
   "metadata": {},
   "outputs": [],
   "source": [
    "def multiplica(x,y): #nombres binaris com a cadenes\n",
    "    n=max(len(x),len(y))   # O(1)\n",
    "    \n",
    "    if n==1:\n",
    "        return int(x)*int(y)   # O(n2)\n",
    "    \n",
    "    xleft,xright=x[:(n//2)],x[(n//2):]     # O(n)\n",
    "    yleft,yright=y[:(n//2)],y[(n//2):]     # O(n)\n",
    "    \n",
    "    p1 = multiplica(xleft,yleft)     # 1 llamada recursiva\n",
    "    p2 = multiplica(xright,yright)   # 1 llamada recursiva\n",
    "    \n",
    "    p3 = multiplica(str(int(xleft)+int(xright)),str(int(yleft)+int(yright)))\n",
    "                                     # 1 llamada recursiva\n",
    "                                     # O(n) preparacion\n",
    "    \n",
    "    return p1*2**n+(p3-p1-p2)*2**(n/2)+p2    #O(n2)\n",
    "\n",
    "\n",
    "# a=3\n",
    "# b=2\n",
    "# d=2\n",
    "\n",
    "# logb a= 1.38\n",
    "\n",
    "# O(n2)\n"
   ]
  },
  {
   "cell_type": "code",
   "execution_count": 8,
   "metadata": {},
   "outputs": [
    {
     "data": {
      "text/plain": [
       "180.0"
      ]
     },
     "execution_count": 8,
     "metadata": {},
     "output_type": "execute_result"
    }
   ],
   "source": [
    "multiplica(\"1111\",\"1100\") "
   ]
  },
  {
   "cell_type": "markdown",
   "metadata": {},
   "source": [
    "2. Calcula la complexitat segons el teorema de màster:\n",
    "\n",
    "\n",
    "- $T(n)=2T(n/2)+n^{4}$\n",
    "- $T(n)=7T(n/10)+n$\n",
    "- $T(n)=16T(n/4)+n^{2}$\n",
    "- $T(n)=2T(n/4)+sqr{n}$\n"
   ]
  },
  {
   "cell_type": "markdown",
   "metadata": {},
   "source": [
    "## Solucions"
   ]
  },
  {
   "cell_type": "markdown",
   "metadata": {},
   "source": [
    "### Solució exercici 1:\n",
    "\n",
    "- Apuntem les complexitats de les operacions simples\n",
    "    - len(x)    O(1)\n",
    "    - max(a,b)  O(1)\n",
    "    - slice     O(k)=>O(n/2)\n",
    "    - int(str)  O(n)\n",
    "    - str(int)  O(n)\n",
    "    \n",
    "- Apuntem la complexitat de cada bloc de codi\n",
    "  +   n=max(len(x),len(y))  => O(1)\n",
    "  +   if n==1:\n",
    "  +     return int(x)*int(y)   =>$O(n^2)$  on n és la longitud dels nombres, ja que fem una multiplicació\n",
    "  +   xleft,xright=x[:n/2],x[n/2:] => O(n/2)+O(n/2) => O(n)\n",
    "  +   ídem per la següent\n",
    "  +   str(int(xleft)+int(xright)) => O(n)+O(n)+O(n) => O(n)\n",
    "     \n",
    "- Determinem els paràmetres del teorema de màster\n",
    "    - a = 3\n",
    "    - b = 2\n",
    "    - d = 2\n",
    "    - Calculem el logaritme: $log_b{a} =1.58496$\n",
    "       \n",
    "- Identifiquem el cas pertinent (cas 3) i apliquem el teorema de màster, com que l'exponent són decimals arrodonim a l'enter superior més proper: $O(n^{2})$\n",
    "    \n",
    "\n",
    "La funció multiplica té un cost quadratic respecte al nombre de bits del nombre més llarg."
   ]
  },
  {
   "cell_type": "markdown",
   "metadata": {},
   "source": [
    "Solució exercici 2:\n",
    "- $T(n)=2T(n/2)+n^{4}$ => a=2; b=2; d=4; cas 1 $O(nd)$=> $O(n^4)$\n",
    "- $T(n)=T(7n/10)+n^{-1}$ => a=1; b=7/10; d=-1; cas 3 $O(n^{log_{b}a})$=> $O(1)$\n",
    "- $T(n)=16T(n/4)+n^{2}$ => a=16; b=4; d=2; cas 2 $O(n^{d}log n)$=> $O(n^{2}log{n})$\n"
   ]
  },
  {
   "cell_type": "markdown",
   "metadata": {},
   "source": [
    "## Referències\n",
    "Les explicacions, exemples i exercicis s'han basat en les següents fonts:\n",
    "\n",
    "- Singh et al. “Time complexity of algorithms” dins Study tonight [http://www.studytonight.com/data-structures/time-complexity-of-algorithms] consultat el 26 de novembre de 2015\n",
    "- Umesh V. Vazirani “Chapter 2: divide and conquer algorithms” [https://www.cs.berkeley.edu/~vazirani/algorithms/chap2.pdf] consultat el 26 de novembre de 2015\n",
    "- Cormen, T. C., Leiserson, C. E., Rivest, R. L., & Stein, C. (2009). *Introduction to algorithms* (3rd ed.). Cambridge: The MIT Press. ISBN 9780262033848\n"
   ]
  }
 ],
 "metadata": {
  "anaconda-cloud": {},
  "kernelspec": {
   "display_name": "Python 3",
   "language": "python",
   "name": "python3"
  },
  "language_info": {
   "codemirror_mode": {
    "name": "ipython",
    "version": 3
   },
   "file_extension": ".py",
   "mimetype": "text/x-python",
   "name": "python",
   "nbconvert_exporter": "python",
   "pygments_lexer": "ipython3",
   "version": "3.6.1"
  }
 },
 "nbformat": 4,
 "nbformat_minor": 1
}
