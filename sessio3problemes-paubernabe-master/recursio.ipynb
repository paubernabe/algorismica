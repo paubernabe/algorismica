{
 "cells": [
  {
   "cell_type": "markdown",
   "metadata": {},
   "source": [
    "<p style=\"text-align:right;font-size:0.9em\">\n",
    "Grau d'Enginyeria Informàtica. Algorísmica. Curs 2017-2018\n",
    "</p>"
   ]
  },
  {
   "cell_type": "markdown",
   "metadata": {},
   "source": [
    "<h1 style=\"height:3em;padding:0.5em 0;font:Garamond;font-size:1-5em;color:#F90;background-color:#005\">\n",
    "Apunts de Python: Recursió\n",
    "</h1>"
   ]
  },
  {
   "cell_type": "markdown",
   "metadata": {},
   "source": [
    "La recursió consisteix en què un programa es crida a si mateix. Un programa recursiu ben fet ha de complir 2 condicions:\n",
    "\n",
    "- ha d'haver-hi un o més casos base: són condicions de les dades que es resolen directament, sense que calgui una nova crida al programa\n",
    "- a cada crida recursiva ens apropem a un dels casos base: ja sigui perquè es decrementa una variable, perquè es redueix una llista..."
   ]
  },
  {
   "cell_type": "code",
   "execution_count": 6,
   "metadata": {},
   "outputs": [
    {
     "name": "stdout",
     "output_type": "stream",
     "text": [
      "5\n",
      "4\n",
      "3\n",
      "2\n",
      "1\n",
      "0\n"
     ]
    }
   ],
   "source": [
    "# Exemple\n",
    "def imprimirLlistaRec(num):\n",
    "    if (num == 0):\n",
    "        print(num)\n",
    "        return 0\n",
    "    else:\n",
    "        print(num)\n",
    "        imprimirLlistaRec(num-1)\n",
    "\n",
    "imprimirLlistaRec(5)"
   ]
  },
  {
   "cell_type": "markdown",
   "metadata": {},
   "source": [
    "- A la primera execució del programa num valia 5, per tant no és un cas base, es fa el print i es fa una crida recursiva amb 4.\n",
    "- A la segona execució val 4, s'imprimeix i es fa crida amb 3.\n",
    "- A la tercera val 3, s'imprimeix i es fa crida amb 2.\n",
    "- A la quarta val 2, s'imprimeix i es fa crida amb 1.\n",
    "- A la cinquena val 1, s'imprimeix i es fa crida amb 0.\n",
    "- A la sisena val 0, som al cas base!, s'imprimeix i acaba."
   ]
  },
  {
   "cell_type": "markdown",
   "metadata": {},
   "source": [
    "A vegades dins del programa no es fa una crida recursiva sinó dues o més. També pot variar com s'alteren les variables a cada crida, però sempre ens hem d'anar apropant al cas base.\n",
    "\n",
    "Sovint farem un programa principal que faci un preprocés de les dades, cridi al programa recursiu, i després faci un postprocés."
   ]
  },
  {
   "cell_type": "code",
   "execution_count": 8,
   "metadata": {},
   "outputs": [
    {
     "name": "stdout",
     "output_type": "stream",
     "text": [
      "Ara mostrarem els nombres de 3 a 0 de manera decreixent\n",
      "3\n",
      "2\n",
      "1\n",
      "0\n",
      "I això és tot.\n"
     ]
    }
   ],
   "source": [
    "def imprimirLlista(num):\n",
    "    print(f\"Ara mostrarem els nombres de {num} a 0 de manera decreixent\")\n",
    "    imprimirLlistaRec(num)\n",
    "    print(f\"I això és tot.\")\n",
    "    \n",
    "imprimirLlista(3)"
   ]
  },
  {
   "cell_type": "markdown",
   "metadata": {},
   "source": [
    "<p style=\"text-align:right;font-size:0.9em\">\n",
    "&copy;Jordi Vitrià i Mireia Ribera\n",
    "</p>"
   ]
  }
 ],
 "metadata": {
  "kernelspec": {
   "display_name": "Python 3",
   "language": "python",
   "name": "python3"
  },
  "language_info": {
   "codemirror_mode": {
    "name": "ipython",
    "version": 3
   },
   "file_extension": ".py",
   "mimetype": "text/x-python",
   "name": "python",
   "nbconvert_exporter": "python",
   "pygments_lexer": "ipython3",
   "version": "3.6.2"
  }
 },
 "nbformat": 4,
 "nbformat_minor": 2
}
