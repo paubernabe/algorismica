{
 "cells": [
  {
   "cell_type": "markdown",
   "metadata": {},
   "source": [
    "# Sessió 3: Algorismes Numèrics\n",
    "\n",
    "Indicacions:\n",
    "+ Cada exercici s'ha de poder respondre executant una única funció (tot i que aquesta funció pot cridar altres funcions si és necessari)."
   ]
  },
  {
   "cell_type": "markdown",
   "metadata": {},
   "source": [
    "### Multiples de 3 i 5\n",
    "\n",
    "Els nombre naturals menors que 10 que són múltiples de 3 o 5 són 3,5,6, i 9. La suma d'aquests múltiples és 23. Calcula la suma de tots els naturals que són múltiples de 3 o 5 i que són menors que 1000.\n",
    "\n",
    "Indicacions:\n",
    "+ Usar comprensions de llistes."
   ]
  },
  {
   "cell_type": "code",
   "execution_count": 1,
   "metadata": {},
   "outputs": [
    {
     "data": {
      "text/plain": [
       "233168"
      ]
     },
     "execution_count": 1,
     "metadata": {},
     "output_type": "execute_result"
    }
   ],
   "source": [
    "def multiples():\n",
    "    \"\"\"\n",
    "    Multiples de 3 i 5\n",
    "    \"\"\"\n",
    "    answer = [i for i in range(1, 1000) if i % 3 == 0 or i % 5 == 0]\n",
    "    return (sum(answer))\n",
    "\n",
    "multiples()"
   ]
  },
  {
   "cell_type": "markdown",
   "metadata": {},
   "source": [
    "### Suma dels termes parells de Fibonacci\n",
    "\n",
    "Calcula la suma dels termes parells de la funció de Fibonacci menors de quatre milions. Quant triga? "
   ]
  },
  {
   "cell_type": "code",
   "execution_count": 6,
   "metadata": {},
   "outputs": [
    {
     "name": "stdout",
     "output_type": "stream",
     "text": [
      "100000 loops, best of 3: 3.37 µs per loop\n",
      "4613732\n"
     ]
    }
   ],
   "source": [
    "def fib1(n):\n",
    "    \"\"\"\n",
    "    Suma dels termes parells de Fibonacci\n",
    "    \"\"\"\n",
    "    suma, a, b = 0, 1, 2  \n",
    "    while b < n:      \n",
    "        if b%2 == 0:        \n",
    "            suma += b     \n",
    "        a, b = b, a + b     \n",
    "    return(suma)\n",
    " \n",
    "%timeit fib1(4000000)\n",
    "print(fib1(4000000))"
   ]
  },
  {
   "cell_type": "markdown",
   "metadata": {},
   "source": [
    "### Factor primer més gran\n",
    "\n",
    "Els factors primers de 13195 són 5, 7, 13 i 29. 29 és per tant el seu factor primer més gran. Quin és el factor primer més gran de 600851475143?"
   ]
  },
  {
   "cell_type": "code",
   "execution_count": 3,
   "metadata": {
    "collapsed": true
   },
   "outputs": [],
   "source": [
    "def fpmg(n):\n",
    "    \"\"\"\n",
    "    Factor primer més gran\n",
    "    \"\"\"\n",
    "    divisor = 2\n",
    "    while n > 1:\n",
    "        if not n % divisor:\n",
    "            n /= divisor\n",
    "            divisor -= 1\n",
    "        divisor += 1\n",
    "    return divisor\n",
    "\n",
    "assert fpmg(600851475143) == 6857"
   ]
  },
  {
   "cell_type": "markdown",
   "metadata": {},
   "source": [
    "### Múltiple més petit (recursiva)\n",
    "\n",
    "2520 és el nombre més petit que es pot dividir de forma exacta (sense decimals) per cada un dels nombres entre 1 i 10. Quin és el nombre més petit que es pot dividir per cada un dels nombres de 1 a 20?\n",
    "\n",
    "Indicacions:\n",
    "+  Escriu una funció a part, `divisible`,  per comprovar que un nombre pot ser dividit de forma exacta."
   ]
  },
  {
   "cell_type": "code",
   "execution_count": 11,
   "metadata": {
    "collapsed": true
   },
   "outputs": [],
   "source": [
    "def divisible(number, x):  \n",
    "    \"\"\"\n",
    "    Test de divisibilitat\n",
    "    \"\"\"\n",
    "    for i in reversed(range(1,x+1)):           \n",
    "        if number % i != 0:                     \n",
    "            return False                       \n",
    "    return True  \n",
    "\n",
    "def divisiblePer(x):                      \n",
    "    if x < 1:                                   \n",
    "        return False                            \n",
    "    elif x == 1:                                \n",
    "        return 1                                \n",
    "    else:                                                        \n",
    "        step = divisiblePer(x-1)           \n",
    "        number = 0                              \n",
    "        found = False                           \n",
    "        while not found:                        \n",
    "            number += step                      \n",
    "            found = divisible(number, x)  \n",
    "        return number                           \n",
    "\n",
    "assert divisiblePer(20) == 232792560"
   ]
  },
  {
   "cell_type": "markdown",
   "metadata": {},
   "source": [
    "### Sumatori parcial\n",
    "\n",
    "Donada una llista d’enters, trobar el sumatori parcial (d'enters consecutius a la llista) de valor màxim.\n",
    "\n",
    "Indicacions:\n",
    "+ Aquest algorisme es pot implementar de tres maneres. De moment implementeu només la primera:\n",
    "    + Força bruta $(O(n*n))$\n",
    "    + Divide & conquer $(O(n log n))$\n",
    "    + Kadane's algorithm $(O(n))$"
   ]
  },
  {
   "cell_type": "code",
   "execution_count": 12,
   "metadata": {
    "collapsed": true
   },
   "outputs": [],
   "source": [
    "def mssl(l):\n",
    "    best = 0\n",
    "    cur = 0\n",
    "    for i in l:\n",
    "        cur = max(cur + i, 0)\n",
    "        best = max(best, cur)\n",
    "    return best\n",
    "\n",
    "assert mssl([]) == 0\n",
    "assert mssl([-1]) == 0\n",
    "assert mssl([1, 2, 3]) == 6\n",
    "assert mssl([2, -5, 3]) == 3\n",
    "assert mssl([-5, 1, 4, -2, 2, -1, 2, -3, 1, -3, 4]) == 6"
   ]
  },
  {
   "cell_type": "markdown",
   "metadata": {},
   "source": [
    "+ Quant triga en calcular la suma per un vector aleatori $x$ com aquest?"
   ]
  },
  {
   "cell_type": "code",
   "execution_count": 20,
   "metadata": {},
   "outputs": [
    {
     "name": "stdout",
     "output_type": "stream",
     "text": [
      "1 loop, best of 3: 372 ms per loop\n"
     ]
    }
   ],
   "source": [
    "from random import randint\n",
    "x=[randint(-100,100) for p in range(1000000)]\n",
    "\n",
    "%timeit mssl(x)"
   ]
  },
  {
   "cell_type": "code",
   "execution_count": 13,
   "metadata": {
    "collapsed": true
   },
   "outputs": [],
   "source": [
    "def sumaMaxima(llista, inici, fi):\n",
    "    \"\"\"\n",
    "    Divide & conquer $(O(n log n))$\n",
    "    \"\"\"\n",
    "    print(llista, inici, fi)\n",
    "    if inici == fi:\n",
    "        return llista[inici]\n",
    "    mid = (inici + fi) // 2\n",
    "    \"\"\" Trobar el sumatori màxim parcial que passa pel mig,\n",
    "    calculant primer la part esquerra i després la part dreta\"\"\"\n",
    "    \"\"\" Part esquerra del sumatori que passa pel mig \"\"\"\n",
    "    maxPartEsquerra = -999\n",
    "    suma = 0\n",
    "    for i in range(mid, inici-1, -1):\n",
    "        suma += llista[i]\n",
    "        if suma > maxPartEsquerra:\n",
    "            maxPartEsquerra = suma\n",
    "    \"\"\" Part dreta del sumatori que passa pel mig \"\"\"\n",
    "    maxPartDreta = -999\n",
    "    suma = 0\n",
    "    for i in range(mid+1, fi+1):\n",
    "        suma += llista[i]\n",
    "        if suma > maxPartDreta:\n",
    "            maxPartDreta = suma\n",
    "    maxMig = maxPartEsquerra + maxPartDreta\n",
    "    \"\"\" Trobar el sumatori màxim parcial esquerra que no arriba al mig\"\"\"\n",
    "    maxEsquerra = sumaMaxima(llista, inici, mid)\n",
    "    \"\"\" Trobar el sumatori màxim parcial dreta que no passa pel mig\"\"\"\n",
    "    maxDreta = sumaMaxima(llista, mid + 1, fi)\n",
    "    return max(maxMig, maxEsquerra, maxDreta)"
   ]
  },
  {
   "cell_type": "code",
   "execution_count": 14,
   "metadata": {
    "collapsed": true
   },
   "outputs": [],
   "source": [
    "def find_max(L):\n",
    "    \"\"\"\n",
    "    Kadane's algorithm $(O(n))$\n",
    "    \"\"\"\n",
    "    length = len(L)\n",
    "    mid_index = int(length/2)\n",
    "    if length == 0:\n",
    "        return 0\n",
    "    elif length == 1:\n",
    "        return max(L[0], 0)\n",
    "\n",
    "    left = find_max(L[:mid_index])\n",
    "    right = find_max(L[mid_index:])\n",
    "\n",
    "    left_half = right_half = 0\n",
    "    # to the left\n",
    "    accum = 0\n",
    "    for x in L[mid_index-1::-1]:\n",
    "        accum += x\n",
    "        left_half = max(left_half, accum)\n",
    "\n",
    "    # to the right\n",
    "    accum = 0\n",
    "    for x in L[mid_index:]:\n",
    "        accum += x\n",
    "        right_half = max(right_half, accum)\n",
    "\n",
    "    return max(left, right, left_half + right_half)\n",
    "\n",
    "\n",
    "assert find_max([]) == 0\n",
    "assert find_max([-1]) == 0\n",
    "assert find_max([1, 2, 3]) == 6\n",
    "assert find_max([2, -5, 3]) == 3\n",
    "assert find_max([-5, 1, 4, -2, 2, -1, 2, -3, 1, -3, 4]) == 6"
   ]
  },
  {
   "cell_type": "markdown",
   "metadata": {},
   "source": [
    "### Binari\n",
    "\n",
    "Donat un número $N$, crea tots els nombres binaris entre 1 i $N$, ambdós inclosos.\n",
    "\n",
    "Indicacions:\n",
    "+ Dóna el resultat usant 16 bits."
   ]
  },
  {
   "cell_type": "code",
   "execution_count": 1,
   "metadata": {},
   "outputs": [
    {
     "name": "stdout",
     "output_type": "stream",
     "text": [
      "0000000000000001\n",
      "0000000000000010\n",
      "0000000000000011\n",
      "0000000000000100\n",
      "0000000000000101\n",
      "0000000000000110\n",
      "0000000000000111\n",
      "0000000000001000\n",
      "0000000000001001\n",
      "0000000000001010\n"
     ]
    }
   ],
   "source": [
    "def generaBinari(N):\n",
    "    \"\"\"\n",
    "    Aquesta funció genera els nombres binaris\n",
    "    entre 1 i N\n",
    "    :param N el valor més gran pels binaris\n",
    "    \"\"\"\n",
    "    for i in range(1, N+1):\n",
    "        b = bin(i)[2:]\n",
    "        l = len(b)\n",
    "        b = str(0) * (16 - l) + b\n",
    "        print(b)\n",
    "\n",
    "generaBinari(10)"
   ]
  },
  {
   "cell_type": "markdown",
   "metadata": {},
   "source": [
    "### Implementació eficient de la potència\n",
    "\n",
    "Donats dos enters $x$ i $y$, amb $y>=0$, calcular de manera eficient al valor de la potència $x$ elevat a $y$.\n",
    "\n",
    "Indicacions:\n",
    "+ Recordes com funcionen els exponents?. Si no ho recordes, t'aconsellem aquest repàs sobre les propietats dels exponents a [Khan Academy](https://es.khanacademy.org/math/pre-algebra/pre-algebra-exponents-radicals/pre-algebra-exponent-properties/a/exponent-properties-review). Quines propietats són aplicables al problema?\n",
    "+ Aplica recursivitat."
   ]
  },
  {
   "cell_type": "code",
   "execution_count": 9,
   "metadata": {
    "collapsed": true
   },
   "outputs": [],
   "source": [
    "#solucio força bruta\n",
    "\"\"\"\n",
    "Aquesta funció calcula la potència de x elevada a y\n",
    ":param x,y dos enters no negatius\n",
    ":return potencia, el resultat de la potència\n",
    "\"\"\"\n",
    "\n",
    "\n",
    "def potencia(x, y):\n",
    "    potencia = 1\n",
    "    for i in range(0, y):\n",
    "        potencia = potencia * x\n",
    "    return potencia\n",
    "\n",
    "assert potencia(-2,10) == 1024\n",
    "assert potencia(-3,4) == 81\n",
    "assert potencia(5,0) == 1\n",
    "assert potencia(-2,3) == -8\n",
    "\n",
    "\n",
    "\"\"\"\n",
    "Aquesta funció calcula de forma eficient la potència de x elevada a y\n",
    "gràcies a que potencia(x,y)=potencia(x,y/2)*potencia(x,y/2) [*x si y és senar]\n",
    ":param x,y dos enters no negatius\n",
    ":return potencia, el resultat de la potència\n",
    "\"\"\"\n",
    "\n",
    "# solució optimitzada\n",
    "def potenciarec(x, y):\n",
    "    if y == 0:\n",
    "        return 1\n",
    "    if y == 1:\n",
    "        return x\n",
    "    potencia = potenciarec(x, y // 2)\n",
    "    if (y % 2 == 0):\n",
    "        return potencia * potencia\n",
    "    else:\n",
    "        return potencia * potencia * x\n",
    "\n",
    "assert potencia(-2,10) == 1024\n",
    "assert potencia(-3,4) == 81\n",
    "assert potencia(5,0) == 1\n",
    "assert potencia(-2,3) == -8"
   ]
  },
  {
   "cell_type": "markdown",
   "metadata": {},
   "source": [
    "### Suma de parelles\n",
    "\n",
    "Donada una llista d’enters i un valor de suma, trobar totes les parelles de nombres a la llista que sumin aquest valor."
   ]
  },
  {
   "cell_type": "code",
   "execution_count": 10,
   "metadata": {},
   "outputs": [
    {
     "name": "stdout",
     "output_type": "stream",
     "text": [
      "Parella trobada (2+8)\n",
      "Parella trobada (3+7)\n"
     ]
    }
   ],
   "source": [
    "def parellesSuma2(llista, valorSuma):\n",
    "    llista.sort()  # ordenem la llista\n",
    "    low = 0          # un membre de la parella el busquem des de l'inici\n",
    "    high = len(llista)-1  # l'altre des del final\n",
    "    while (low < high):  # només cal recorrer mitja llista\n",
    "        if (llista[low]+llista[high] == valorSuma):\n",
    "            print(f\"Parella trobada ({llista[low]}+{llista[high]})\")\n",
    "        if (llista[low]+llista[high] < valorSuma):\n",
    "            low += 1  # si suma és més petita busquem un primer membre més gran\n",
    "        else:\n",
    "            high -= 1  # si suma és més gran busquem un darrer membre més petit\n",
    "            \n",
    "parellesSuma2([3,1,5,2,7,8],10)"
   ]
  },
  {
   "cell_type": "markdown",
   "metadata": {},
   "source": [
    "### Màxim i mínim\n",
    "\n",
    "Donada una llista d’enters, trobar el valor mínim i el valor màxim amb un algorisme $O(N)$ intentant minimitzar el nombre de comparacions."
   ]
  },
  {
   "cell_type": "code",
   "execution_count": 11,
   "metadata": {
    "collapsed": true
   },
   "outputs": [],
   "source": [
    "# Solució força bruta\n",
    "\"\"\"\n",
    "Aquesta funció, donada una llista d’enters,\n",
    "troba el valor mínim i el valor màxim.\n",
    ":param llista, la llista d'enters\n",
    ":return min, max els valors mínim i màxim dins la llista\n",
    "\"\"\"\n",
    "\n",
    "\n",
    "def minMax(llista):\n",
    "    min = max = llista[0]\n",
    "    for i in range(0, len(llista)):  # Comparació del bucle\n",
    "        if llista[i] < min:          # 1 comparació\n",
    "            min = llista[i]\n",
    "        if llista[i] > max:          # 2 comparació\n",
    "            max = llista[i]\n",
    "    return min, max\n",
    "\n",
    "\n",
    "# Solució optimitzada (pista: es tracta de reduir el num. de comparacions)\n",
    "\"\"\"\n",
    "Aquesta funció, donada una llista d’enters,\n",
    "troba el valor mínim i el valor màxim de manera optimitzada\n",
    ":param llista, la llista d'enters\n",
    ":return min, max els valors mínim i màxim dins la llista\n",
    "\"\"\"\n",
    "\n",
    "\n",
    "def minMaxOpt(llista):\n",
    "    senar = False\n",
    "    min = max = minim = maxim = llista[0]\n",
    "    if len(llista) // 2 != len(llista)/2:  # Comparació per senar\n",
    "        senar = True\n",
    "    for i in range(0, len(llista)-1, 2):  # Comparació del bucle\n",
    "        if llista[i] > llista[i+1]:       # 1 comparació\n",
    "            minim = llista[i+1]\n",
    "            maxim = llista[i]\n",
    "        else:\n",
    "            minim = llista[i]\n",
    "            maxim = llista[i+1]\n",
    "        if maxim > max:                   # 2 Comparació\n",
    "            max = maxim\n",
    "        if minim < min:                   # 3 Comparacio\n",
    "            min = minim\n",
    "    if senar:\n",
    "        if max < llista[-1]:              # Comparació addicional si és senar\n",
    "            max = llista[-1]\n",
    "        if min > llista[-1]:              # Comparació addicional si és senar\n",
    "            min = llista[-1]\n",
    "    return min, max"
   ]
  },
  {
   "cell_type": "markdown",
   "metadata": {},
   "source": [
    "### Sumes i quadrats\n",
    "\n",
    "La *suma dels quadrats* dels primer 10 nombres naturals és $1^2 + 2^2 + ... + 10^2 = 385$.\n",
    "\n",
    "El *quadrat de la suma* dels primer 10 nombres naturals és $(1 + 2 + ... + 10)^2 = 55^2 = 3025$.\n",
    "\n",
    "Per tant, la diferència entre la suma d'aquests quadrats i el quadrat de la suma és $3025 − 385 = 2640$.\n",
    "\n",
    "Troba aquesta diferència pel cas dels 100 primers nombres naturals."
   ]
  },
  {
   "cell_type": "code",
   "execution_count": 21,
   "metadata": {
    "collapsed": true
   },
   "outputs": [],
   "source": [
    "def sumQuadrats(n):\n",
    "    sumSquares = sum([i for i in range(1, n+1)]) ** 2\n",
    "    squaresSum = sum([i ** 2 for i  in range(1, n+1)])\n",
    "    return (sumSquares - squaresSum)\n",
    "\n",
    "assert sumQuadrats(100)==25164150"
   ]
  },
  {
   "cell_type": "markdown",
   "metadata": {},
   "source": [
    "### El primer nombre 10001.\n",
    "\n",
    "Si llistem els primers 6 nombres primers: 2, 3, 5, 7, 11, and 13, podem veure que el 6è primer és el 13. Quin és el primer que ocupa la posició 10001?"
   ]
  },
  {
   "cell_type": "code",
   "execution_count": 1,
   "metadata": {},
   "outputs": [
    {
     "name": "stdout",
     "output_type": "stream",
     "text": [
      "104743\n"
     ]
    }
   ],
   "source": [
    "def prime(n):\n",
    "    if n < 2:\n",
    "        return False\n",
    "    for i in range(2,int(pow(n, 1/2)) + 1):\n",
    "        if n % i == 0:\n",
    "            return False\n",
    "    return True\n",
    "\n",
    "primes = [2]\n",
    "n = 3\n",
    "while len(primes) < 10001:\n",
    "    if prime(n):\n",
    "        primes.append(n)\n",
    "    n += 2\n",
    "print(primes[-1])"
   ]
  },
  {
   "cell_type": "markdown",
   "metadata": {},
   "source": [
    "### Suma dels dígits d'una potència\n",
    "\n",
    "Quant sumen els dígits de $2^{1000}$?"
   ]
  },
  {
   "cell_type": "code",
   "execution_count": 1,
   "metadata": {
    "collapsed": true
   },
   "outputs": [],
   "source": [
    "def sumDigits(n):\n",
    "    m = str(2 ** n)\n",
    "    answer = 0\n",
    "    for i in range(0, len(m)):\n",
    "        answer += int(m[i])\n",
    "    return answer\n",
    "\n",
    "assert sumDigits(1000) == 1366"
   ]
  },
  {
   "cell_type": "markdown",
   "metadata": {},
   "source": [
    "### Potència de 2\n",
    "\n",
    "Determinar si un nombre és potència de 2.\n",
    "\n",
    "Indicacions: \n",
    "+ Si ens fixem en la representació binària d'un nombre és fàcil veure que les potències de 2 només tenen un bit a 1. \n",
    "+ A nivell de bits, donada una potència de 2 (p.e. 010000), el nombre anterior té una forma complementaria en el bits menys significatius (001111). \n",
    "+ Recordeu que Python té operadors que actuen directament sobre els bits d'una variable."
   ]
  },
  {
   "cell_type": "code",
   "execution_count": 2,
   "metadata": {
    "collapsed": true
   },
   "outputs": [],
   "source": [
    "def potencia(n):\n",
    "    if n <= 0:\n",
    "        return False\n",
    "    return (n & (n - 1)) == 0\n",
    "\n",
    "assert potencia(1024) == True\n",
    "assert potencia(2**2345) == True\n",
    "assert potencia(2**2345+1) == False"
   ]
  },
  {
   "cell_type": "code",
   "execution_count": 6,
   "metadata": {},
   "outputs": [
    {
     "data": {
      "text/plain": [
       "True"
      ]
     },
     "execution_count": 6,
     "metadata": {},
     "output_type": "execute_result"
    }
   ],
   "source": [
    "potencia(4)"
   ]
  },
  {
   "cell_type": "code",
   "execution_count": null,
   "metadata": {
    "collapsed": true
   },
   "outputs": [],
   "source": []
  }
 ],
 "metadata": {
  "kernelspec": {
   "display_name": "Python 3",
   "language": "python",
   "name": "python3"
  },
  "language_info": {
   "codemirror_mode": {
    "name": "ipython",
    "version": 3
   },
   "file_extension": ".py",
   "mimetype": "text/x-python",
   "name": "python",
   "nbconvert_exporter": "python",
   "pygments_lexer": "ipython3",
   "version": "3.6.1"
  }
 },
 "nbformat": 4,
 "nbformat_minor": 2
}
