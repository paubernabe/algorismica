{
 "cells": [
  {
   "cell_type": "markdown",
   "metadata": {},
   "source": [
    "# Sessió 3: Algorismes Numèrics\n",
    "\n",
    "Indicacions:\n",
    "+ Cada exercici s'ha de poder respondre executant una única funció (tot i que aquesta funció pot cridar altres funcions si és necessari)."
   ]
  },
  {
   "cell_type": "markdown",
   "metadata": {},
   "source": [
    "### Multiples de 3 i 5\n",
    "\n",
    "Els nombre naturals menors que 10 que són múltiples de 3 o 5 són 3,5,6, i 9. La suma d'aquests múltiples és 23. Calcula la suma de tots els naturals que són múltiples de 3 o 5 i que són menors que 1000.\n",
    "\n",
    "Indicacions:\n",
    "+ Usar comprensions de llistes."
   ]
  },
  {
   "cell_type": "code",
   "execution_count": 96,
   "metadata": {
    "collapsed": true
   },
   "outputs": [],
   "source": [
    "def multiples():\n",
    "    \"\"\"\n",
    "    Multiples de 3 i 5\n",
    "    \"\"\"\n",
    "    answer = [i for i in range(1, 1000) if i % 3 == 0 or i % 5 == 0]\n",
    "    return (sum(answer))\n",
    "\n"
   ]
  },
  {
   "cell_type": "code",
   "execution_count": 97,
   "metadata": {},
   "outputs": [
    {
     "data": {
      "text/plain": [
       "233168"
      ]
     },
     "execution_count": 97,
     "metadata": {},
     "output_type": "execute_result"
    }
   ],
   "source": [
    "multiples()"
   ]
  },
  {
   "cell_type": "markdown",
   "metadata": {},
   "source": [
    "### Suma dels termes parells de Fibonacci\n",
    "\n",
    "Calcula la suma dels termes parells de la funció de Fibonacci menors de quatre milions. Quant triga? "
   ]
  },
  {
   "cell_type": "code",
   "execution_count": 7,
   "metadata": {},
   "outputs": [
    {
     "name": "stdout",
     "output_type": "stream",
     "text": [
      "100000 loops, best of 3: 6.14 µs per loop\n",
      "4613732\n"
     ]
    }
   ],
   "source": [
    "def fib1(n):\n",
    "    \"\"\"\n",
    "    Suma dels termes parells de Fibonacci\n",
    "    \"\"\"\n",
    "    suma, a, b = 0, 1, 2  \n",
    "    while b < n:      \n",
    "        if b%2 == 0:        \n",
    "            suma += b     \n",
    "        a, b = b, a + b     \n",
    "    return(suma)\n",
    " \n",
    "%timeit fib1(4000000)\n",
    "print(fib1(4000000))"
   ]
  },
  {
   "cell_type": "markdown",
   "metadata": {},
   "source": [
    "### Factor primer més gran\n",
    "\n",
    "Els factors primers de 13195 són 5, 7, 13 i 29. 29 és per tant el seu factor primer més gran. Quin és el factor primer més gran de 600851475143?"
   ]
  },
  {
   "cell_type": "code",
   "execution_count": 3,
   "metadata": {},
   "outputs": [],
   "source": [
    "def fpmg(n):\n",
    "    \"\"\"\n",
    "    Factor primer més gran\n",
    "    \"\"\"\n",
    "    divisor = 2\n",
    "    while n > 1:\n",
    "        if not n % divisor:\n",
    "            n /= divisor\n",
    "            divisor -= 1\n",
    "        divisor += 1\n",
    "    return divisor\n",
    "\n",
    "assert fpmg(600851475143) == 6857"
   ]
  },
  {
   "cell_type": "code",
   "execution_count": 4,
   "metadata": {},
   "outputs": [
    {
     "data": {
      "text/plain": [
       "29"
      ]
     },
     "execution_count": 4,
     "metadata": {},
     "output_type": "execute_result"
    }
   ],
   "source": [
    "fpmg(13195)"
   ]
  },
  {
   "cell_type": "markdown",
   "metadata": {},
   "source": [
    "### Múltiple més petit (recursiva)\n",
    "\n",
    "2520 és el nombre més petit que es pot dividir de forma exacta (sense decimals) per cada un dels nombres entre 1 i 10. Quin és el nombre més petit que es pot dividir per cada un dels nombres de 1 a 20?\n",
    "\n",
    "Indicacions:\n",
    "+  Escriu una funció a part, `divisible`,  per comprovar que un nombre pot ser dividit de forma exacta."
   ]
  },
  {
   "cell_type": "code",
   "execution_count": 5,
   "metadata": {
    "collapsed": true
   },
   "outputs": [],
   "source": [
    "def divisible(number, x):  \n",
    "    \"\"\"\n",
    "    Test de divisibilitat\n",
    "    \"\"\"\n",
    "    \n",
    "    while number%x==0 and x>1:\n",
    "        x=x-1\n",
    "    return x== 1\n",
    "    \n",
    "\n",
    "def divisiblePer(x):\n",
    "    number= x\n",
    "    while not divisible(number,x):\n",
    "        number +=1\n",
    "    return number\n",
    "                  \n",
    "\n"
   ]
  },
  {
   "cell_type": "code",
   "execution_count": 6,
   "metadata": {},
   "outputs": [
    {
     "data": {
      "text/plain": [
       "2520"
      ]
     },
     "execution_count": 6,
     "metadata": {},
     "output_type": "execute_result"
    }
   ],
   "source": [
    "divisiblePer(10)"
   ]
  },
  {
   "cell_type": "markdown",
   "metadata": {},
   "source": [
    "### Sumatori parcial\n",
    "\n",
    "Donada una llista d’enters, trobar el sumatori parcial (d'enters consecutius a la llista) de valor màxim.\n",
    "\n",
    "Indicacions:\n",
    "+ Aquest algorisme es pot implementar de tres maneres. De moment implementeu només la primera:\n",
    "    + Força bruta $(O(n*n))$\n",
    "    + Divide & conquer $(O(n log n))$\n",
    "    + Kadane's algorithm $(O(n))$"
   ]
  },
  {
   "cell_type": "code",
   "execution_count": 1,
   "metadata": {
    "collapsed": true
   },
   "outputs": [],
   "source": [
    "def mssl(l):\n",
    "    suma= 0\n",
    "    maximaSuma= l[0]\n",
    "    for i in range (0, len(l)):\n",
    "        suma=l[i]\n",
    "\n",
    "        for j in range (i+1,len(l)):\n",
    "            suma= suma + l[j]\n",
    "            maximaSuma=max (maximaSuma, suma)\n",
    "            \n",
    "            \n",
    "    return max(maximaSuma,suma)"
   ]
  },
  {
   "cell_type": "code",
   "execution_count": 2,
   "metadata": {},
   "outputs": [
    {
     "data": {
      "text/plain": [
       "6"
      ]
     },
     "execution_count": 2,
     "metadata": {},
     "output_type": "execute_result"
    }
   ],
   "source": [
    "\n",
    "l=[-5, 1, 4, -2, 2, -1, 2, -3, 1, -3, 4]\n",
    "mssl(l)"
   ]
  },
  {
   "cell_type": "code",
   "execution_count": 38,
   "metadata": {
    "collapsed": true
   },
   "outputs": [],
   "source": [
    "def find_Max(A):\n",
    "    \"\"\"\n",
    "    Kadane's algorithm O(n)\n",
    "    \"\"\"\n",
    "    if len(A)<1:\n",
    "        return 0\n",
    "    max_ending_here = max_so_far = A[0]\n",
    "    for x in A [1:]:\n",
    "        max_ending_here = max (x,max_ending_here + x)\n",
    "        max_so_far = max (max_so_far, max_ending_here)\n",
    "    return max_so_far\n"
   ]
  },
  {
   "cell_type": "code",
   "execution_count": 39,
   "metadata": {},
   "outputs": [
    {
     "data": {
      "text/plain": [
       "10"
      ]
     },
     "execution_count": 39,
     "metadata": {},
     "output_type": "execute_result"
    }
   ],
   "source": [
    "find_Max ([-3,2,-1,5,4,-2])"
   ]
  },
  {
   "cell_type": "markdown",
   "metadata": {},
   "source": [
    "+ Quant triga en calcular la suma per un vector aleatori $x$ com aquest?"
   ]
  },
  {
   "cell_type": "code",
   "execution_count": 1,
   "metadata": {
    "collapsed": true
   },
   "outputs": [],
   "source": [
    "from random import randint\n",
    "x=[randint(-100,100) for p in range(1000000)]"
   ]
  },
  {
   "cell_type": "markdown",
   "metadata": {},
   "source": [
    "### Binari\n",
    "\n",
    "Donat un número $N$, crea tots els nombres binaris entre 1 i $N$, ambdós inclosos.\n",
    "\n",
    "Indicacions:\n",
    "+ Dóna el resultat usant 16 bits."
   ]
  },
  {
   "cell_type": "code",
   "execution_count": 3,
   "metadata": {
    "collapsed": true
   },
   "outputs": [],
   "source": [
    "def generaBinari(N):\n",
    "    \"\"\"\n",
    "    Aquesta funció genera els nombres binaris\n",
    "    entre 1 i N \n",
    "    :param N el valor més gran pels binaris\n",
    "    convertir a bin 16bits (strings)\n",
    "    \"\"\"\n",
    "    for i in range (1, N+1):\n",
    "        binaris=((bin(i))[2:])\n",
    "        binaris=str(0)*(16-(len(binaris)))+binaris\n",
    "        print (binaris)\n",
    "        \n",
    "    #d'aquesta forma també podriem fer el que ens requereix l'exercici print ((bin(i)[2:].zfill(16)))    "
   ]
  },
  {
   "cell_type": "code",
   "execution_count": 4,
   "metadata": {},
   "outputs": [
    {
     "name": "stdout",
     "output_type": "stream",
     "text": [
      "0000000000000001\n",
      "0000000000000010\n",
      "0000000000000011\n",
      "0000000000000100\n",
      "0000000000000101\n",
      "0000000000000110\n",
      "0000000000000111\n",
      "0000000000001000\n",
      "0000000000001001\n",
      "0000000000001010\n"
     ]
    }
   ],
   "source": [
    "generaBinari(10)"
   ]
  },
  {
   "cell_type": "markdown",
   "metadata": {},
   "source": [
    "### Implementació eficient de la potència\n",
    "\n",
    "Donats dos enters $x$ i $y$, amb $y>=0$, calcular de manera eficient al valor de la potència $x$ elevat a $y$.\n",
    "\n",
    "Indicacions:\n",
    "+ Recordes com funcionen els exponents?. Si no ho recordes, t'aconsellem aquest repàs sobre les propietats dels exponents a [Khan Academy](https://es.khanacademy.org/math/pre-algebra/pre-algebra-exponents-radicals/pre-algebra-exponent-properties/a/exponent-properties-review). Quines propietats són aplicables al problema?\n",
    "+ Aplica recursivitat."
   ]
  },
  {
   "cell_type": "code",
   "execution_count": 3,
   "metadata": {
    "collapsed": true
   },
   "outputs": [],
   "source": [
    "#solucio força bruta\n",
    "\"\"\"\n",
    "Aquesta funció calcula la potència de x elevada a y\n",
    ":param x,y dos enters no negatius\n",
    ":return potencia, el resultat de la potència\n",
    "pot=potencia (x,y//2\n",
    "resultat=pot)\n",
    "\"\"\"\n",
    "\n",
    "\n",
    "def potencia(x, y):\n",
    "    potencia=x**y\n",
    "    return potencia\n",
    "    \n",
    "    \n",
    "\n"
   ]
  },
  {
   "cell_type": "code",
   "execution_count": 4,
   "metadata": {},
   "outputs": [
    {
     "data": {
      "text/plain": [
       "1024"
      ]
     },
     "execution_count": 4,
     "metadata": {},
     "output_type": "execute_result"
    }
   ],
   "source": [
    "potencia(-2,10)\n",
    "#potencia(-3,4)\n",
    "#potencia(5,0) \n",
    "#potencia(-2,3) "
   ]
  },
  {
   "cell_type": "code",
   "execution_count": 25,
   "metadata": {
    "collapsed": true
   },
   "outputs": [],
   "source": [
    "#solucio recursiva\n",
    "\n",
    "def potencia(x, y):\n",
    "    return (x**y)\n",
    "\n",
    "\"\"\"\n",
    "Aquesta funció calcula de forma eficient la potència de x elevada a y\n",
    "gràcies a que potencia(x,y)=potencia(x,y/2)*potencia(x,y/2) [*x si y és senar]\n",
    ":param x,y dos enters no negatius\n",
    ":return potencia, el resultat de la potència\n",
    "\"\"\"\n",
    "\n",
    "# solució optimitzada\n",
    "def potenciarec(x, y):\n",
    "    \n",
    "    if y==0:\n",
    "        return 1\n",
    "    if y==1:\n",
    "        return x\n",
    "    \n",
    "    potencia=potenciarec(x,y//2)\n",
    "\n",
    "    if y%2==0:\n",
    "        return potencia*potencia\n",
    "    else:\n",
    "        return potencia*potencia*x\n",
    "    \n",
    "\n",
    "assert potencia(-2,10) == 1024\n",
    "assert potencia(-3,4) == 81\n",
    "assert potencia(5,0) == 1\n",
    "assert potencia(-2,3) == -8"
   ]
  },
  {
   "cell_type": "code",
   "execution_count": 26,
   "metadata": {},
   "outputs": [
    {
     "data": {
      "text/plain": [
       "1024"
      ]
     },
     "execution_count": 26,
     "metadata": {},
     "output_type": "execute_result"
    }
   ],
   "source": [
    "potenciarec(-2,10)"
   ]
  },
  {
   "cell_type": "markdown",
   "metadata": {},
   "source": [
    "### Suma de parelles\n",
    "\n",
    "Donada una llista d’enters i un valor de suma, trobar totes les parelles de nombres a la llista que sumin aquest valor."
   ]
  },
  {
   "cell_type": "code",
   "execution_count": 32,
   "metadata": {
    "collapsed": true
   },
   "outputs": [],
   "source": [
    "def parellesSuma2(llista, valorSuma):\n",
    "    llista.sort()\n",
    "    ex1=0\n",
    "    ex2=len(llista)-1\n",
    "    \n",
    "    while ex1<ex2:\n",
    "        if llista[ex1]+llista[ex2]==valorSuma:\n",
    "            print (llista[ex1],llista[ex2])\n",
    "        if llista[ex1]+llista[ex2]<valorSuma:\n",
    "            ex1+=1\n",
    "        else:\n",
    "            ex2-=1"
   ]
  },
  {
   "cell_type": "code",
   "execution_count": 33,
   "metadata": {},
   "outputs": [
    {
     "name": "stdout",
     "output_type": "stream",
     "text": [
      "2 8\n",
      "3 7\n"
     ]
    }
   ],
   "source": [
    "parellesSuma2([3,1,5,2,7,8],10)"
   ]
  },
  {
   "cell_type": "markdown",
   "metadata": {},
   "source": [
    "### Màxim i mínim\n",
    "\n",
    "Donada una llista d’enters, trobar el valor mínim i el valor màxim amb un algorisme $O(N)$ intentant minimitzar el nombre de comparacions."
   ]
  },
  {
   "cell_type": "code",
   "execution_count": 41,
   "metadata": {
    "collapsed": true
   },
   "outputs": [],
   "source": [
    "# Solució força bruta\n",
    "\"\"\"\n",
    "Aquesta funció, donada una llista d’enters,\n",
    "troba el valor mínim i el valor màxim.\n",
    ":param llista, la llista d'enters\n",
    ":return min, max els valors mínim i màxim dins la llista\n",
    "\"\"\"\n",
    "\n",
    "\n",
    "def minMax(llista):\n",
    "    \"\"\"\n",
    "    Kadane's algorithm O(n)\n",
    "    \"\"\"\n",
    "    if len(llista)<1:\n",
    "        return 0\n",
    "    max_ending_here = max_so_far = llista[0]\n",
    "    for x in llista [1:]:\n",
    "        max_ending_here = max (x,max_ending_here + x)\n",
    "        max_so_far = max (max_so_far, max_ending_here)\n",
    "    return max_so_far"
   ]
  },
  {
   "cell_type": "code",
   "execution_count": 42,
   "metadata": {},
   "outputs": [
    {
     "data": {
      "text/plain": [
       "54"
      ]
     },
     "execution_count": 42,
     "metadata": {},
     "output_type": "execute_result"
    }
   ],
   "source": [
    "minMax([2,6,8,18,20])"
   ]
  },
  {
   "cell_type": "markdown",
   "metadata": {},
   "source": [
    "### Sumes i quadrats\n",
    "\n",
    "La *suma dels quadrats* dels primer 10 nombres naturals és $1^2 + 2^2 + ... + 10^2 = 385$.\n",
    "\n",
    "El *quadrat de la suma* dels primer 10 nombres naturals és $(1 + 2 + ... + 10)^2 = 55^2 = 3025$.\n",
    "\n",
    "Per tant, la diferència entre la suma d'aquests quadrats i el quadrat de la suma és $3025 − 385 = 2640$.\n",
    "\n",
    "Troba aquesta diferència pel cas dels 100 primers nombres naturals."
   ]
  },
  {
   "cell_type": "code",
   "execution_count": 134,
   "metadata": {
    "collapsed": true
   },
   "outputs": [],
   "source": [
    "def sumQuadrats(n):\n",
    "    sumaquad=0\n",
    "    for j in range(1,n+1):\n",
    "        sumaquad+=j**2\n",
    "    sumaquad=sumaquad\n",
    "    \n",
    "    quadsuma=0\n",
    "    \n",
    "    for i in range(1,n+1):\n",
    "        quadsuma+=i\n",
    "    quadsuma=quadsuma**2\n",
    "\n",
    "    dif=quadsuma-sumaquad\n",
    "    return dif\n",
    "        "
   ]
  },
  {
   "cell_type": "code",
   "execution_count": 135,
   "metadata": {},
   "outputs": [
    {
     "data": {
      "text/plain": [
       "25164150"
      ]
     },
     "execution_count": 135,
     "metadata": {},
     "output_type": "execute_result"
    }
   ],
   "source": [
    "sumQuadrats(100)"
   ]
  },
  {
   "cell_type": "markdown",
   "metadata": {},
   "source": [
    "### El primer nombre 10001.\n",
    "\n",
    "Si llistem els primers 6 nombres primers: 2, 3, 5, 7, 11, and 13, podem veure que el 6è primer és el 13. Quin és el primer que ocupa la posició 10001?"
   ]
  },
  {
   "cell_type": "code",
   "execution_count": 4,
   "metadata": {},
   "outputs": [
    {
     "name": "stdout",
     "output_type": "stream",
     "text": [
      "104743\n"
     ]
    }
   ],
   "source": [
    "def prime(n):\n",
    "    if n<2:\n",
    "        return False\n",
    "    \n",
    "    for i in range(2,int(pow(n,1/2))+1):\n",
    "        if n%i==0:\n",
    "            return False\n",
    "    return True\n",
    "\n",
    "    \n",
    "primers=[2]\n",
    "n=3\n",
    "while len(primers)<10001:\n",
    "    if prime(n):\n",
    "        primers.append(n)\n",
    "    n+=2\n",
    "print(primers[-1])\n",
    "\n",
    "\n",
    "\n",
    "    \n",
    "    \n",
    "    \n",
    "    \n",
    "    "
   ]
  },
  {
   "cell_type": "code",
   "execution_count": 5,
   "metadata": {},
   "outputs": [
    {
     "data": {
      "text/plain": [
       "False"
      ]
     },
     "execution_count": 5,
     "metadata": {},
     "output_type": "execute_result"
    }
   ],
   "source": [
    "prime(10001)"
   ]
  },
  {
   "cell_type": "markdown",
   "metadata": {},
   "source": [
    "### Suma dels dígits d'una potència\n",
    "\n",
    "Quant sumen els dígits de $2^{1000}$?"
   ]
  },
  {
   "cell_type": "code",
   "execution_count": 7,
   "metadata": {
    "collapsed": true
   },
   "outputs": [],
   "source": [
    "def sumDigits(n):\n",
    "    potencia=str(2**n)\n",
    "    digits=0\n",
    "    for i in range(len(potencia)):\n",
    "        digits+= int(potencia[i])\n",
    "    return digits"
   ]
  },
  {
   "cell_type": "code",
   "execution_count": 8,
   "metadata": {},
   "outputs": [
    {
     "data": {
      "text/plain": [
       "1366"
      ]
     },
     "execution_count": 8,
     "metadata": {},
     "output_type": "execute_result"
    }
   ],
   "source": [
    "sumDigits(1000)"
   ]
  },
  {
   "cell_type": "markdown",
   "metadata": {},
   "source": [
    "### Potència de 2\n",
    "\n",
    "Determinar si un nombre és potència de 2.\n",
    "\n",
    "Indicacions: \n",
    "+ Si ens fixem en la representació binària d'un nombre és fàcil veure que les potències de 2 només tenen un bit a 1. \n",
    "+ A nivell de bits, donada una potència de 2 (p.e. 010000), el nombre anterior té una forma complementaria en el bits menys significatius (001111). \n",
    "+ Recordeu que Python té operadors que actuen directament sobre els bits d'una variable."
   ]
  },
  {
   "cell_type": "code",
   "execution_count": 1,
   "metadata": {
    "collapsed": true
   },
   "outputs": [],
   "source": [
    "def potencia(n):\n",
    "    p=(bin(n)[2:])\n",
    "    print (p)\n",
    "    count=0\n",
    "\n",
    "    for i in range(0,len(p)):\n",
    "        if p[i]==\"1\":\n",
    "            count+=1\n",
    "    if count==1:\n",
    "        return True\n",
    "    return False\n",
    "    \n",
    "    "
   ]
  },
  {
   "cell_type": "code",
   "execution_count": 9,
   "metadata": {},
   "outputs": [
    {
     "name": "stdout",
     "output_type": "stream",
     "text": [
      "100000000000\n"
     ]
    },
    {
     "data": {
      "text/plain": [
       "True"
      ]
     },
     "execution_count": 9,
     "metadata": {},
     "output_type": "execute_result"
    }
   ],
   "source": [
    "potencia(2048)"
   ]
  }
 ],
 "metadata": {
  "kernelspec": {
   "display_name": "Python 3",
   "language": "python",
   "name": "python3"
  },
  "language_info": {
   "codemirror_mode": {
    "name": "ipython",
    "version": 3
   },
   "file_extension": ".py",
   "mimetype": "text/x-python",
   "name": "python",
   "nbconvert_exporter": "python",
   "pygments_lexer": "ipython3",
   "version": "3.6.1"
  }
 },
 "nbformat": 4,
 "nbformat_minor": 2
}
