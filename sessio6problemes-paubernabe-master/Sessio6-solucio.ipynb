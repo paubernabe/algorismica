{
 "cells": [
  {
   "cell_type": "markdown",
   "metadata": {},
   "source": [
    "# Sessió de problemes 6: Cerca, ordenació i hashing "
   ]
  },
  {
   "cell_type": "markdown",
   "metadata": {},
   "source": [
    "### Problema 1. Zeros al final"
   ]
  },
  {
   "cell_type": "markdown",
   "metadata": {},
   "source": [
    "Donada una llista d’enters, moure tots els zeros que contingui al final de la llista, sense alterar l'ordre relatiu de la resta d'elements."
   ]
  },
  {
   "cell_type": "markdown",
   "metadata": {},
   "source": [
    "Per exemple:\n",
    "+ Llista = ```[3,1,0,5,0,0,2,7,8]```\n",
    "+ Solució: ```[3,1,5,2,7,8,0,0,0]```\n"
   ]
  },
  {
   "cell_type": "code",
   "execution_count": null,
   "metadata": {
    "collapsed": true
   },
   "outputs": [],
   "source": [
    "def moureZerosFinal(llista):\n",
    "    \"\"\"\n",
    "    Aquesta funció mou tots els zeros de la llista donada al final\n",
    "    la funció és una variació del quicksort en que fem swap dels elements\n",
    "    de la llista usant com a pivot el 0\n",
    "    :param llista, la llista d'enters\n",
    "    :return la llista amb els zeros al final\n",
    "    \"\"\"\n",
    "    pass\n",
    "\n",
    "assert moureZerosFinal([0,3,0,1,0,5,0,0,2,7,8]) == [3,1,5,2,7,8,0,0,0,0,0]"
   ]
  },
  {
   "cell_type": "code",
   "execution_count": 2,
   "metadata": {},
   "outputs": [
    {
     "data": {
      "text/plain": [
       "[3, 1, 5, 2, 7, 8, 0, 0, 0, 0, 0]"
      ]
     },
     "execution_count": 2,
     "metadata": {},
     "output_type": "execute_result"
    }
   ],
   "source": [
    "# Inserir aquí el codi de la solució\n",
    "\n",
    "def moureZerosFinal(llista):\n",
    "    \"\"\"\n",
    "    Aquesta funció mou tots els zeros de la llista donada al final\n",
    "    la funció és una variació del quicksort en que fem swap dels elements\n",
    "    de la llista usant com a pivot el 0\n",
    "    :param llista, la llista d'enters\n",
    "    :return la llista amb els zeros al final\n",
    "    \"\"\"\n",
    "    j = 0\n",
    "    for i in range(0, len(llista)):\n",
    "        if llista[i] != 0:\n",
    "            llista[i], llista[j] = llista[j], llista[i]\n",
    "            j += 1\n",
    "    return llista\n",
    "\n",
    "assert moureZerosFinal([0,3,0,1,0,5,0,0,2,7,8]) == [3,1,5,2,7,8,0,0,0,0,0]\n",
    "\n",
    "moureZerosFinal([0,3,0,1,0,5,0,0,2,7,8])"
   ]
  },
  {
   "cell_type": "markdown",
   "metadata": {},
   "source": [
    "#### Pregunta 1.1: El problema et recorda algun dels algorismes de dividir i vèncer? Quin? Com el pots usar?"
   ]
  },
  {
   "cell_type": "markdown",
   "metadata": {},
   "source": [
    "El problema sembla la partició del quicksort, i en aquest cas tenim el pivot predeterminat a valor 0. Hem de dividir la llista posant a l'esquerra els valors diferents a 0, i a la dreta els valors iguals a 0. Però amb l'algorisme de partició no mantindriem l'ordre dels números."
   ]
  },
  {
   "cell_type": "markdown",
   "metadata": {},
   "source": [
    "#### Pregunta 1.2: Modifica l'algorisme per moure tot els zeros al principi."
   ]
  },
  {
   "cell_type": "code",
   "execution_count": null,
   "metadata": {
    "collapsed": true
   },
   "outputs": [],
   "source": [
    "def moureZerosInici(llista):\n",
    "    \"\"\"\n",
    "    Aquesta funció mou tots els zeros de la llista donada a l'inici\n",
    "    la funció és una variació del quicksort en que fem swap dels elements\n",
    "    de la llista usant com a pivot el 0\n",
    "    :param llista, la llista d'enters\n",
    "    :return la llista amb els zeros al final\n",
    "    \"\"\"\n",
    "    pass\n",
    "\n",
    "assert moureZerosInici([0,3,0,1,0,5,0,0,2,7,8]) == [0, 0, 0, 0, 0, 3, 1, 5, 2, 7, 8]"
   ]
  },
  {
   "cell_type": "code",
   "execution_count": null,
   "metadata": {
    "collapsed": true
   },
   "outputs": [],
   "source": [
    "def moureZerosInici(llista):\n",
    "    \"\"\"\n",
    "Aquesta funció mou tots els zeros de la llista donada a l'inici\n",
    "la funció és una variació del quicksort en que fem swap dels elements\n",
    "de la llista usant com a pivot el 0\n",
    ":param llista, la llista d'enters\n",
    ":return la llista amb els zeros al final\n",
    "\"\"\"\n",
    "    j = len(llista) - 1\n",
    "    for i in range(len(llista)-1, -1, -1):\n",
    "        if llista[i] != 0:\n",
    "            llista[i], llista[j] = llista[j], llista[i]\n",
    "            j -= 1\n",
    "    return llista\n",
    "\n",
    "assert moureZerosInici([0,3,0,1,0,5,0,0,2,7,8]) == [0, 0, 0, 0, 0, 3, 1, 5, 2, 7, 8]"
   ]
  },
  {
   "cell_type": "markdown",
   "metadata": {},
   "source": [
    "### Problema 2. Inversions"
   ]
  },
  {
   "cell_type": "markdown",
   "metadata": {},
   "source": [
    "Donada una llista d’enters comptar quantes inversions s'han fet. Si $i < j$ diem que s'ha fet una inversió a la parella $(i, j)$ quan $A[i] > A [j]$."
   ]
  },
  {
   "cell_type": "markdown",
   "metadata": {},
   "source": [
    "Per exemple:\n",
    "+ Llista=[3,1,5,2,7,8,4]\n",
    "+ Solució: S'han fet 6 inversions a la llista. Les inversions són: ```(3,1),(3,2),(5,2),(5,4),(7,4),(8,4)```.\n"
   ]
  },
  {
   "cell_type": "code",
   "execution_count": null,
   "metadata": {
    "collapsed": true
   },
   "outputs": [],
   "source": [
    "def mergesortInv(list):\n",
    "    \"\"\"\n",
    "    Donada una llista d’enters comptar quantes inversions s'han fet.\n",
    "    Si i < j diem que s'ha fet una inversió a la parella (i, j)\n",
    "    quan A[i] > A [j] .\n",
    "    L'algorisme en realitat és un mergesort modificat.\n",
    "    Si la llista només té un element no hi ha cap inversió,\n",
    "    si la llista té més d'un element la parteix i suma les\n",
    "    inversions de l'esquerra i de la dreta\n",
    "    param: list la llista amb els enters\n",
    "    return: list, inversions la llista ordenada i el nombre d'inversions\"\"\"\n",
    "    pass\n",
    "\n",
    "def mergeInv(left, right, inversions):\n",
    "    \"\"\"\n",
    "    Aquest algorisme és una modificació de l'algorisme de merge que\n",
    "    a banda d'ordenar i fusionar dues subllistes també té un comptador de\n",
    "    les inversions que s'han anat fent\n",
    "    :param left la semillista esquerra\n",
    "    :param right la semillista dreta\n",
    "    :inversions les inversions fetes fins aquell moment\n",
    "    :return les llistes fusionades i ordenades i el recompte d'inversions.\n",
    "    \"\"\"    \n",
    "    pass\n",
    "\n",
    "assert  mergesortInv(Llista) == ([1, 2, 3, 4, 5, 7, 8], 6)"
   ]
  },
  {
   "cell_type": "code",
   "execution_count": 5,
   "metadata": {},
   "outputs": [
    {
     "data": {
      "text/plain": [
       "([1, 2, 3, 4, 5, 7, 8], 6)"
      ]
     },
     "execution_count": 5,
     "metadata": {},
     "output_type": "execute_result"
    }
   ],
   "source": [
    "def mergesortInv(list):\n",
    "    \"\"\"\n",
    "    Donada una llista d’enters comptar quantes inversions s'han fet.\n",
    "    Si i < j diem que s'ha fet una inversió a la parella (i, j)\n",
    "    quan A[i] > A [j] .\n",
    "    L'algorisme en realitat és un mergesort modificat.\n",
    "    Si la llista només té un element no hi ha cap inversió,\n",
    "    si la llista té més d'un element la parteix i suma les\n",
    "    inversions de l'esquerra i de la dreta\n",
    "    param: list la llista amb els enters\n",
    "    return: list, inversions la llista ordenada i el nombre d'inversions\"\"\"\n",
    "    if len(list) < 2:\n",
    "        return list, 0\n",
    "    else:\n",
    "        mid = len(list) // 2\n",
    "        left, invl = mergesortInv(list[:mid])\n",
    "        right, invd = mergesortInv(list[mid:])\n",
    "        return mergeInv(left, right, invl+invd)\n",
    "\n",
    "\n",
    "def mergeInv(left, right, inversions):\n",
    "    \"\"\"\n",
    "    Aquest algorisme és una modificació de l'algorisme de merge que\n",
    "    a banda d'ordenar i fusionar dues subllistes també té un comptador de\n",
    "    les inversions que s'han anat fent\n",
    "    :param left la semillista esquerra\n",
    "    :param right la semillista dreta\n",
    "    :inversions les inversions fetes fins aquell moment\n",
    "    :return les llistes fusionades i ordenades i el recompte d'inversions.\n",
    "    \"\"\"    \n",
    "    result = []\n",
    "    i, j = 0, 0\n",
    "    while(i < len(left) and j < len(right)):\n",
    "        if (left[i] <= right[j]):\n",
    "            result.append(left[i])\n",
    "            i = i + 1\n",
    "        else:  # en aquest cas s'ha fet una inversió a la parella i,j\n",
    "            result.append(right[j])\n",
    "            inversions += len(left[i:])\n",
    "            j = j + 1\n",
    "    result += left[i:]\n",
    "    result += right[j:]\n",
    "    return result, inversions\n",
    "\n",
    "\n",
    "Llista=[3,1,5,2,7,8,4]\n",
    "assert mergesortInv(Llista) == ([1, 2, 3, 4, 5, 7, 8], 6)\n",
    "\n",
    "mergesortInv(Llista)"
   ]
  },
  {
   "cell_type": "markdown",
   "metadata": {},
   "source": [
    "#### Pregunta 2.1: Quina solució hauria de donar per als següents valors:\n",
    "\n",
    "- Llista:[1,8,6,4,5]\n",
    "- Llista:[4,6,1,3,9,4]\n",
    "- Llista3:[1,2] "
   ]
  },
  {
   "cell_type": "markdown",
   "metadata": {},
   "source": [
    "- 5, corresponents a les inversions: (8,6)(8,4)(8,5)(6,4)(6,5)\n",
    "- 6, corresponents a les inversions: (4,1)(4,3)(6,1)(6,3)(6,4)(9,4)\n",
    "- 0, ja que no hi ha cap inversió"
   ]
  },
  {
   "cell_type": "markdown",
   "metadata": {},
   "source": [
    "#### Pregunta 2.2: Aquest problema et recorda algun dels algorismes que hem vist de dividir i vèncer? Quin? Com caldria adaptar-lo?"
   ]
  },
  {
   "cell_type": "markdown",
   "metadata": {},
   "source": [
    "A mergesort es van fent inversions per ordenar la llista, es podria implementar un comptador per anar-les comptabilitzant i resoldre aquest problema."
   ]
  },
  {
   "cell_type": "markdown",
   "metadata": {},
   "source": [
    "### Problema 3. Trobar la primera i darrera ocurrència d'un nombre donat en una llista ordenada."
   ]
  },
  {
   "cell_type": "markdown",
   "metadata": {},
   "source": [
    "Donada una llista d’enters i  un nombre, trobar la primera i darrera ocurrència d'aquest a la llista. Informar també si el nombre no s'ha trobat.\n",
    "\n",
    "Per exemple:\n",
    "+ Llista=[3,5,5,5,6,6,8,8,9,9,9], Nombre=3\n",
    "+ Solució: La primera ocurrència del 3 és a l'índex 0, la darrera a l'índex 0\n",
    "\n",
    "+ Llista=[3,5,5,5,6,6,8,8,9,9,9], Nombre=9\n",
    "+ Solució: La primera ocurrència del 9 és a l'índex 8, la darrera a l'índex 10\n",
    "\n",
    "+ Llista=[3,5,5,5,6,6,8,8,9,9,9], Nombre=4\n",
    "+ Solució: El nombre 4 no es troba a la llista\n"
   ]
  },
  {
   "cell_type": "code",
   "execution_count": null,
   "metadata": {
    "collapsed": true
   },
   "outputs": [],
   "source": [
    "# Inserir aquí el codi de la solució\n",
    "\n",
    "def recBinSearch(x, nums, low, high):\n",
    "    \"\"\"\n",
    "    Algorisme bàsic de cerca binària recursiva\n",
    "    :param x el nombre a trobar\n",
    "    :param nums la llista de nums a trobar\n",
    "    :param low l'índex més baix de la subllista on estem cercant ara\n",
    "    :param high l'índex més alt de la subllista on estem cercant ara\n",
    "    :return posició de x a nums o -1 si no s'ha trobar\n",
    "    \"\"\"\n",
    "    pass\n",
    "\n",
    "def Ocurrencies(llista, nombre):\n",
    "    \"\"\"\n",
    "    Donada una llista d’enters i un nombre,\n",
    "    aquest programa troba la primera i darrera ocurrència d'aquest a la llista,\n",
    "    i també informa si el nombre no s'ha trobat.\n",
    "    La solució encara es podria optimitzar més si fem cerca binària també\n",
    "    per trobar el primer índex, i no un recorregut seqüèncial\n",
    "    :param paraula la paraula a determina\n",
    "    :return true si la paraula és capicua, false altrament\n",
    "    \"\"\"\n",
    "    pass"
   ]
  },
  {
   "cell_type": "code",
   "execution_count": 14,
   "metadata": {},
   "outputs": [
    {
     "name": "stdout",
     "output_type": "stream",
     "text": [
      "La primera ocurrència es troba a l'índex 4\n",
      "La darrera ocurrència es troba a l'índex 4\n"
     ]
    }
   ],
   "source": [
    "# Inserir aquí el codi de la solució\n",
    "\n",
    "def recBinSearch(x, nums, low, high):\n",
    "    \"\"\"\n",
    "    Algorisme bàsic de cerca binària recursiva\n",
    "    :param x el nombre a trobar\n",
    "    :param nums la llista de nums a trobar\n",
    "    :param low l'índex més baix de la subllista on estem cercant ara\n",
    "    :param high l'índex més alt de la subllista on estem cercant ara\n",
    "    :return posició de x a nums o -1 si no s'ha trobar\n",
    "    \"\"\"\n",
    "    if low > high:\n",
    "        return -1\n",
    "    mid = (low + high) // 2\n",
    "    items = nums[mid]\n",
    "    if items == x:\n",
    "        return mid\n",
    "    elif x < items:\n",
    "        return recBinSearch(x, nums, low, mid-1)\n",
    "    else:\n",
    "        return recBinSearch(x, nums, mid+1, high)\n",
    "\n",
    "\n",
    "def Ocurrencies(llista, nombre):\n",
    "    \"\"\"\n",
    "    Donada una llista d’enters i un nombre,\n",
    "    aquest programa troba la primera i darrera ocurrència d'aquest a la llista,\n",
    "    i també informa si el nombre no s'ha trobat.\n",
    "    La solució encara es podria optimitzar més si fem cerca binària també\n",
    "    per trobar el primer índex, i no un recorregut seqüèncial\n",
    "    :param paraula la paraula a determina\n",
    "    :return true si la paraula és capicua, false altrament\n",
    "    \"\"\"\n",
    "    cercaBinaria = recBinSearch(nombre, llista, 0, len(llista))\n",
    "    if cercaBinaria == -1:\n",
    "        print(\"El nombre no es troba dins la llista\")\n",
    "    else:\n",
    "        indexInicial = cercaBinaria\n",
    "        while indexInicial > 0 and llista[indexInicial] == nombre:\n",
    "            indexInicial -= 1\n",
    "            # recorregut seqüèncial per trobar la primera aparició\n",
    "        indexFinal = cercaBinaria\n",
    "        while indexFinal < len(llista) and llista[indexFinal] == nombre:\n",
    "            indexFinal += 1\n",
    "            # recorregut seqüèncial per trobar la darrera aparició\n",
    "        if indexInicial==indexFinal-1: indexInicial=-1\n",
    "        print(\"La primera ocurrència es troba a l'índex\", indexInicial+1)\n",
    "        print(\"La darrera ocurrència es troba a l'índex\", indexFinal-1)\n",
    "\n",
    "Ocurrencies([3,5,5,5,6,8,8,9,9,9],6)"
   ]
  },
  {
   "cell_type": "markdown",
   "metadata": {},
   "source": [
    "#### Pregunta 3.1: Podem usar algun algorisme dels vistos a teoria per resoldre aquest problema? Què estem fent per identificar els índexs del nombre donat? \n",
    "\n",
    "**Atenció**: recordeu que la llista és ordenada"
   ]
  },
  {
   "cell_type": "markdown",
   "metadata": {},
   "source": [
    "La cerca binària"
   ]
  },
  {
   "cell_type": "markdown",
   "metadata": {},
   "source": [
    "#### Pregunta 3.2 Si sabem que el nombre de repeticions sempre és inferior a 5, o per el contrari sabem que el nombre de repeticions pot ser amb probabilitat superior a 30, com podria variar la solució?"
   ]
  },
  {
   "cell_type": "markdown",
   "metadata": {},
   "source": [
    "Si és inferior a 5 podem fer recorregut seqüencial. Si és superior a 30 \n",
    "podem tornar a usar la cerca binària, fins a trobar el primer i el darrer\n",
    "índexs."
   ]
  },
  {
   "cell_type": "markdown",
   "metadata": {},
   "source": [
    "### Problema 4. El més petit que falta"
   ]
  },
  {
   "cell_type": "markdown",
   "metadata": {},
   "source": [
    "Donada una llista ordenada d’enters no-negatius, que comença per 0, trobar el valor més petit que hi falta.\n",
    "\n",
    "Per exemple:\n",
    "+ Llista=[0,1,2,3,4,7,12]\n",
    "+ Solució: El més petit que falta és el 5\n",
    "+ Llista=[1,2,3,4,7,12]\n",
    "+ Solució: El més petit que falta és el 0\n"
   ]
  },
  {
   "cell_type": "code",
   "execution_count": null,
   "metadata": {
    "collapsed": true
   },
   "outputs": [],
   "source": [
    "# Inserir aquí el codi de la solució\n",
    "\n",
    "def recbinsearchmod(nums, low, high):\n",
    "    pass"
   ]
  },
  {
   "cell_type": "code",
   "execution_count": 18,
   "metadata": {},
   "outputs": [
    {
     "data": {
      "text/plain": [
       "5"
      ]
     },
     "execution_count": 18,
     "metadata": {},
     "output_type": "execute_result"
    }
   ],
   "source": [
    "# Inserir aquí el codi de la solució\n",
    "\n",
    "def recbinsearchmod(nums, low, high):\n",
    "    if low > high:\n",
    "        return -1\n",
    "    mid = (low + high) // 2\n",
    "    if nums[mid] > mid:\n",
    "        if low + 1 == high:  # Només hi ha un element\n",
    "            return mid\n",
    "        if nums[mid-1] == mid-1:  # L'anterior manté l'ordre\n",
    "            return mid\n",
    "        else:\n",
    "            return recbinsearchmod(nums, low, mid)\n",
    "    else:\n",
    "        return recbinsearchmod(nums, mid+1, high)\n",
    "    \n",
    "recbinsearchmod([0,1,2,3,4,7,12],0,6)"
   ]
  },
  {
   "cell_type": "markdown",
   "metadata": {},
   "source": [
    "#### Pregunta 4.1: Quins índexs ocupen els diferents enters a la llista d'exemple? \n",
    "\n",
    "- 0:índex\n",
    "- 1:índex \n",
    "- 2:índex\n",
    "- 3:índex\n",
    "- 4:índex\n",
    "- 7:índex\n",
    "- 12:índex\n",
    "\n",
    "Identifiques algun patró que et pugui ajudar a resoldre el problema?"
   ]
  },
  {
   "cell_type": "markdown",
   "metadata": {},
   "source": [
    "- 0:índex 0\n",
    "- 1:índex 1\n",
    "- 2:índex 2\n",
    "- 3:índex 3\n",
    "- 4:índex 4\n",
    "- 7:índex 5\n",
    "- 12:índex 6\n",
    "\n",
    "Identifiques algun patró que et pugui ajudar a resoldre el problema? En tots els nombres posats correctament l'índex es correspon amb el valor.\n",
    "\n",
    "Podem fer  una cerca binària modificada per trobar el primer valor que no compleix aquesta regla."
   ]
  },
  {
   "cell_type": "markdown",
   "metadata": {},
   "source": [
    "#### Pregunta 4.2 Per paral.lelisme amb l'algorisme de dividir i vèncer, quin ordre de complexitat té aquest algorisme? i la solució de força bruta?"
   ]
  },
  {
   "cell_type": "markdown",
   "metadata": {},
   "source": [
    "El nostre algorisme usa la cerca binària modificada, i per tant té un ordre de complexitat d'O(log(n))\n",
    "\n",
    "La solució de força bruta seria una cerca líneal, d'un ordre de complexitat d'O(n)\n",
    "\n",
    "Si la n és petita aquest canvi d'ordre no té gaire importància, però per n grans en té molta. Per ex.\n",
    "si n=99999, O(n)=99999 i O(log(n))=5"
   ]
  },
  {
   "cell_type": "markdown",
   "metadata": {},
   "source": [
    "### Problema 5. Rotacions\n",
    "\n",
    "Donada una llista d’enters ordenada circularment, trobar quantes rotacions s'han fet a la llista. Podeu assumir que no hi ha elements duplicats i que les rotacions són en el sentit de les agulles del rellotge.\n",
    "\n",
    "Per exemple:\n",
    "\n",
    "+ Llista=[9,10,2,5,6,8]\n",
    "+ Solució: S'han fet 2 rotacions a la llista"
   ]
  },
  {
   "cell_type": "code",
   "execution_count": null,
   "metadata": {
    "collapsed": true
   },
   "outputs": [],
   "source": [
    "# Inserir aquí el codi de la solució\n",
    "\n",
    "def indexElementVall(llista):\n",
    "    \"\"\"\n",
    "    Donada una llista d’enters ordenada circularment,\n",
    "    aquesta funció troba quantes rotacions s'han fet a la llista.\n",
    "    A la llista no hi ha elements duplicats\n",
    "    i les rotacions són en el sentit de les agulles del rellotge.\n",
    "    El primer element sense rotar serà el nombre menor de la llista\n",
    "    per tant l'algorisme es redueix a una cerca binària d'un element\n",
    "    que té per veí esquerra un element més gran\n",
    "    :param llista d'enters\n",
    "    :return nombre de rotacions\n",
    "    \"\"\"\n",
    "    pass\n",
    "\n",
    "def Problema28(llista):\n",
    "    pass"
   ]
  },
  {
   "cell_type": "code",
   "execution_count": 24,
   "metadata": {},
   "outputs": [
    {
     "name": "stdout",
     "output_type": "stream",
     "text": [
      "S'han fet  2  rotacions a la llista\n"
     ]
    }
   ],
   "source": [
    "# Inserir aquí el codi de la solució\n",
    "\n",
    "def indexElementVall(llista):\n",
    "    \"\"\"\n",
    "    Donada una llista d’enters ordenada circularment,\n",
    "    aquesta funció troba quantes rotacions s'han fet a la llista.\n",
    "    A la llista no hi ha elements duplicats\n",
    "    i les rotacions són en el sentit de les agulles del rellotge.\n",
    "    El primer element sense rotar serà el nombre menor de la llista\n",
    "    per tant l'algorisme es redueix a una cerca binària d'un element\n",
    "    que té per veí esquerra un element més gran\n",
    "    :param llista d'enters\n",
    "    :return nombre de rotacions\n",
    "    \"\"\"\n",
    "    if len(llista) == 0:\n",
    "        return -1\n",
    "    if len(llista) == 1:\n",
    "        return 0\n",
    "    if len(llista) == 2:\n",
    "        if llista[0] < llista[1]:\n",
    "            return 0\n",
    "        else:\n",
    "            return 1\n",
    "    mid = len(llista) // 2\n",
    "    if llista[mid] < llista[mid-1]:\n",
    "        return mid\n",
    "    if llista[mid-1] > llista[mid+1]:\n",
    "        return indexElementVall(llista[mid+1:])+1+mid\n",
    "    else:\n",
    "        return indexElementVall(llista[:mid])\n",
    "\n",
    "\n",
    "\"\"\"\n",
    "Donada una llista d’enters ordenada circularment,\n",
    "aquesta funció troba quantes rotacions s'han fet a la llista.\n",
    "A la llista no hi ha elements duplicats\n",
    "i les rotacions són en el sentit de les agulles del rellotge.\n",
    ":param llista d'enters\n",
    ":return no retorna res, mostra per pantalla el nombre de rotacions\n",
    "\"\"\"\n",
    "\n",
    "\n",
    "def rotacions(llista):\n",
    "    print(\"S'han fet \", indexElementVall(llista), \" rotacions a la llista\")\n",
    "\n",
    "rotacions([9,10,2,5,6,8])"
   ]
  },
  {
   "cell_type": "markdown",
   "metadata": {},
   "source": [
    "#### Pregunta 5.1 Proposa alguns valors de llistes amb rotacions i indica quantes rotacions s'hi han fet"
   ]
  },
  {
   "cell_type": "code",
   "execution_count": null,
   "metadata": {
    "collapsed": true
   },
   "outputs": [],
   "source": [
    "# Inserir aquí les respostes\n",
    "[9,10,12,2,5,6,8] 3 rotacions\n",
    "[2,5,6,8,9,10,12] 0 rotacions"
   ]
  },
  {
   "cell_type": "markdown",
   "metadata": {},
   "source": [
    "#### Pregunta 5.2 En els casos anteriors, pots identificar ràpidament l'inici de la llista sense rotacions? Quants enters hi ha abans d'aquest element? Quantes rotacions s'han fet?\n",
    "\n",
    "Planteja l'algorisme com a la cerca d'aquest element (pots basar-te en la solució del problema de l'element pic)"
   ]
  },
  {
   "cell_type": "markdown",
   "metadata": {},
   "source": [
    "L'inici de la llista sense rotacions és sempre l'element mínim. Si a davant seu hi ha X enters, s'hi han fet X rotacions"
   ]
  },
  {
   "cell_type": "markdown",
   "metadata": {},
   "source": [
    "#### Pregunta 5.3: Calcula la complexitat de l'algorisme"
   ]
  },
  {
   "cell_type": "markdown",
   "metadata": {
    "collapsed": true
   },
   "source": [
    "Per paral.lelisme amb la cerca binària, la complexitat és O(logn)"
   ]
  },
  {
   "cell_type": "markdown",
   "metadata": {},
   "source": [
    "### Problema 6. Hash universal\n",
    "\n",
    "Donat un conjunt d'elements, cadascun amb un pes i un valor, hem de decidir quins incloure a la motxil.la, de manera que el pes no superi una quantitat donada, i que es maximitzi el valor total."
   ]
  },
  {
   "cell_type": "code",
   "execution_count": 1,
   "metadata": {
    "collapsed": true
   },
   "outputs": [],
   "source": [
    "llistaniubs=['niub18518012', 'niub18589763', 'niub18589776', 'niub16973034', 'niub19125491', 'niub18518486', 'niub18518330', 'niub18518500', 'niub16347854', 'niub18588533', 'niub18566891', 'niub16888180', 'niub18519741', 'niub18596201', 'niub18518114', 'niub18588572', 'niub16625902', 'niub14730841', 'niub16584633', 'niub18519702', 'niub18518511', 'niub18518450', 'niub18589754', 'niub18588522', 'niub18518425', 'niub16440881', 'niub18518051', 'niub16043701', 'niub18588114', 'niub16805093', 'niub18519763', 'niub16687712', 'niub18589710', 'niub14763863', 'niub18596304', 'niub18598894', 'niub18518006', 'niub18518442', 'niub18518091', 'niub16828450', 'niub18588511', 'niub18588232', 'niub16831426', 'niub18518346', 'niub11236310', 'niub18588120', 'niub18567770', 'niub10196663', 'niub19121165', 'niub16815441', 'niub18589726', 'niub18589794', 'niub18569595', 'niub16609841', 'niub18599174', 'niub18519794', 'niub18518136', 'niub16803506', 'niub18569091', 'niub10308215', 'niub16120940', 'niub16313033', 'niub16843842', 'niub18581933', 'niub18588595', 'niub18597724', 'niub18595521', 'niub16759784', 'niub18518383', 'niub18518464', 'niub16421613', 'niub16839025', 'niub18518324', 'niub16766465', 'niub16271220', 'niub16699055', 'niub18588184', 'niub16619210', 'niub18588544', 'niub18519780', 'niub18588170', 'niub18518065', 'niub18588162', 'niub18519735', 'niub18518040', 'niub18593112', 'niub18518305', 'niub18593525', 'niub18588581', 'niub18567304', 'niub18588136', 'niub18518490', 'niub19125804', 'niub18589735', 'niub18588566', 'niub16806162', 'niub18518475', 'niub16638516', 'niub16633574',  'niub18581006', 'niub16884296', 'niub18588215', 'niub18588500', 'niub18518566']"
   ]
  },
  {
   "cell_type": "markdown",
   "metadata": {
    "collapsed": true
   },
   "source": [
    "99 alumnes\n",
    "\n",
    "farem una taula de 101 posicions (101 és un nombre primer)\n",
    "\n",
    "representarem cada alumne amb el seu niub però com una tupla de tres enters modul 101, el primers dos dígits numèrics els descartarem perquè quasi sempre són '18'\n",
    "\n",
    "niub18518012 => (51,80,12)\n",
    "\n",
    "i definirem 3 coeficients mòdul 101\n",
    "\n",
    "a -> (6, 47, 100)\n",
    "\n",
    "definim la funció hash com segueix:\n"
   ]
  },
  {
   "cell_type": "code",
   "execution_count": 24,
   "metadata": {
    "collapsed": true
   },
   "outputs": [],
   "source": [
    "def hash(niub):\n",
    "    return (int(niub[6:8])*6+int(niub[8:10])*47+int(niub[10:12])*100)%101"
   ]
  },
  {
   "cell_type": "markdown",
   "metadata": {},
   "source": [
    "Creem una taula amb 101 posicions:"
   ]
  },
  {
   "cell_type": "markdown",
   "metadata": {},
   "source": [
    "I ara guardarem els niubs a la posició que els toca a la taula:"
   ]
  },
  {
   "cell_type": "code",
   "execution_count": 25,
   "metadata": {},
   "outputs": [
    {
     "name": "stdout",
     "output_type": "stream",
     "text": [
      "4 103\n"
     ]
    }
   ],
   "source": [
    "taulahash=[-1]*101\n",
    "for niub in llistaniubs:\n",
    "    index=hash(niub)\n",
    "    if taulahash[index]==-1:\n",
    "        taulahash[index]=[niub]\n",
    "    else:\n",
    "        taulahash[index].append(niub)\n",
    "maxim=0\n",
    "colisions=0\n",
    "for i in range(0,100):\n",
    "    if taulahash[i]==-1:\n",
    "        valors=0\n",
    "    else:\n",
    "        valors=len(taulahash[i])\n",
    "    maxim=max(maxim,valors)\n",
    "    colisions=colisions+valors\n",
    "print(maxim,colisions)"
   ]
  },
  {
   "cell_type": "code",
   "execution_count": 26,
   "metadata": {},
   "outputs": [
    {
     "name": "stdout",
     "output_type": "stream",
     "text": [
      "[['niub18588114', 'niub18588500'], -1, -1, -1, ['niub18581006'], ['niub18589754'], ['niub18588595'], ['niub18566891'], -1, -1, ['niub16805093', 'niub18597724'], -1, ['niub16625902', 'niub18599174'], ['niub16888180'], ['niub18518012', 'niub16638516'], ['niub18519702'], -1, -1, -1, ['niub16831426', 'niub19121165'], ['niub18518006', 'niub18518346', 'niub18588581'], -1, ['niub10196663'], ['niub18518490'], ['niub18519794', 'niub18589735'], -1, ['niub16843842', 'niub18567304'], ['niub18518486'], -1, ['niub18588572', 'niub18588232'], ['niub16633574'], ['niub18569091', 'niub18588184'], -1, ['niub18589726'], ['niub16619210'], ['niub18596201', 'niub18588566'], ['niub18518330', 'niub18518091'], ['niub18518136'], ['niub18519780', 'niub18518475'], ['niub16973034'], -1, -1, ['niub18518324'], -1, ['niub16699055'], ['niub16043701', 'niub18588170'], ['niub18588215'], ['niub16828450', 'niub18567770'], ['niub18518511', 'niub16313033'], ['niub18589710', 'niub18518464'], -1, ['niub16120940'], -1, ['niub16584633', 'niub18598894', 'niub18588162', 'niub16806162'], ['niub16440881', 'niub16815441'], ['niub18519763', 'niub18593525'], -1, ['niub16839025', 'niub18588544'], ['niub14763863'], ['niub18518500', 'niub18518114', 'niub11236310'], ['niub18569595'], ['niub18518305'], ['niub18518065'], ['niub18518450'], -1, -1, ['niub14730841', 'niub18589794', 'niub16766465'], ['niub19125804'], ['niub18588533'], -1, -1, ['niub18518442'], -1, -1, -1, -1, ['niub18518051', 'niub16687712'], ['niub18519741', 'niub16609841', 'niub16759784'], -1, ['niub16347854', 'niub18588522', 'niub18596304', 'niub18588136'], ['niub10308215'], -1, ['niub16421613', 'niub18593112'], ['niub18519735', 'niub16884296'], ['niub18589776', 'niub18518383'], -1, -1, ['niub18518040'], ['niub18518425'], -1, ['niub18588511', 'niub18595521'], -1, -1, -1, ['niub18518566'], ['niub19125491', 'niub18588120'], -1, ['niub18589763', 'niub18581933'], -1, ['niub16803506'], ['niub16271220']]\n"
     ]
    }
   ],
   "source": [
    "# Mirem com ha quedat la taula\n",
    "print(taulahash)"
   ]
  },
  {
   "cell_type": "markdown",
   "metadata": {},
   "source": [
    "### Finalment agafarem 1000 niubs a l'atzar comptarem el temps de cerca a la llista i a la taula"
   ]
  },
  {
   "cell_type": "code",
   "execution_count": 30,
   "metadata": {
    "collapsed": true
   },
   "outputs": [],
   "source": [
    "import random\n",
    "import timeit\n",
    "\n",
    "llistaniubs2=llistaniubs[:]\n",
    "def recBinSearch(x, nums, low, high):\n",
    "    \"\"\"\n",
    "    Algorisme bàsic de cerca binària recursiva\n",
    "    :param x el nombre a trobar\n",
    "    :param nums la llista de nums a trobar\n",
    "    :param low l'índex més baix de la subllista on estem cercant ara\n",
    "    :param high l'índex més alt de la subllista on estem cercant ara\n",
    "    :return posició de x a nums o -1 si no s'ha trobar\n",
    "    \"\"\"\n",
    "    if low > high:\n",
    "        return -1\n",
    "    mid = (low + high) // 2\n",
    "    items = nums[mid]\n",
    "    if items == x:\n",
    "        return mid\n",
    "    elif x < items:\n",
    "        return recBinSearch(x, nums, low, mid-1)\n",
    "    else:\n",
    "        return recBinSearch(x, nums, mid+1, high)\n",
    "\n",
    "        \n",
    "def cercaAmbHash():\n",
    "    for i in range(0,1000):\n",
    "        x=random.randint(0,98)\n",
    "        abuscar=llistaniubs[x]\n",
    "        h=hash(abuscar)\n",
    "        index=0\n",
    "        while abuscar!=taulahash[h][index]:\n",
    "            index+=1\n",
    "\n",
    "def cercaBinaria():\n",
    "    sol=True\n",
    "    llistaniubs2.sort()\n",
    "    for i in range(0,1000):\n",
    "        x=random.randint(0,98)\n",
    "        abuscar=llistaniubs[x]\n",
    "        index=recBinSearch(abuscar,llistaniubs2,0,98)"
   ]
  },
  {
   "cell_type": "code",
   "execution_count": 31,
   "metadata": {},
   "outputs": [
    {
     "name": "stdout",
     "output_type": "stream",
     "text": [
      "2.41 ms ± 162 µs per loop (mean ± std. dev. of 7 runs, 100 loops each)\n"
     ]
    }
   ],
   "source": [
    "%timeit cercaAmbHash()"
   ]
  },
  {
   "cell_type": "code",
   "execution_count": 32,
   "metadata": {},
   "outputs": [
    {
     "name": "stdout",
     "output_type": "stream",
     "text": [
      "2.67 ms ± 50.3 µs per loop (mean ± std. dev. of 7 runs, 100 loops each)\n"
     ]
    }
   ],
   "source": [
    "%timeit cercaBinaria()"
   ]
  }
 ],
 "metadata": {
  "kernelspec": {
   "display_name": "Python 3",
   "language": "python",
   "name": "python3"
  },
  "language_info": {
   "codemirror_mode": {
    "name": "ipython",
    "version": 3
   },
   "file_extension": ".py",
   "mimetype": "text/x-python",
   "name": "python",
   "nbconvert_exporter": "python",
   "pygments_lexer": "ipython3",
   "version": "3.6.2"
  }
 },
 "nbformat": 4,
 "nbformat_minor": 2
}
