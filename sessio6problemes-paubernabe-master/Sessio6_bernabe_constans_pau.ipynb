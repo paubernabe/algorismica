{
 "cells": [
  {
   "cell_type": "markdown",
   "metadata": {},
   "source": [
    "# Sessió de problemes 6: Cerca, ordenació i hashing "
   ]
  },
  {
   "cell_type": "markdown",
   "metadata": {},
   "source": [
    "### Problema 1. Zeros al final"
   ]
  },
  {
   "cell_type": "markdown",
   "metadata": {},
   "source": [
    "Donada una llista d’enters, moure tots els zeros que contingui al final de la llista, sense alterar l'ordre relatiu de la resta d'elements."
   ]
  },
  {
   "cell_type": "markdown",
   "metadata": {},
   "source": [
    "Per exemple:\n",
    "+ Llista = ```[3,1,0,5,0,0,2,7,8]```\n",
    "+ Solució: ```[3,1,5,2,7,8,0,0,0]```\n"
   ]
  },
  {
   "cell_type": "code",
   "execution_count": 20,
   "metadata": {
    "collapsed": true
   },
   "outputs": [],
   "source": [
    "def moureZerosFinal(llista):\n",
    "    \"\"\"\n",
    "    Aquesta funció mou tots els zeros de la llista donada al final\n",
    "    la funció és una variació del quicksort en que fem swap dels elements\n",
    "    de la llista usant com a pivot el 0\n",
    "    :param llista, la llista d'enters\n",
    "    :return la llista amb els zeros al final\n",
    "    \"\"\"\n",
    "    zeros=[]\n",
    "    noz=[]\n",
    "    \n",
    "    if len(llista)>1:\n",
    "        pivot=llista[0]\n",
    "\n",
    "        for i in llista:\n",
    "            if pivot==0:\n",
    "                if pivot==i:\n",
    "                    zeros.append(i)\n",
    "                elif pivot<i:\n",
    "                    noz.append(i)\n",
    "            elif pivot!=0:\n",
    "                if i==0:\n",
    "                    zeros.append(i)\n",
    "                else:\n",
    "                    noz.append(i)\n",
    "            llista=noz+zeros\n",
    "    return llista\n",
    "                \n",
    "            \n",
    "\n",
    "assert moureZerosFinal([0,3,0,1,0,5,0,0,2,7,8]) == [3,1,5,2,7,8,0,0,0,0,0]"
   ]
  },
  {
   "cell_type": "code",
   "execution_count": 23,
   "metadata": {},
   "outputs": [
    {
     "data": {
      "text/plain": [
       "[3, 1, 5, 2, 7, 8, 0, 0, 0, 0, 0]"
      ]
     },
     "execution_count": 23,
     "metadata": {},
     "output_type": "execute_result"
    }
   ],
   "source": [
    "moureZerosFinal([0,3,0,1,0,5,0,0,2,7,8])"
   ]
  },
  {
   "cell_type": "markdown",
   "metadata": {},
   "source": [
    "#### Pregunta 1.1: El problema et recorda algun dels algorismes de dividir i vèncer? Quin? Com el pots usar?"
   ]
  },
  {
   "cell_type": "markdown",
   "metadata": {},
   "source": [
    "Quicksort"
   ]
  },
  {
   "cell_type": "markdown",
   "metadata": {},
   "source": [
    "#### Pregunta 1.2: Modifica l'algorisme per moure tot els zeros al principi."
   ]
  },
  {
   "cell_type": "code",
   "execution_count": 16,
   "metadata": {
    "collapsed": true
   },
   "outputs": [],
   "source": [
    "def moureZerosInici(llista):\n",
    "    \"\"\"\n",
    "    Aquesta funció mou tots els zeros de la llista donada a l'inici\n",
    "    la funció és una variació del quicksort en que fem swap dels elements\n",
    "    de la llista usant com a pivot el 0\n",
    "    :param llista, la llista d'enters\n",
    "    :return la llista amb els zeros al final\n",
    "    \"\"\"\n",
    "    \n",
    "    zeros=[]\n",
    "    noz=[]\n",
    "    \n",
    "    if len(llista)>1:\n",
    "        pivot=llista[0]\n",
    "\n",
    "        for i in llista:\n",
    "            if pivot==0:\n",
    "                if pivot==i:\n",
    "                    zeros.append(i)\n",
    "                elif pivot<i:\n",
    "                    noz.append(i)\n",
    "            elif pivot!=0:\n",
    "                if i==0:\n",
    "                    zeros.append(i)\n",
    "                else:\n",
    "                    noz.append(i)\n",
    "            llista=zeros+noz\n",
    "    return llista\n",
    "                \n",
    "\n",
    "                \n",
    "\n",
    "assert moureZerosInici([0,3,0,1,0,5,0,0,2,7,8]) == [0, 0, 0, 0, 0, 3, 1, 5, 2, 7, 8]"
   ]
  },
  {
   "cell_type": "code",
   "execution_count": 19,
   "metadata": {},
   "outputs": [
    {
     "data": {
      "text/plain": [
       "[0, 0, 0, 0, 0, 3, 1, 5, 2, 7, 8]"
      ]
     },
     "execution_count": 19,
     "metadata": {},
     "output_type": "execute_result"
    }
   ],
   "source": [
    "moureZerosInici([0,3,0,1,0,5,0,0,2,7,8])"
   ]
  },
  {
   "cell_type": "markdown",
   "metadata": {},
   "source": [
    "### Problema 2. Inversions"
   ]
  },
  {
   "cell_type": "markdown",
   "metadata": {},
   "source": [
    "Donada una llista d’enters comptar quantes inversions s'han fet. Si $i < j$ diem que s'ha fet una inversió a la parella $(i, j)$ quan $A[i] > A [j]$."
   ]
  },
  {
   "cell_type": "markdown",
   "metadata": {},
   "source": [
    "Per exemple:\n",
    "+ Llista=[3,1,5,2,7,8,4]\n",
    "+ Solució: S'han fet 6 inversions a la llista. Les inversions són: ```(3,1),(3,2),(5,2),(5,4),(7,4),(8,4)```.\n"
   ]
  },
  {
   "cell_type": "code",
   "execution_count": 16,
   "metadata": {},
   "outputs": [],
   "source": [
    "def mergesortInv(llista):\n",
    "    \"\"\"\n",
    "    Donada una llista d’enters comptar quantes inversions s'han fet.\n",
    "    Si i < j diem que s'ha fet una inversió a la parella (i, j)\n",
    "    quan A[i] > A [j] .\n",
    "    L'algorisme en realitat és un mergesort modificat.\n",
    "    Si la llista només té un element no hi ha cap inversió,\n",
    "    si la llista té més d'un element la parteix i suma les\n",
    "    inversions de l'esquerra i de la dreta\n",
    "    param: list la llista amb els enters\n",
    "    return: list, inversions la llista ordenada i el nombre d'inversions\"\"\"\n",
    "    if len(llista) < 2:\n",
    "        return llista,0\n",
    "    else:\n",
    "        middle = len(llista) // 2\n",
    "        left,lc=mergesortInv(llista[:middle])   #definim les dues meitats\n",
    "        right,rc=mergesortInv(llista[middle:])\n",
    "        mergeSort, mc = mergeInv(left, right)\n",
    "        \n",
    "        return mergeSort,lc+rc+mc\n",
    "\n",
    "        \n",
    "        \n",
    "\n",
    "    \n",
    "    \n",
    "    \n",
    "    \n",
    "\n",
    "def mergeInv(left, right):\n",
    "    \"\"\"\n",
    "    Aquest algorisme és una modificació de l'algorisme de merge que\n",
    "    a banda d'ordenar i fusionar dues subllistes també té un comptador de\n",
    "    les inversions que s'han anat fent\n",
    "    :param left la semillista esquerra\n",
    "    :param right la semillista dreta\n",
    "    :inversions les inversions fetes fins aquell moment\n",
    "    :return les llistes fusionades i ordenades i el recompte d'inversions.\n",
    "    \"\"\"\n",
    "    if len(left) < 1:\n",
    "        return right,0\n",
    "    if len(right) < 1:\n",
    "        return left,0\n",
    "    if left[0] <= right[0]:\n",
    "        ordenada, count = mergeInv(left[1:], right)\n",
    "\n",
    "        return [left[0]] + ordenada,count\n",
    "    \n",
    "    else:\n",
    "        ordenada, count = mergeInv(left,right[1:])\n",
    "\n",
    "        return [right[0]] + ordenada,len(left)+count\n",
    "    \n",
    "    \n",
    "    \n",
    "    \n",
    "    \n",
    "    \n",
    "    \n",
    "\n"
   ]
  },
  {
   "cell_type": "code",
   "execution_count": 19,
   "metadata": {},
   "outputs": [
    {
     "data": {
      "text/plain": [
       "([1, 3, 4, 4, 6, 9], 6)"
      ]
     },
     "execution_count": 19,
     "metadata": {},
     "output_type": "execute_result"
    }
   ],
   "source": [
    "mergesortInv([4,6,1,3,9,4])"
   ]
  },
  {
   "cell_type": "markdown",
   "metadata": {},
   "source": [
    "#### Pregunta 2.1: Quina solució hauria de donar per als següents valors:\n",
    "\n",
    "- Llista:[1,8,6,4,5] 5 inversions\n",
    "- Llista:[4,6,1,3,9,4] 6 inversions\n",
    "- Llista3:[1,2] 0 inversions"
   ]
  },
  {
   "cell_type": "markdown",
   "metadata": {},
   "source": [
    "#### Pregunta 2.2: Aquest problema et recorda algun dels algorismes que hem vist de dividir i vèncer? Quin? Com caldria adaptar-lo?"
   ]
  },
  {
   "cell_type": "markdown",
   "metadata": {},
   "source": [
    "Al MergeSort"
   ]
  },
  {
   "cell_type": "markdown",
   "metadata": {},
   "source": [
    "### Problema 3. Trobar la primera i darrera ocurrència d'un nombre donat en una llista ordenada."
   ]
  },
  {
   "cell_type": "markdown",
   "metadata": {},
   "source": [
    "Donada una llista d’enters i  un nombre, trobar la primera i darrera ocurrència d'aquest a la llista. Informar també si el nombre no s'ha trobat.\n",
    "\n",
    "Per exemple:\n",
    "+ Llista=[3,5,5,5,6,6,8,8,9,9,9], Nombre=3\n",
    "+ Solució: La primera ocurrència del 3 és a l'índex 0, la darrera a l'índex 0\n",
    "\n",
    "+ Llista=[3,5,5,5,6,6,8,8,9,9,9], Nombre=9\n",
    "+ Solució: La primera ocurrència del 9 és a l'índex 8, la darrera a l'índex 10\n",
    "\n",
    "+ Llista=[3,5,5,5,6,6,8,8,9,9,9], Nombre=4\n",
    "+ Solució: El nombre 4 no es troba a la llista\n"
   ]
  },
  {
   "cell_type": "code",
   "execution_count": 81,
   "metadata": {
    "collapsed": true
   },
   "outputs": [],
   "source": [
    "def recBinSearch(x, nums, low, high):\n",
    "    \"\"\"\n",
    "    Algorisme bàsic de cerca binària recursiva\n",
    "    :param x el nombre a trobar\n",
    "    :param nums la llista de nums a trobar\n",
    "    :param low l'índex més baix de la subllista on estem cercant ara\n",
    "    :param high l'índex més alt de la subllista on estem cercant ara\n",
    "    :return posició de x a nums o -1 si no s'ha trobar\n",
    "    \"\"\"\n",
    "    if low>high:\n",
    "        return -1\n",
    "    mid = (low + high) // 2\n",
    "    items = nums[mid]\n",
    "    if items == x:\n",
    "        return mid\n",
    "    elif x < items:\n",
    "        return recBinSearch(x,nums,low,mid-1)\n",
    "    else: \n",
    "        return recBinSearch(x,nums,mid+1,high)\n",
    "    \n",
    "\n",
    "def Ocurrencies(llista, nombre):\n",
    "    \"\"\"\n",
    "    Donada una llista d’enters i un nombre,\n",
    "    aquest programa troba la primera i darrera ocurrència d'aquest a la llista,\n",
    "    i també informa si el nombre no s'ha trobat.\n",
    "    La solució encara es podria optimitzar més si fem cerca binària també\n",
    "    per trobar el primer índex, i no un recorregut seqüèncial\n",
    "    :param paraula la paraula a determina\n",
    "    :return true si la paraula és capicua, false altrament\n",
    "    \"\"\"\n",
    "    i=0\n",
    "    while i<len(llista):\n",
    "        if llista[i]!=nombre:\n",
    "            i+=1\n",
    "        elif llista[i]==nombre and llista[i-1]!=nombre:\n",
    "            return i"
   ]
  },
  {
   "cell_type": "code",
   "execution_count": 82,
   "metadata": {},
   "outputs": [
    {
     "data": {
      "text/plain": [
       "0"
      ]
     },
     "execution_count": 82,
     "metadata": {},
     "output_type": "execute_result"
    }
   ],
   "source": [
    "#recBinSearch(3,[1,2,3,4,5,6,7,8,9], 0, 8)\n",
    "Ocurrencies([3,5,5,5,6,6,8,8,9,9,9],3)"
   ]
  },
  {
   "cell_type": "markdown",
   "metadata": {},
   "source": [
    "#### Pregunta 3.1: Podem usar algun algorisme dels vistos a teoria per resoldre aquest problema? Què estem fent per identificar els índexs del nombre donat? \n",
    "\n",
    "**Atenció**: recordeu que la llista és ordenada"
   ]
  },
  {
   "cell_type": "markdown",
   "metadata": {},
   "source": [
    "Utilitzem la cerca binària"
   ]
  },
  {
   "cell_type": "markdown",
   "metadata": {},
   "source": [
    "#### Pregunta 3.2 Si sabem que el nombre de repeticions sempre és inferior a 5, o per el contrari sabem que el nombre de repeticions pot ser amb probabilitat superior a 30, com podria variar la solució?"
   ]
  },
  {
   "cell_type": "markdown",
   "metadata": {},
   "source": [
    "Havent provat fer més de 30 repeticions per nombre, la resposta és la mateixa, això si, el temps d'execució pot ser major."
   ]
  },
  {
   "cell_type": "markdown",
   "metadata": {},
   "source": [
    "### Problema 4. El més petit que falta"
   ]
  },
  {
   "cell_type": "markdown",
   "metadata": {},
   "source": [
    "Donada una llista ordenada d’enters no-negatius, que comença per 0, trobar el valor més petit que hi falta.\n",
    "\n",
    "Per exemple:\n",
    "+ Llista=[0,1,2,3,4,7,12]\n",
    "+ Solució: El més petit que falta és el 5\n",
    "+ Llista=[1,2,3,4,7,12]\n",
    "+ Solució: El més petit que falta és el 0\n"
   ]
  },
  {
   "cell_type": "code",
   "execution_count": 59,
   "metadata": {},
   "outputs": [
    {
     "name": "stdout",
     "output_type": "stream",
     "text": [
      "5\n"
     ]
    }
   ],
   "source": [
    "def binsearch(nums):\n",
    "    return recbinsearch(nums,0,len(nums)-1)\n",
    "    \n",
    "    \n",
    "def recbinsearch(nums, low, high):\n",
    "    # low, high defineixen els limits de la llista\n",
    "    # on buscar, aixÃ no cal crear noves llistes\n",
    "    if low>high: \n",
    "        return -1\n",
    "    mid = (low + high) // 2    \n",
    "  \n",
    "    if mid == 0 or mid != nums[mid] and nums[mid-1] == mid-1:\n",
    "        return mid\n",
    "    elif mid!=nums[mid]:\n",
    "        return recbinsearch(nums,low,mid-1)\n",
    "    else:\n",
    "         return recbinsearch(nums,mid+1,high)\n",
    "        \n",
    "\n",
    "\n",
    "\n",
    "\n",
    "print(binsearch([0,1,2,3,4,7,12]))\n",
    "\n"
   ]
  },
  {
   "cell_type": "markdown",
   "metadata": {},
   "source": [
    "#### Pregunta 4.1: Quins índexs ocupen els diferents enters a la llista d'exemple? \n",
    "\n",
    "- 0:índex 0\n",
    "- 1:índex 1\n",
    "- 2:índex 2\n",
    "- 3:índex 3\n",
    "- 4:índex 4\n",
    "- 7:índex 5\n",
    "- 12:índex 6\n",
    "\n",
    "Identifiques algun patró que et pugui ajudar a resoldre el problema?"
   ]
  },
  {
   "cell_type": "markdown",
   "metadata": {},
   "source": [
    "Gràcies als index, si no coincideixen amb el nombre (0==>index 0) podem treballar sobre aquest argument."
   ]
  },
  {
   "cell_type": "markdown",
   "metadata": {},
   "source": [
    "#### Pregunta 4.2 Per paral.lelisme amb l'algorisme de dividir i vèncer, quin ordre de complexitat té aquest algorisme? i la solució de força bruta?"
   ]
  },
  {
   "cell_type": "markdown",
   "metadata": {},
   "source": [
    "La complexitat d'aquest algorisme és O(log n)"
   ]
  },
  {
   "cell_type": "markdown",
   "metadata": {},
   "source": [
    "### Problema 5. Rotacions\n",
    "\n",
    "Donada una llista d’enters ordenada circularment, trobar quantes rotacions s'han fet a la llista. Podeu assumir que no hi ha elements duplicats i que les rotacions són en el sentit de les agulles del rellotge.\n",
    "\n",
    "Per exemple:\n",
    "\n",
    "+ Llista=[9,10,2,5,6,8]\n",
    "+ Solució: S'han fet 2 rotacions a la llista"
   ]
  },
  {
   "cell_type": "code",
   "execution_count": 79,
   "metadata": {
    "collapsed": true
   },
   "outputs": [],
   "source": [
    "def indexElementVall(llista):\n",
    "    \"\"\"\n",
    "    Donada una llista d’enters ordenada circularment,\n",
    "    aquesta funció troba quantes rotacions s'han fet a la llista.\n",
    "    A la llista no hi ha elements duplicats\n",
    "    i les rotacions són en el sentit de les agulles del rellotge.\n",
    "    El primer element sense rotar serà el nombre menor de la llista\n",
    "    per tant l'algorisme es redueix a una cerca binària d'un element\n",
    "    que té per veí esquerra un element més gran\n",
    "    :param llista d'enters\n",
    "    :return nombre de rotacions\n",
    "    \"\"\"\n",
    "    i=0\n",
    "    j=1\n",
    "    count=1\n",
    "    ordenada=llista.sort\n",
    "    if llista==ordenada:\n",
    "        return 0\n",
    "    else:\n",
    "        for i in range(len(llista)):\n",
    "            if llista[i]<llista[j]:\n",
    "                count+=1\n",
    "                i+=1\n",
    "                j+=1\n",
    "            else:\n",
    "                return count    "
   ]
  },
  {
   "cell_type": "code",
   "execution_count": 80,
   "metadata": {},
   "outputs": [
    {
     "data": {
      "text/plain": [
       "5"
      ]
     },
     "execution_count": 80,
     "metadata": {},
     "output_type": "execute_result"
    }
   ],
   "source": [
    "indexElementVall([5,6,8,9,10,2])\n",
    "\n"
   ]
  },
  {
   "cell_type": "markdown",
   "metadata": {},
   "source": [
    "#### Pregunta 5.1 Proposa alguns valors de llistes amb rotacions i indica quantes rotacions s'hi han fet"
   ]
  },
  {
   "cell_type": "markdown",
   "metadata": {
    "collapsed": true
   },
   "source": [
    "[5,6,8,9,10,2] 5 rotacions\n",
    "[9,10,2,5,6,8] 2 rotacions\n",
    "[4,5,0,1,2,3] 2 rotacions\n"
   ]
  },
  {
   "cell_type": "markdown",
   "metadata": {},
   "source": [
    "#### Pregunta 5.2 En els casos anteriors, pots identificar ràpidament l'inici de la llista sense rotacions? Quants enters hi ha abans d'aquest element? Quantes rotacions s'han fet?\n",
    "\n",
    "Planteja l'algorisme com a la cerca d'aquest element (pots basar-te en la solució del problema de l'element pic)"
   ]
  },
  {
   "cell_type": "markdown",
   "metadata": {},
   "source": [
    "L'algorisme treballa de manera que si un element (2), té un element més gran a la seva esquerra, afegirà +1 al comptador fins a arribar al màxim de comparacions possibles."
   ]
  },
  {
   "cell_type": "markdown",
   "metadata": {},
   "source": [
    "#### Pregunta 5.3: Calcula o justifica la complexitat de l'algorisme"
   ]
  },
  {
   "cell_type": "markdown",
   "metadata": {
    "collapsed": true
   },
   "source": [
    "La complexitat és O(log n), ja que cada vegada, amb cerca binària anem retallant la llista en relació les condicions posades inicialment"
   ]
  },
  {
   "cell_type": "markdown",
   "metadata": {},
   "source": [
    "### Problema 6. Hash universal\n",
    "\n",
    "En aquest darrer problema us mostrem una possible construcció d'una funció hash universal pensada per emmagatzemar informació dels estudiants.\n",
    "\n",
    "Partim d'una classe amb 99 alumnes, i farem una taula de 101 posicions(101 és un nombre primer). Representarem cada alumne com una tupla de tres enters mòdul 101 (els primers dos dígits quasi sempre són '18' i els descartem)\n",
    "\n",
    "Per ex:\n",
    "- niub 18518012 => (51,80,12)\n",
    "\n",
    "I definirem 3 coeficients mòdul 101\n",
    "\n",
    "a => (6,47, 100)"
   ]
  },
  {
   "cell_type": "code",
   "execution_count": 2,
   "metadata": {
    "collapsed": true
   },
   "outputs": [],
   "source": [
    "#fem la llista i un duplicat\n",
    "\n",
    "llistaniubs=['niub18518012', 'niub18589763', 'niub18589776', 'niub16973034', 'niub19125491', 'niub18518486', 'niub18518330', 'niub18518500', 'niub16347854', 'niub18588533', 'niub18566891', 'niub16888180', 'niub18519741', 'niub18596201', 'niub18518114', 'niub18588572', 'niub16625902', 'niub14730841', 'niub16584633', 'niub18519702', 'niub18518511', 'niub18518450', 'niub18589754', 'niub18588522', 'niub18518425', 'niub16440881', 'niub18518051', 'niub16043701', 'niub18588114', 'niub16805093', 'niub18519763', 'niub16687712', 'niub18589710', 'niub14763863', 'niub18596304', 'niub18598894', 'niub18518006', 'niub18518442', 'niub18518091', 'niub16828450', 'niub18588511', 'niub18588232', 'niub16831426', 'niub18518346', 'niub11236310', 'niub18588120', 'niub18567770', 'niub10196663', 'niub19121165', 'niub16815441', 'niub18589726', 'niub18589794', 'niub18569595', 'niub16609841', 'niub18599174', 'niub18519794', 'niub18518136', 'niub16803506', 'niub18569091', 'niub10308215', 'niub16120940', 'niub16313033', 'niub16843842', 'niub18581933', 'niub18588595', 'niub18597724', 'niub18595521', 'niub16759784', 'niub18518383', 'niub18518464', 'niub16421613', 'niub16839025', 'niub18518324', 'niub16766465', 'niub16271220', 'niub16699055', 'niub18588184', 'niub16619210', 'niub18588544', 'niub18519780', 'niub18588170', 'niub18518065', 'niub18588162', 'niub18519735', 'niub18518040', 'niub18593112', 'niub18518305', 'niub18593525', 'niub18588581', 'niub18567304', 'niub18588136', 'niub18518490', 'niub19125804', 'niub18589735', 'niub18588566', 'niub16806162', 'niub18518475', 'niub16638516', 'niub16633574',  'niub18581006', 'niub16884296', 'niub18588215', 'niub18588500', 'niub18518566']\n",
    "\n",
    "llistaniubs2=llistaniubs[:]"
   ]
  },
  {
   "cell_type": "code",
   "execution_count": 3,
   "metadata": {
    "collapsed": true
   },
   "outputs": [],
   "source": [
    "# definim la funció hash:\n",
    "\n",
    "def hash(niub):\n",
    "    return (int(niub[6:8])*6+int(niub[8:10])*47+int(niub[10:12])*100)%101"
   ]
  },
  {
   "cell_type": "markdown",
   "metadata": {},
   "source": [
    "Creem una taula amb 101 posicions:"
   ]
  },
  {
   "cell_type": "markdown",
   "metadata": {},
   "source": [
    "I ara guardarem els niubs a la posició que els toca a la taula:"
   ]
  },
  {
   "cell_type": "code",
   "execution_count": 5,
   "metadata": {},
   "outputs": [
    {
     "name": "stdout",
     "output_type": "stream",
     "text": [
      "4 40\n"
     ]
    }
   ],
   "source": [
    "taulahash=[-1]*101\n",
    "for niub in llistaniubs:\n",
    "    index=hash(niub)\n",
    "    if taulahash[index]==-1:\n",
    "        taulahash[index]=[niub]\n",
    "    else:\n",
    "        taulahash[index].append(niub)\n",
    "maxim=0  #el nombre d'elements a la llista més llarga\n",
    "colisions=0  #el nombre total de col.lisions\n",
    "for i in range(0,100):\n",
    "    if taulahash[i]==-1:\n",
    "        valors=0\n",
    "    else:\n",
    "        valors=len(taulahash[i])-1\n",
    "    maxim=max(maxim,valors)\n",
    "    colisions=colisions+valors\n",
    "maxim+=1\n",
    "print(maxim,colisions)"
   ]
  },
  {
   "cell_type": "code",
   "execution_count": 6,
   "metadata": {},
   "outputs": [
    {
     "name": "stdout",
     "output_type": "stream",
     "text": [
      "[['niub18588114', 'niub18588500'], -1, -1, -1, ['niub18581006'], ['niub18589754'], ['niub18588595'], ['niub18566891'], -1, -1, ['niub16805093', 'niub18597724'], -1, ['niub16625902', 'niub18599174'], ['niub16888180'], ['niub18518012', 'niub16638516'], ['niub18519702'], -1, -1, -1, ['niub16831426', 'niub19121165'], ['niub18518006', 'niub18518346', 'niub18588581'], -1, ['niub10196663'], ['niub18518490'], ['niub18519794', 'niub18589735'], -1, ['niub16843842', 'niub18567304'], ['niub18518486'], -1, ['niub18588572', 'niub18588232'], ['niub16633574'], ['niub18569091', 'niub18588184'], -1, ['niub18589726'], ['niub16619210'], ['niub18596201', 'niub18588566'], ['niub18518330', 'niub18518091'], ['niub18518136'], ['niub18519780', 'niub18518475'], ['niub16973034'], -1, -1, ['niub18518324'], -1, ['niub16699055'], ['niub16043701', 'niub18588170'], ['niub18588215'], ['niub16828450', 'niub18567770'], ['niub18518511', 'niub16313033'], ['niub18589710', 'niub18518464'], -1, ['niub16120940'], -1, ['niub16584633', 'niub18598894', 'niub18588162', 'niub16806162'], ['niub16440881', 'niub16815441'], ['niub18519763', 'niub18593525'], -1, ['niub16839025', 'niub18588544'], ['niub14763863'], ['niub18518500', 'niub18518114', 'niub11236310'], ['niub18569595'], ['niub18518305'], ['niub18518065'], ['niub18518450'], -1, -1, ['niub14730841', 'niub18589794', 'niub16766465'], ['niub19125804'], ['niub18588533'], -1, -1, ['niub18518442'], -1, -1, -1, -1, ['niub18518051', 'niub16687712'], ['niub18519741', 'niub16609841', 'niub16759784'], -1, ['niub16347854', 'niub18588522', 'niub18596304', 'niub18588136'], ['niub10308215'], -1, ['niub16421613', 'niub18593112'], ['niub18519735', 'niub16884296'], ['niub18589776', 'niub18518383'], -1, -1, ['niub18518040'], ['niub18518425'], -1, ['niub18588511', 'niub18595521'], -1, -1, -1, ['niub18518566'], ['niub19125491', 'niub18588120'], -1, ['niub18589763', 'niub18581933'], -1, ['niub16803506'], ['niub16271220']]\n"
     ]
    }
   ],
   "source": [
    "# Mirem com ha quedat la taula\n",
    "print(taulahash)"
   ]
  },
  {
   "cell_type": "markdown",
   "metadata": {},
   "source": [
    "### Finalment agafarem 1000 niubs a l'atzar comptarem el temps de cerca amb hash i amb cerca binària. Usarem alguns dels algorismes que coneixem per cercar o per ordenar"
   ]
  },
  {
   "cell_type": "code",
   "execution_count": 7,
   "metadata": {
    "collapsed": true
   },
   "outputs": [],
   "source": [
    "import random\n",
    "import timeit\n",
    "\n",
    "\n",
    "\n",
    "def recBinSearch(x, nums, low, high):\n",
    "    \"\"\"\n",
    "    Algorisme bàsic de cerca binària recursiva\n",
    "    :param x el nombre a trobar\n",
    "    :param nums la llista de nums a trobar\n",
    "    :param low l'índex més baix de la subllista on estem cercant ara\n",
    "    :param high l'índex més alt de la subllista on estem cercant ara\n",
    "    :return posició de x a nums o -1 si no s'ha trobar\n",
    "    \"\"\"\n",
    "    if low > high:\n",
    "        return -1\n",
    "    mid = (low + high) // 2\n",
    "    items = nums[mid]\n",
    "    if items == x:\n",
    "        return mid\n",
    "    elif x < items:\n",
    "        return recBinSearch(x, nums, low, mid-1)\n",
    "    else:\n",
    "        return recBinSearch(x, nums, mid+1, high)\n",
    "\n",
    "def partition(A, first, last):\n",
    "    \"\"\"\n",
    "    Aquesta funció tria el valor mig entre l'element inicial, final i mig \n",
    "    d'una llista i l'ubica al lloc que li correspondrà quan la llista està \n",
    "    ordenada, alhora deixa a la seva esquerra valors menors i a la dreta\n",
    "    valors majors. Per tant altera A\n",
    "    A més retorna la posició de la partició\n",
    "    \"\"\"\n",
    "    mid = (first + last)//2  #ordenem A[first],A[mid],A[last]\n",
    "    if A[first] > A [mid]: A[first], A[mid] = A[mid], A[first]\n",
    "    if A[first] > A [last]: A[first], A[last] = A[last], A[first]\n",
    "    if A[mid] > A[last]:   A[mid], A[last] = A[last], A[mid]  \n",
    "    A[mid], A[first] = A[first], A[mid] #valor mig a l’inici\n",
    "    pivot = first\n",
    "    i = first + 1\n",
    "    j = last\n",
    "  \n",
    "    while True:\n",
    "        while i <= last and A[i] <= A[pivot]: i += 1\n",
    "        while j >= first and A[j] > A[pivot]: j -= 1\n",
    "        if i >= j: break\n",
    "        else:\n",
    "            A[i], A[j] = A[j], A[i] #intercanviem, fem avançar i j\n",
    "    A[j], A[pivot] = A[pivot], A[j] #vector partit, pivot=j\n",
    "    return j\n",
    "\n",
    "def quick_sort(A):\n",
    "    quick_sort_r(A, 0, len(A) - 1)\n",
    "\n",
    "def quick_sort_r(A , first, last):\n",
    "    if last > first:\n",
    "        pivot = partition(A, first, last)\n",
    "        quick_sort_r(A, first, pivot - 1)\n",
    "        quick_sort_r(A, pivot + 1, last)\n",
    "    \n",
    "def cercaAmbHash():\n",
    "    for i in range(0,1000):\n",
    "        x=random.randint(0,98)\n",
    "        abuscar=llistaniubs[x]\n",
    "        h=hash(abuscar)\n",
    "        index=0\n",
    "        while abuscar!=taulahash[h][index]:\n",
    "            index+=1\n",
    "\n",
    "def cercaBinaria():\n",
    "    sol=True\n",
    "    quick_sort(llistaniubs2)\n",
    "    for i in range(0,1000):\n",
    "        x=random.randint(0,98)\n",
    "        abuscar=llistaniubs[x]\n",
    "        index=recBinSearch(abuscar,llistaniubs2,0,98)"
   ]
  },
  {
   "cell_type": "code",
   "execution_count": 8,
   "metadata": {},
   "outputs": [
    {
     "name": "stdout",
     "output_type": "stream",
     "text": [
      "100 loops, best of 3: 5.64 ms per loop\n"
     ]
    }
   ],
   "source": [
    "%timeit cercaAmbHash()"
   ]
  },
  {
   "cell_type": "code",
   "execution_count": 9,
   "metadata": {},
   "outputs": [
    {
     "name": "stdout",
     "output_type": "stream",
     "text": [
      "100 loops, best of 3: 6.44 ms per loop\n"
     ]
    }
   ],
   "source": [
    "%timeit cercaBinaria()"
   ]
  },
  {
   "cell_type": "code",
   "execution_count": null,
   "metadata": {
    "collapsed": true
   },
   "outputs": [],
   "source": []
  }
 ],
 "metadata": {
  "kernelspec": {
   "display_name": "Python 3",
   "language": "python",
   "name": "python3"
  },
  "language_info": {
   "codemirror_mode": {
    "name": "ipython",
    "version": 3
   },
   "file_extension": ".py",
   "mimetype": "text/x-python",
   "name": "python",
   "nbconvert_exporter": "python",
   "pygments_lexer": "ipython3",
   "version": "3.6.1"
  }
 },
 "nbformat": 4,
 "nbformat_minor": 2
}
