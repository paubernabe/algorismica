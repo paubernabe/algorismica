{
 "cells": [
  {
   "cell_type": "markdown",
   "metadata": {},
   "source": [
    "# Notebook 2: Estructures de control i col.leccions. Instruccions bàsiques amb nombres i text."
   ]
  },
  {
   "cell_type": "markdown",
   "metadata": {},
   "source": [
    "<div class=\"alert alert-error\"><strong><center>Aquesta pràctica és avaluable.</center></strong> \n",
    "<p>L'has de lliurar amb UN ÚNIC FITXER (Notebook2.ipynb),amb el  Notebook COMPLETAT AMB EL CONJUNT DE FUNCIONS QUE S’HAN D'IMPLEMENTAR a les cel·les que s'indica, i l'execució dels tests inclosos en l'enunciat.</p> \n",
    "<p>ATENCIÓ: No es poden usar funcions de Python implementades en llibreries externes que resolguin el *quid* de l'exercici.</p></div>"
   ]
  },
  {
   "cell_type": "markdown",
   "metadata": {},
   "source": [
    "## Documentació de suport a la pràctica\n",
    "\n",
    "- [Estructures de control](..\\conceptes\\control.ipynb)\n",
    "- [Col·leccions](..\\conceptes\\collecions.ipynb) \n",
    "- [Strings](..\\conceptes\\strings.ipynb)\n"
   ]
  },
  {
   "cell_type": "markdown",
   "metadata": {},
   "source": [
    "Els objectius d'aquesta pràctica són:\n",
    "\n",
    "- Saber fer condicionals if else\n",
    "- Saber fer bucles for i while\n",
    "- Saber operar sobre llistes i strings"
   ]
  },
  {
   "cell_type": "markdown",
   "metadata": {},
   "source": [
    "## Exercici 1\n",
    "\n",
    "+ Escriu, fent servir la instrucció ``while``, una funció, ``mentre``,  que calculi el següents valors:\n",
    "\n",
    "    +\tEl nombre de vegades que un nombre n pot ser dividir per $7$ abans d’arribar a $10$.\n",
    "    +\tLa multiplicació de tots els nombres enters positius dins **llista** fins a trobar un nombre negatiu. "
   ]
  },
  {
   "cell_type": "code",
   "execution_count": 3,
   "metadata": {
    "collapsed": true
   },
   "outputs": [],
   "source": [
    "\n",
    "\n",
    "def mentre(n, llista):\n",
    "    n = 490\n",
    "    \n",
    "    \"\"\"\n",
    "    El programa funcionarà de manera que retornarà el nombre de vegades que es pot dividir entre 7, \n",
    "    però sense arribar a 10.\n",
    "    :param n serà el nombre que dividirem x vegades\n",
    "    :return serà el nombre de cops que aquest nombre s'ha dividit fins abans d'arribar a 10.\n",
    "    \"\"\"\n",
    "    quantesDivisions = 0\n",
    "    while   (n > 10):\n",
    "        n = n/7\n",
    "        quantesDivisions += 1\n",
    "    \n",
    "    \"\"\"\n",
    "    El programa funcionarà de manera que anira multiplicant acumulativament cada nombre d'esquerra a dreta,\n",
    "    però la funció while farà que quan arribi a un nombre que és negatiu, el programa s'aturi i ens mostri\n",
    "    el resultat final.\n",
    "    :param els nombres de la llista\n",
    "    :return el nombre fruit de la multiplicació entre els de la llista.\n",
    "    \"\"\"\n",
    "\n",
    "\n",
    "        \n",
    "   \n",
    "    llista = [1,3,2,4,-4,3]\n",
    "    multLlista=1\n",
    "    mult= 0\n",
    "    while (llista[mult] >= 0):\n",
    "        multLlista= multLlista * llista[mult]\n",
    "        mult =mult +1\n",
    "        \n",
    "\n",
    "    \n",
    "   \n",
    "        \n",
    "        \n",
    "        \n",
    "        \n",
    "        \n",
    "        \n",
    "        \n",
    "    \n",
    "    return (quantesDivisions, multLlista)"
   ]
  },
  {
   "cell_type": "code",
   "execution_count": 4,
   "metadata": {},
   "outputs": [
    {
     "data": {
      "text/plain": [
       "(2, 24)"
      ]
     },
     "execution_count": 4,
     "metadata": {},
     "output_type": "execute_result"
    }
   ],
   "source": [
    "# Test de la funció\n",
    "\n",
    "mentre(490,[1,3,2,4,-4,3])\n",
    "# aquest exemple hauria de retornar (2, 24)"
   ]
  },
  {
   "cell_type": "markdown",
   "metadata": {},
   "source": [
    "## Exercici 2\n",
    "\n",
    "+ Escriu, fent servir la instrucció ``for``, una funció, ``per``,  que calculi el següents valors:\n",
    "    +\tLa suma dels n primers nombres parells sense incloure el 0\n",
    "    +   Una llista amb els n primers nombres senars\n",
    "\n",
    "Atenció: el problema s'ha de resoldre amb iteracions"
   ]
  },
  {
   "cell_type": "code",
   "execution_count": 13,
   "metadata": {
    "collapsed": true
   },
   "outputs": [],
   "source": [
    "\n",
    "def per(n):\n",
    "    n=5\n",
    "\n",
    "    \"\"\"\n",
    "    Aquest programa sumarà els n primers nombres parells, sense comptar el 0. \n",
    "    :param el paràmetre n que ens determinarà quants cops efectuar la iteració\n",
    "    :return ens donarà la suma dels 5 primers nombres parells, per a 5, serà 30, ja que no comptem el 0.\n",
    "    \"\"\"\n",
    "    \n",
    "    suma = 0 \n",
    "    \n",
    "    for i in range (1+2*n):   \n",
    "        if i % 2 == 0:     \n",
    "            suma += i\n",
    "    \"\"\"\n",
    "    Aquest crearà una llista amb els primers nombres senars\n",
    "    :param com a paràmetre tornem a tenir n\n",
    "    :return ens tornarà una llista amb els n primers nombres senars\n",
    "    \"\"\"\n",
    "    \n",
    "    llista = [ ]\n",
    "    for i in range (2*n+1):   \n",
    "        if i % 2 != 0:   \n",
    "            llista.append(i) #amb llista.append() afegirem els nombres.  \n",
    "            \n",
    "        \n",
    "        \n",
    "            \n",
    "            \n",
    "    \n",
    "    return (suma,llista)"
   ]
  },
  {
   "cell_type": "code",
   "execution_count": 14,
   "metadata": {},
   "outputs": [
    {
     "data": {
      "text/plain": [
       "(30, [1, 3, 5, 7, 9])"
      ]
     },
     "execution_count": 14,
     "metadata": {},
     "output_type": "execute_result"
    }
   ],
   "source": [
    "# Test de la funció\n",
    "\n",
    "per (5)\n",
    "# aquest exemple hauria de retornar (30,[1,3,5,7,9])"
   ]
  },
  {
   "cell_type": "markdown",
   "metadata": {},
   "source": [
    "## Exercici 3\n",
    "\n",
    "+ Escriu una funció, ``inversio``, que usant el ``while`` calculi quan triga una inversió a triplicar el seu valor, donat un interès fix durant tot el període. L’entrada serà l’interès anual, i la sortida el nombre d’anys que trigarà una inversió a triplicar-se. Fixeu-vos que aquest període no depen de l'import de la inversió inicial.\n",
    "\n",
    "Atenció: cal tenir en compte que l'interès s'aplica al total acumulat, i que aquest va variant al llarg dels anys. Per exemple, si el primer any tenim 100€ i l'interès és del 10% anual, el segon any tindrem 110€ i el tercer 121..."
   ]
  },
  {
   "cell_type": "code",
   "execution_count": 1,
   "metadata": {
    "collapsed": true
   },
   "outputs": [],
   "source": [
    "\n",
    "\n",
    "def inversio(interesfix):\n",
    "    \"\"\"\n",
    "    Aquest programa ens ajudarà a saber quants anys triga una inversió a triplicar el seu valor\n",
    "    :param diners, definim amb quants fem l'operació. \n",
    "    :return ens tornarà el temps en anys que trigarem a triplicar la inversió.\n",
    "    \"\"\"\n",
    "    \n",
    "    diners = 100  \n",
    "    triple=diners*3\n",
    "    anys = 0 #el comptador d'anys comença a 0\n",
    "    while diners <=triple :    #mentres diners no sigui igual al seu triple la funció que ve a continuació no pararà d'iterar\n",
    "        diners = diners + ( diners * interesfix)\n",
    "        anys += 1   #a cada iteració sumem 1 al d'abans 0+1, 1+1, 2+1...\n",
    "        \n",
    "    \n",
    "    return anys"
   ]
  },
  {
   "cell_type": "code",
   "execution_count": 2,
   "metadata": {},
   "outputs": [
    {
     "data": {
      "text/plain": [
       "12"
      ]
     },
     "execution_count": 2,
     "metadata": {},
     "output_type": "execute_result"
    }
   ],
   "source": [
    "# Test de la funció\n",
    "inversio(0.10)\n",
    "# aquest exemple hauria de retornar 12"
   ]
  },
  {
   "cell_type": "markdown",
   "metadata": {},
   "source": [
    "## Exercici 4\n",
    "\n",
    "Un **acrònim** és una paraula formada al prendre les primeres lletres de les paraules d’una expressió (per exemple, l’acrònim ``RAM`` correspon a l'expressió ``random access memory``). \n",
    "\n",
    "+ Escriu una funció, ``acro``, que a partir d'una frase n'imprimeixi l’acrònim corresponent. Recorda que els acrònims, independentment de com l’usuari hagi entrat l'expressió, sempre són en majúscules.\n",
    "\n",
    "+ Pots suposar que l'usuari no entra ni signes de puntuació ni nombres"
   ]
  },
  {
   "cell_type": "code",
   "execution_count": 6,
   "metadata": {
    "collapsed": true
   },
   "outputs": [],
   "source": [
    "\n",
    "def acro(frase):\n",
    "    \"\"\"\n",
    "    El que farà la funció serà imprimir la primera lletra de cada paraula que tinguem en una frase.\n",
    "    :param el paràmetre serà la frase\n",
    "    :return ens tornarà l'acronim d'aquella frase.\n",
    "    \"\"\"\n",
    "    \n",
    "    acronim= \" \"    \n",
    "    for word in frase.split(\" \"):  #utilitzem el mètode split per a separar la frase en les tres paraules i seguidament\n",
    "        acronim += word[0]  #amb word[0] ens agafarà només el valor 0 de cada paraula, és a dir, la primera posició. \n",
    "        \n",
    "    \n",
    "        \n",
    "        \n",
    "    return acronim.upper() #sense el .upper() l'acrònim serà incorrecte, ja que sempre van en majúscules"
   ]
  },
  {
   "cell_type": "code",
   "execution_count": 7,
   "metadata": {},
   "outputs": [
    {
     "name": "stdout",
     "output_type": "stream",
     "text": [
      " UDB\n"
     ]
    }
   ],
   "source": [
    "# Test de la funció\n",
    "\n",
    "print(acro(\"universitat de barcelona\"))  # Això hauria de retornar UDB"
   ]
  },
  {
   "cell_type": "markdown",
   "metadata": {},
   "source": [
    "## Exercici 5\n",
    "\n",
    "+\tEscriu una funció, `` dígits``, que compti quants dígits té una xifra determinada."
   ]
  },
  {
   "cell_type": "code",
   "execution_count": 17,
   "metadata": {
    "collapsed": true
   },
   "outputs": [],
   "source": [
    "def digits(xifra):\n",
    "    \n",
    "    \"\"\"\n",
    "    El que farà aquesta funció, serà comptar la quantitat de dígits d'una xifra determinda, amb len no serviria ja que\n",
    "    tambe incourà els punts.\n",
    "    :param, la xifra \n",
    "    :return la quantitat del nombre, integrament dígits.\n",
    "    \"\"\"\n",
    "    \n",
    "    quantsDigits=0\n",
    "    \n",
    "    for i in xifra:\n",
    "        if i != \".\":    #Aquesta iteració ens permetrà comptar les xifres sense els punts, només volem el nª de dígits\n",
    "            quantsDigits += 1       #A cada iteració sumem 1\n",
    "    return quantsDigits\n",
    "\n"
   ]
  },
  {
   "cell_type": "code",
   "execution_count": 18,
   "metadata": {},
   "outputs": [
    {
     "name": "stdout",
     "output_type": "stream",
     "text": [
      "9\n"
     ]
    }
   ],
   "source": [
    "# Test de la funció\n",
    "\n",
    "print(digits(\"123.456.789\"))   # Hauria de retornar 9"
   ]
  },
  {
   "cell_type": "markdown",
   "metadata": {},
   "source": [
    "## Exercici 6\n",
    "\n",
    "+ Escriu una funció, ``nota``,  que, donat un nombre amb la qualificació numèrica d’un examen, proporcioni la qualificació qualitativa corresponent al nombre donat: \n",
    "     + Suspès = nota menor que 5; \n",
    "     + Aprovat = nota igual o més gran que 5 i menor que 7; \n",
    "     + Notable = nota més gran o igual que 7 i menor que 9; \n",
    "     + Excel.lent = nota més gran o igual que 9 i menor que 10; \n",
    "     + Matrícula d'honor = 10."
   ]
  },
  {
   "cell_type": "code",
   "execution_count": 63,
   "metadata": {
    "collapsed": true
   },
   "outputs": [],
   "source": [
    "def nota(n):\n",
    "    \"\"\"\n",
    "    A partir de certes condicions amb la nota de l'examen, el programa retornarà la nota qualificativa corresponent\n",
    "    :param el paràmetre és la nota\n",
    "    :return la nota qualificativa.\n",
    "    \"\"\"\n",
    "    \n",
    "    \n",
    "    nota_qual=''\n",
    "    \n",
    "    \n",
    "    \n",
    "    if n <5:\n",
    "        nota_qual= 'Suspes'\n",
    "    if  n>=5 and n<7:             #utilitzo and ja que amb if i elif era molt més embolicat.\n",
    "        nota_qual= 'Aprovat'\n",
    "    if n>=7 and  n<9:\n",
    "         nota_qual='Notable'\n",
    "    if n>=9 and n<10:\n",
    "        nota_qual='Excelent'\n",
    "    if n==10:\n",
    "        nota_qual='Matricula'\n",
    "    \n",
    "  \n",
    "    \n",
    "    return nota_qual"
   ]
  },
  {
   "cell_type": "code",
   "execution_count": 66,
   "metadata": {},
   "outputs": [
    {
     "data": {
      "text/plain": [
       "'Matricula'"
      ]
     },
     "execution_count": 66,
     "metadata": {},
     "output_type": "execute_result"
    }
   ],
   "source": [
    "# Test de la funció\n",
    "\n",
    "nota(10)\n",
    "# aquest exemple hauria de retornar 'Matricula'"
   ]
  },
  {
   "cell_type": "markdown",
   "metadata": {},
   "source": [
    "## Exercici 7\n",
    "\n",
    "+ Fes una funció, ``suma``, que sumi tots els nombres naturals parells menors que 10000. La funció ha de retornar el sumatori"
   ]
  },
  {
   "cell_type": "code",
   "execution_count": 10,
   "metadata": {
    "collapsed": true
   },
   "outputs": [],
   "source": [
    "def suma():\n",
    "    \"\"\"\n",
    "    Aquesta funció sumarà tots els nombres naturals parells i menors que 10000.\n",
    "    :param els nombres naturals, parells i menors que 10000\n",
    "    :return ens tornarà tota la sumà de les condicions de l'exercici.\n",
    "    \"\"\"\n",
    "    \n",
    "    sumatori = 0      # Comencem a sumar desde 0\n",
    "    for i in range (2,10000,2):   # fem una iteració que utilitza que al 10000 serà el nombre al que el bucle pararà\n",
    "        if sumatori%2==0:       #posem en condicions que vagi de 2 en 2 i si el mòdul és 0, continuarà iterant \n",
    "            sumatori += i\n",
    "        \n",
    "    \n",
    "    return sumatori"
   ]
  },
  {
   "cell_type": "code",
   "execution_count": 11,
   "metadata": {},
   "outputs": [
    {
     "data": {
      "text/plain": [
       "24995000"
      ]
     },
     "execution_count": 11,
     "metadata": {},
     "output_type": "execute_result"
    }
   ],
   "source": [
    "# Test de la funció\n",
    "\n",
    "suma()"
   ]
  },
  {
   "cell_type": "markdown",
   "metadata": {},
   "source": [
    "## Exercici 8\n",
    "\n",
    "+ Fes una funció, ``suma2``, que sumi tots els nombres naturals parells fins a un valor tal que la suma sigui just més gran que 10000. La funció ha de retornar el nombre parell més gran inclòs a la suma."
   ]
  },
  {
   "cell_type": "code",
   "execution_count": 1,
   "metadata": {
    "collapsed": true
   },
   "outputs": [],
   "source": [
    "def suma2():\n",
    "    \"\"\"\n",
    "    Aquesta funció el que fa és sumar tots els nombres naturals parells fins a un nombre més gran que 10000. \n",
    "    La funció no donarà el resultat de la suma, sinó que donarà l'ultim nombre que s'ha sumat.\n",
    "    :param: el major nombre parell\n",
    "    :return l'últim nombre que s'ha sumat\n",
    "    \"\"\"\n",
    "    nombreParellMajor = 0\n",
    "    num=0\n",
    "    while num<10000:\n",
    "        num=nombreParellMajor+num+2  #sumem 2 per a que comenci a sumar a partir del primer nombre parell\n",
    "        nombreParellMajor+=2\n",
    "        \n",
    "        \n",
    "        \n",
    "     \n",
    "        \n",
    "        \n",
    "        \n",
    "        \n",
    "                                       \n",
    "            \n",
    "    \n",
    "    return nombreParellMajor"
   ]
  },
  {
   "cell_type": "code",
   "execution_count": 2,
   "metadata": {},
   "outputs": [
    {
     "data": {
      "text/plain": [
       "200"
      ]
     },
     "execution_count": 2,
     "metadata": {},
     "output_type": "execute_result"
    }
   ],
   "source": [
    "# Test de la funció\n",
    "\n",
    "suma2()"
   ]
  },
  {
   "cell_type": "code",
   "execution_count": null,
   "metadata": {
    "collapsed": true
   },
   "outputs": [],
   "source": []
  }
 ],
 "metadata": {
  "kernelspec": {
   "display_name": "Python 3",
   "language": "python",
   "name": "python3"
  },
  "language_info": {
   "codemirror_mode": {
    "name": "ipython",
    "version": 3
   },
   "file_extension": ".py",
   "mimetype": "text/x-python",
   "name": "python",
   "nbconvert_exporter": "python",
   "pygments_lexer": "ipython3",
   "version": "3.6.1"
  }
 },
 "nbformat": 4,
 "nbformat_minor": 1
}
