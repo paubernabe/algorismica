{
 "cells": [
  {
   "cell_type": "markdown",
   "metadata": {},
   "source": [
    "# Notebook 4: Algorismes per text"
   ]
  },
  {
   "cell_type": "markdown",
   "metadata": {},
   "source": [
    "\n",
    "<div class=\"alert alert-error\">\n",
    "<p><strong><center>Aquesta pràctica és avaluable</center></strong></p>\n",
    "<p>L'has de lliurar amb UN ÚNIC FITXER (Notebook4.ipynb),amb el  Notebook COMPLETAT AMB EL CONJUNT DE FUNCIONS QUE S’HAN D'IMPLEMENTAR a les cel·les que s'indica, i l'execució dels tests inclosos en l'enunciat.</p>  \n",
    "<p>ATENCIÓ: No es poden usar funcions de Python implementades en llibreries externes que resolguin el *quid* de l'exercici.</p>"
   ]
  },
  {
   "cell_type": "markdown",
   "metadata": {},
   "source": [
    "## Exercici 1 (3 punts)\n",
    "\n",
    "Donades dues cadenes de caràcters identificar la longitud de la subseqüència compartida més llarga. Una subseqüència és una seqüència de caràcters en el mateix ordre que a la cadena original però no necessàriament consecutius.</p>\n",
    "\n",
    "Per exemple de la paraula ACBA, podem treure'n les subseqüències AC,AB,AA, ACB, ACA, ACBA, CB, CA, CBA, BA"
   ]
  },
  {
   "cell_type": "markdown",
   "metadata": {},
   "source": [
    "**Pregunta 1**: Proposa algunes parelles de cadenes i digues quina és la subseqüència comú més llarga"
   ]
  },
  {
   "cell_type": "markdown",
   "metadata": {},
   "source": [
    "Indica aquí les teves respostes"
   ]
  },
  {
   "cell_type": "code",
   "execution_count": 1,
   "metadata": {
    "collapsed": true
   },
   "outputs": [],
   "source": [
    "def subSComu(cadena1, cadena2):\n",
    "    \n",
    "    \"\"\"El que fa la funció les a partir de dos strings, retornar la longitud de la subseqüència més llarga comú entre els dos \n",
    "    :param els dos strings, cadena1 i cadena2, en aquest cas\n",
    "    :return la longitud en forma de nombre de la subSeq comú més llarga\n",
    "    \"\"\"\n",
    "    \n",
    "    if len(cadena1)==0 or len(cadena2)==0:\n",
    "        return 0\n",
    "    \n",
    "    sbcd11=cadena1[0]\n",
    "    sbcd12= cadena1[1:]\n",
    "    \n",
    "    sbcd21= cadena2[0]\n",
    "    sbcd22=cadena2[1:]\n",
    "    \n",
    "    if sbcd11==sbcd21:\n",
    "        return (1+subSComu(sbcd12,sbcd22))\n",
    "        \n",
    "    else:\n",
    "        longSubSequencia= max(subSComu(cadena1, sbcd22),subSComu(sbcd12,cadena2))\n",
    "        \n",
    "    return longSubSequencia"
   ]
  },
  {
   "cell_type": "code",
   "execution_count": 2,
   "metadata": {},
   "outputs": [
    {
     "data": {
      "text/plain": [
       "4"
      ]
     },
     "execution_count": 2,
     "metadata": {},
     "output_type": "execute_result"
    }
   ],
   "source": [
    "# Test de la funció\n",
    "subSComu('SUBCADENA','ABECEDARI')"
   ]
  },
  {
   "cell_type": "markdown",
   "metadata": {},
   "source": [
    "## Exercici 2 (3 punts)\n",
    "\n",
    "També podem construir la solució amb una taula que va guardant els valors de la subseqüència comú més llarga:\n",
    "\n",
    "\n",
    "|   |   | 0 | 1 | 2 | 3 | 4 | 5 | 6 | 7 | 8 |\n",
    "|---|---|---|---|---|---|---|---|---|---|---|\n",
    "|---|---| S | U | B | C | A | D | E | N | A |\n",
    "| 0 | A | 0 | 0 | 0 | 0 | 0 | 0 | 0 | 0 | 0 |\n",
    "| 1 | B | 0 | 0 | 1 | 1 | 1 | 1 | 1 | 1 | 1 |\n",
    "| 2 | E | 0 | 0 | 1 | 1 | 1 | 1 | 2 | 2 | 2 |\n",
    "| 3 | C | 0 | 0 | 1 | 2 | 2 | 2 | 2 | 2 | 2 |\n",
    "| 4 | E | 0 | 0 | 1 | 2 | 2 | 2 | 3 | 3 | 3 |\n",
    "| 5 | D | 0 | 0 | 1 | 2 | 2 | 3 | 3 | 3 | 3 |\n",
    "| 6 | A | 0 | 0 | 1 | 2 | 3 | 3 | 3 | 3 | 4 |\n",
    "| 7 | R | 0 | 0 | 1 | 2 | 3 | 3 | 3 | 3 | 4 |\n",
    "| 8 | I | 0 | 0 | 1 | 2 | 3 | 3 | 3 | 3 | 4 |\n",
    "\n",
    "\n",
    "La casella[i][j] guarda el valor de longitud de la subseqüència més llarga entre cadena1[0:j] i cadena2[0:i]\n",
    "\n",
    "Per ex. la casella[2][6] guarda la longitud de la subseqüència més llarga entre cadena1[0:6] i cadena2[0:2]. Efectivament 2 és la longitud de la subseqüència més llarga entre \"SUBCADE\" i \"ABE\", que es correspon a \"AE\"\n",
    "\n",
    "\n",
    "Crea doncs una nova funció subSComuTaula que generi aquesta taula i que retorni el resultat en base a la taula."
   ]
  },
  {
   "cell_type": "code",
   "execution_count": 30,
   "metadata": {
    "collapsed": true
   },
   "outputs": [],
   "source": [
    "import numpy as np\n",
    "\n",
    "def subSComuTaula(cadena1, cadena2):\n",
    "    \"\"\"\n",
    "    A partir de dues cadenes de caràcters, obtindrem les subseqüències comuns més llargues.\n",
    "    :param les dues cadenes\n",
    "    :return la taula i la la subSeq mes llarga\n",
    "    \"\"\"\n",
    "    \n",
    "   \n",
    "    n=len(cadena1)+1    #Cadena1\n",
    "    m=len(cadena2)+1    #Cadena2  \n",
    "    \n",
    "    taulaSolucions=np.zeros((n,m))\n",
    "    \n",
    "    if cadena1==0 or cadena2==0:\n",
    "        longSubSequencia=0\n",
    "        \n",
    "    #sumar 1+x(diagonal) si es igual\n",
    "    #escollir entre max esquerra i adalt\n",
    "    \n",
    "    for i in range(1,n):\n",
    "        for j in range(1,m):\n",
    "            if cadena1[i-1]==cadena2[j-1]:\n",
    "                taulaSolucions[i][j]=taulaSolucions[i-1][j-1]+1\n",
    "            else:\n",
    "                taulaSolucions[i][j]=max(taulaSolucions[i-1][j],taulaSolucions[i][j-1])\n",
    "        \n",
    "    longSubSequencia=taulaSolucions[n-1][m-1]\n",
    "        \n",
    "    print(taulaSolucions)\n",
    "    return (int(longSubSequencia))"
   ]
  },
  {
   "cell_type": "code",
   "execution_count": 31,
   "metadata": {},
   "outputs": [
    {
     "name": "stdout",
     "output_type": "stream",
     "text": [
      "[[ 0.  0.  0.  0.  0.  0.  0.  0.  0.  0.]\n",
      " [ 0.  0.  0.  0.  0.  1.  1.  1.  1.  1.]\n",
      " [ 0.  0.  0.  1.  1.  1.  1.  1.  1.  1.]\n",
      " [ 0.  0.  0.  1.  1.  1.  1.  2.  2.  2.]\n",
      " [ 0.  0.  0.  1.  2.  2.  2.  2.  2.  2.]\n",
      " [ 0.  0.  0.  1.  2.  2.  2.  3.  3.  3.]\n",
      " [ 0.  0.  0.  1.  2.  2.  3.  3.  3.  3.]\n",
      " [ 0.  0.  0.  1.  2.  3.  3.  3.  3.  4.]\n",
      " [ 0.  0.  0.  1.  2.  3.  3.  3.  3.  4.]\n",
      " [ 0.  0.  0.  1.  2.  3.  3.  3.  3.  4.]]\n"
     ]
    },
    {
     "data": {
      "text/plain": [
       "4"
      ]
     },
     "execution_count": 31,
     "metadata": {},
     "output_type": "execute_result"
    }
   ],
   "source": [
    "subSComuTaula('ABECEDARI', 'SUBCADENA')"
   ]
  },
  {
   "cell_type": "markdown",
   "metadata": {},
   "source": [
    "# Exercici 3 (4 punts)\n",
    "\n",
    "Proposar una solució al mateix exercici, basant-te en els resultats de la taula anterior, que optimitzi l'espai que ocupa la solució, és a dir, guardant només aquells valors imprescindibles per a la solució."
   ]
  },
  {
   "cell_type": "code",
   "execution_count": 44,
   "metadata": {
    "collapsed": true
   },
   "outputs": [],
   "source": [
    "import numpy as np\n",
    "\n",
    "def subSComuOpt(cadena1, cadena2):\n",
    "    \"\"\"\n",
    "    Enlloc d'obtindre tota la taula, només obtindrem la part que ens retorna la solució\n",
    "    :param les dues cadenes\n",
    "    :return el nombre més rellevant de la taula anterior\n",
    "    \"\"\"\n",
    "    \n",
    "    n=len(cadena1)+1    \n",
    "    m=len(cadena2)+1\n",
    "    taulaSolucions=np.zeros((n,m))\n",
    "\n",
    "    for i in range(1,n):\n",
    "        for j in range(1,m):\n",
    "            if cadena1[i-1]==cadena2[j-1]:\n",
    "                taulaSolucions[1][j]=taulaSolucions[0][j-1]+1\n",
    "            else:\n",
    "                taulaSolucions[1][j]=max(taulaSolucions[0][j],taulaSolucions[1][j-1])\n",
    "            for z in range(m):\n",
    "                taulaSolucions[0][j]=taulaSolucions[1][j]\n",
    "                longSubSequencia=taulaSolucions[1][m-1]\n",
    "    \n",
    "    \n",
    "    \n",
    "    \n",
    "    return (int(longSubSequencia))"
   ]
  },
  {
   "cell_type": "code",
   "execution_count": 45,
   "metadata": {},
   "outputs": [
    {
     "data": {
      "text/plain": [
       "4"
      ]
     },
     "execution_count": 45,
     "metadata": {},
     "output_type": "execute_result"
    }
   ],
   "source": [
    "subSComuOpt(\"ABECEDARI\",\"SUBCADENA\")"
   ]
  },
  {
   "cell_type": "code",
   "execution_count": null,
   "metadata": {
    "collapsed": true
   },
   "outputs": [],
   "source": []
  }
 ],
 "metadata": {
  "kernelspec": {
   "display_name": "Python 3",
   "language": "python",
   "name": "python3"
  },
  "language_info": {
   "codemirror_mode": {
    "name": "ipython",
    "version": 3
   },
   "file_extension": ".py",
   "mimetype": "text/x-python",
   "name": "python",
   "nbconvert_exporter": "python",
   "pygments_lexer": "ipython3",
   "version": "3.6.1"
  }
 },
 "nbformat": 4,
 "nbformat_minor": 1
}
