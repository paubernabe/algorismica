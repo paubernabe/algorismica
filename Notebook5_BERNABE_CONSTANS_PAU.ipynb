{
 "cells": [
  {
   "cell_type": "markdown",
   "metadata": {},
   "source": [
    "# Notebook 5: Optimització i dividir i vèncer"
   ]
  },
  {
   "cell_type": "markdown",
   "metadata": {},
   "source": [
    "<div class=\"alert alert-error\"><strong><center>Aquesta pràctica és avaluable.</center></strong> \n",
    "<p>L'has de lliurar amb UN ÚNIC FITXER (Notebook5.ipynb),amb el  Notebook COMPLETAT AMB EL CONJUNT DE FUNCIONS QUE S’HAN D'IMPLEMENTAR a les cel·les que s'indica, i l'execució dels tests inclosos en l'enunciat.</p> \n",
    "<p>ATENCIÓ: No es poden usar funcions de Python implementades en llibreries externes que resolguin el *quid* de l'exercici.</p></div>"
   ]
  },
  {
   "cell_type": "markdown",
   "metadata": {},
   "source": [
    "## Documentació de suport a la pràctica\n",
    "\n",
    "- [Recursió](.\\conceptes\\recursio.ipynb)\n"
   ]
  },
  {
   "cell_type": "markdown",
   "metadata": {},
   "source": [
    "Els objectius d'aquesta pràctica són:\n",
    "\n",
    "- Aplicar algorismes de dividir i vèncer\n",
    "- Treballar tècniques d'optimització"
   ]
  },
  {
   "cell_type": "markdown",
   "metadata": {},
   "source": [
    "## Exercici 1\n",
    "\n",
    "+ Direm que una paraula segueix un patró quan si alineem les lletres de les dues paraules una a una, a cada lletra de la paraula li correspon sempre la mateixa lletra del patró i viceversa.\n",
    "+ Per exemple mapa segueix el patró polo perquè a la m li correspon sempre p, a la a li correspon sempre o i a la p li correspon sempre l; i viceversa a la p li correspon sempre m, a la o sempre a, i  a la l sempre p.\n",
    "+ En canvi sisi no segueix el patró perquè a la s un cop li correspon p i un altre li correspon l\n",
    "+ i tampoc pipa no segueix el patró perquè a la o de polo un cop li correspon i, i un altre li correspon a\n",
    "\n",
    "Donada una llista de paraules i un patró, trobar totes les paraules de la llista que segueixen aquell patró. "
   ]
  },
  {
   "cell_type": "code",
   "execution_count": 126,
   "metadata": {
    "collapsed": true
   },
   "outputs": [],
   "source": [
    "def triaPatro(llista, patro):\n",
    "    \n",
    "    \n",
    "    \n",
    "    \"\"\"\n",
    "Donada una llista de paraules  i un patró,\n",
    "aquesta funció retorna totes les paraules que segueixen el patró.\n",
    ":param llista, una llista de paraules\n",
    ":param patro, una paraula que marca el patró per escollir les paraules\n",
    ":return llistaresultat, una llista amb les paraules escollides\n",
    "\"\"\"\n",
    "    llistaisomorfics=[]\n",
    "    \n",
    "    for k in llista:   #Si la llista no sobrepassa els 2 items, retornarà la mateixa llista\n",
    "        if len(llista)<2:\n",
    "            return llista\n",
    "    \n",
    "    for n in llista:\n",
    "        ism=True\n",
    "        dict1,dict2={},{}\n",
    "    \n",
    "        for i,j in zip(n,patro):                 #utilitzem zip per enllaçar lletra amb lletra de l'string\n",
    "            if i not in dict1 and j not in dict2:  \n",
    "                dict1[i]=j\n",
    "                dict2[j]=n    #afegim als diccionaris els elements que no hi estaven abans del bucle\n",
    "            else:\n",
    "                if not (dict1[i]==j and dict2[j]==i): ism=False  #Si ja hi són, comprovarem si algun valor de i == a algun valor \n",
    "                    #de j,si no ho és el bucle s'atura o torna a fer una iteració.\n",
    "        \n",
    "        if ism is True:       #si és així, si i==j, els afegirem dins de la llista d'isomorfismes.\n",
    "            llistaisomorfics.append(n)\n",
    "            \n",
    "    \n",
    "    \n",
    "    \n",
    "    return llistaisomorfics\n",
    "    \n",
    "    \n",
    "       \n",
    "            \n",
    "assert(triaPatro(['gag','sos','mim','gat','gos'], 'rap')==['gat','gos'])"
   ]
  },
  {
   "cell_type": "code",
   "execution_count": 127,
   "metadata": {},
   "outputs": [
    {
     "data": {
      "text/plain": [
       "['gat', 'gos']"
      ]
     },
     "execution_count": 127,
     "metadata": {},
     "output_type": "execute_result"
    }
   ],
   "source": [
    "triaPatro(['gag','sos','mim','gat','gos'], 'rap')"
   ]
  },
  {
   "cell_type": "markdown",
   "metadata": {},
   "source": [
    "#### Calcula la seva complexitat\n",
    "Aquest algorisme té un for anidat,per tant l'ordinador ha de fer 2 processos, això farà que tingui una complexitat de O(n^2).\n"
   ]
  },
  {
   "cell_type": "markdown",
   "metadata": {},
   "source": [
    "## Exercici 2\n",
    "\n",
    "+ Escriu una funció no recursiva anomenada xifresilletres tal que donada una llista amb cadenes formades per xifres i per lletres la funció retorni la mateixa llista amb les cadenes de xifres  al capdavant i les cadenes de lletres al darrera. "
   ]
  },
  {
   "cell_type": "markdown",
   "metadata": {},
   "source": [
    "### 2.1 \n",
    "Tenint en compte que les cadenes de text s'ordenen després de les de nombres, resol el problema per ordenació per selecció"
   ]
  },
  {
   "cell_type": "code",
   "execution_count": 1,
   "metadata": {
    "collapsed": true
   },
   "outputs": [],
   "source": [
    "def xifresilletresOrdSel(llista):\n",
    "    \"\"\"\n",
    "    Donada una llista, aquesta funció la retorna amb les xifres \n",
    "    al davant i les cadenes de lletres al darrera\n",
    "    :param llista: la llista original\n",
    "    :return llista: la llista reordenada\n",
    "    \"\"\"\n",
    "    for i in range(len(llista)):\n",
    "        \n",
    "        minim=min(llista[i:]) #Recorregut que veurem quin es el valor minim a cada bucle [ex: 234]\n",
    "        mindex=llista[i:].index(minim) #aquest nombre que haurem agafat, trobarem en quina posició està [posició 3]\n",
    "        \n",
    "        llista[i + mindex]=llista[i] #canviarem l'index [234 + pos 3=certa posició de la llista]\n",
    "        llista[i]=minim   #Ja detectat el min i indexat, es col·locarà a la llista en la seva posició corresponent. [234,..]\n",
    "            \n",
    "            \n",
    "                \n",
    "                \n",
    "    return llista\n",
    "\n",
    "assert(xifresilletresOrdSel([\"345\",\"A\",\"555\",\"234\",\"aaaaaa\",\"666\"])==['234', '345', '555', '666', 'A', 'aaaaaa'])\n"
   ]
  },
  {
   "cell_type": "code",
   "execution_count": 2,
   "metadata": {},
   "outputs": [
    {
     "data": {
      "text/plain": [
       "['234', '345', '555', '666', 'A', 'aaaaaa']"
      ]
     },
     "execution_count": 2,
     "metadata": {},
     "output_type": "execute_result"
    }
   ],
   "source": [
    "xifresilletresOrdSel([\"345\",\"A\",\"555\",\"234\",\"aaaaaa\",\"666\"])"
   ]
  },
  {
   "cell_type": "markdown",
   "metadata": {},
   "source": [
    "La seva complexitat és O=(n^2). Aquest ha de buscar el mínim element entre una posició i el final de la llista(O(N)), i a més, ha d'intercanviar el mínim per l'element de la posició(O(N)). TOTAL= O(N^2)\n"
   ]
  },
  {
   "cell_type": "markdown",
   "metadata": {},
   "source": [
    "### 2.2 \n",
    "Resol el problema inspirant-te en la versió lineal de l'algorisme quicksort. Fixa't que en aquest cas no ens cal una ordenació completa, només cal moure els elements que estan fora de lloc."
   ]
  },
  {
   "cell_type": "code",
   "execution_count": 330,
   "metadata": {
    "collapsed": true
   },
   "outputs": [],
   "source": [
    "def xifresilletres(llista):\n",
    "    \"\"\"\n",
    "    Donada una llista, aquesta funció la retorna amb les xifres \n",
    "    al davant i les cadenes de lletres al darrera\n",
    "    :param llista: la llista original\n",
    "    :return llista: la llista reordenada\n",
    "    \"\"\"\n",
    "    \n",
    "    men,ig,maj=[],[],[]     #creo noves llistes\n",
    "    \n",
    "    if len(llista)>1:\n",
    "        pivot=llista[0]      \n",
    "        for i in llista:    #en el bucle identifico com són els strings en relació al pivot\n",
    "            if pivot<i:\n",
    "                maj.append(i)   #i els col·loco a la llista corresponent si són menors, iguals o majors al pivot.\n",
    "            elif pivot>i:\n",
    "                men.append(i)\n",
    "            elif pivot==i:\n",
    "                ig.append(i)\n",
    "            llista=xifresilletres(men)+ig+xifresilletres(maj)   #sumo les 3 llistes en ordre segons menor,igual o major i obtinc la llista ordenada.\n",
    "    return llista\n",
    "\n",
    "\n",
    "\n",
    "assert(xifresilletres([\"345\",\"abc\",\"234\",\"HHH\",\"789\"])==['234','345', '789', 'HHH', 'abc'])"
   ]
  },
  {
   "cell_type": "code",
   "execution_count": 331,
   "metadata": {},
   "outputs": [
    {
     "data": {
      "text/plain": [
       "['234', '345', '789', 'HHH', 'abc']"
      ]
     },
     "execution_count": 331,
     "metadata": {},
     "output_type": "execute_result"
    }
   ],
   "source": [
    "xifresilletres([\"345\",\"abc\",\"234\",\"HHH\",\"789\"])"
   ]
  },
  {
   "cell_type": "markdown",
   "metadata": {},
   "source": [
    "#### Calcula la seva complexitat\n",
    "La seva complexitat és O(nlogn) de mitjana, l'optimització sempre és major quan el pivot és situa al mig, evoltat de dues llistes. "
   ]
  },
  {
   "cell_type": "markdown",
   "metadata": {},
   "source": [
    "## Exercici 3\n",
    "\n",
    "+ Escriu un algorisme de dividir i conquerir, en la seva versió recursiva, karatsuba, que calculi la multiplicació pel mètode de Karatsuba (https://es.wikipedia.org/wiki/Algoritmo_de_Karatsuba). Calcula'n la complexitat. En què es basa aquest algorisme per dividir cada nombre en dos termes?"
   ]
  },
  {
   "cell_type": "code",
   "execution_count": 142,
   "metadata": {
    "collapsed": true
   },
   "outputs": [],
   "source": [
    "def karatsuba(x,y):\n",
    "    \"\"\"\n",
    "    Aquesta funció realitza la multiplicació de x,y de karatsuba en base 10\n",
    "    :param x,y nombres a multiplicar\n",
    "    :return el seu producte\n",
    "    \"\"\"\n",
    "    if len(str(x)) <2 or len(str(y)) <2:\n",
    "        prod=x*y\n",
    "        return prod          #Si el num té 1 o 0 xifres, fem una multiplicació convencional\n",
    "    \n",
    "    else:\n",
    "        long=max(len(str(x)),len(str(y)))    \n",
    "        l=(long//2) #partim en dos la màxima longitud d'un dels nombres: 4578=long 4---> l=2\n",
    "        \n",
    "        x1= x//10**(l)    #partim sense residu el nombre x entre potència de 10 elevat a l\n",
    "        y1=y//10**(l)\n",
    "        \n",
    "        x0=x%10**(l)        #fem el mòdul de x i potència de 10 elevat a l\n",
    "        y0=y%10**(l)\n",
    "        \n",
    "        z2=karatsuba(x1,y1)           #fem la recursió amb els elements necessaris, indicats per la formula(Wikipedia)\n",
    "        z0=karatsuba(x0,y0)              #z2=x1*y1...z0=x0*y0..\n",
    "        z1=karatsuba((x1+x0),(y1+y0))\n",
    "        \n",
    "        \n",
    "        prod=((z2*10**(2*l))+(z1-z2-z0)*10**(l))+(z0)  #utilitzem la formula \n",
    "        \n",
    "        return prod\n",
    "        \n",
    "\n",
    "assert(karatsuba(123,4578)==563094)"
   ]
  },
  {
   "cell_type": "code",
   "execution_count": 101,
   "metadata": {},
   "outputs": [
    {
     "data": {
      "text/plain": [
       "563094"
      ]
     },
     "execution_count": 101,
     "metadata": {},
     "output_type": "execute_result"
    }
   ],
   "source": [
    "karatsuba(123,4578)"
   ]
  },
  {
   "cell_type": "markdown",
   "metadata": {},
   "source": [
    "#### Calcula la seva complexitat\n",
    "El seu cost és O(n^\\log(base 2)^3),és bastant menor a O(n^2) ja que al dividir els nombres, sorgeixen operacions no tant cares per a executar."
   ]
  },
  {
   "cell_type": "markdown",
   "metadata": {},
   "source": [
    "## Exercici 4: Patró binari"
   ]
  },
  {
   "cell_type": "markdown",
   "metadata": {},
   "source": [
    "Donat un patró binari amb alguns dígits com ?, trobeu totes les possibles combinacions de nombres binaris que es poden obtenir reemplaçant el ? amb 0 o 1."
   ]
  },
  {
   "cell_type": "code",
   "execution_count": 9,
   "metadata": {
    "collapsed": true
   },
   "outputs": [],
   "source": [
    "def patroBinari(patro):\n",
    "    \n",
    "\n",
    "    patroBinariRec(patro,0)\n",
    "\n",
    "def patroBinariRec(patro, posicio):\n",
    "    \"\"\"\n",
    "    Aquesta funció genera totes les combinacions de nombres binaris a partir del\n",
    "    patró donat reemplaçant el ? amb 0 i 1\n",
    "    :param patro el nombre binari original amb algunes posicions amb ?\n",
    "    :return no retorna res, mostra per pantalla les combinacions generades\n",
    "    \"\"\"\n",
    "    for i in range(len(patro)):\n",
    "        if patro[i]=='?':\n",
    "            i.replace('?','0')\n",
    "            print(patro)\n",
    "    for j in patro:\n",
    "        if j=='?':\n",
    "            j.replace('?','0')\n",
    "            print(patro)\n",
    "            \n",
    "    \n",
    "        \n",
    "    \n",
    "    \n",
    "    \n",
    "\n",
    "    \n",
    "    \n",
    "    \n",
    "    \n",
    "    \n",
    "    \n",
    "    \n",
    "    "
   ]
  },
  {
   "cell_type": "code",
   "execution_count": 10,
   "metadata": {},
   "outputs": [
    {
     "ename": "TypeError",
     "evalue": "'list' object cannot be interpreted as an integer",
     "output_type": "error",
     "traceback": [
      "\u001b[1;31m---------------------------------------------------------------------------\u001b[0m",
      "\u001b[1;31mTypeError\u001b[0m                                 Traceback (most recent call last)",
      "\u001b[1;32m<ipython-input-10-2532292ad5eb>\u001b[0m in \u001b[0;36m<module>\u001b[1;34m()\u001b[0m\n\u001b[1;32m----> 1\u001b[1;33m \u001b[0mpatroBinari\u001b[0m\u001b[1;33m(\u001b[0m\u001b[1;33m[\u001b[0m\u001b[1;34m'1'\u001b[0m\u001b[1;33m,\u001b[0m\u001b[1;34m'?'\u001b[0m\u001b[1;33m,\u001b[0m\u001b[1;34m'1'\u001b[0m\u001b[1;33m,\u001b[0m\u001b[1;34m'?'\u001b[0m\u001b[1;33m,\u001b[0m\u001b[1;34m'?'\u001b[0m\u001b[1;33m]\u001b[0m\u001b[1;33m)\u001b[0m\u001b[1;33m\u001b[0m\u001b[0m\n\u001b[0m",
      "\u001b[1;32m<ipython-input-9-2028eaf281fe>\u001b[0m in \u001b[0;36mpatroBinari\u001b[1;34m(patro)\u001b[0m\n\u001b[0;32m      2\u001b[0m \u001b[1;33m\u001b[0m\u001b[0m\n\u001b[0;32m      3\u001b[0m \u001b[1;33m\u001b[0m\u001b[0m\n\u001b[1;32m----> 4\u001b[1;33m     \u001b[0mpatroBinariRec\u001b[0m\u001b[1;33m(\u001b[0m\u001b[0mpatro\u001b[0m\u001b[1;33m,\u001b[0m\u001b[1;36m0\u001b[0m\u001b[1;33m)\u001b[0m\u001b[1;33m\u001b[0m\u001b[0m\n\u001b[0m\u001b[0;32m      5\u001b[0m \u001b[1;33m\u001b[0m\u001b[0m\n\u001b[0;32m      6\u001b[0m \u001b[1;32mdef\u001b[0m \u001b[0mpatroBinariRec\u001b[0m\u001b[1;33m(\u001b[0m\u001b[0mpatro\u001b[0m\u001b[1;33m,\u001b[0m \u001b[0mposicio\u001b[0m\u001b[1;33m)\u001b[0m\u001b[1;33m:\u001b[0m\u001b[1;33m\u001b[0m\u001b[0m\n",
      "\u001b[1;32m<ipython-input-9-2028eaf281fe>\u001b[0m in \u001b[0;36mpatroBinariRec\u001b[1;34m(patro, posicio)\u001b[0m\n\u001b[0;32m     11\u001b[0m     \u001b[1;33m:\u001b[0m\u001b[1;32mreturn\u001b[0m \u001b[0mno\u001b[0m \u001b[0mretorna\u001b[0m \u001b[0mres\u001b[0m\u001b[1;33m,\u001b[0m \u001b[0mmostra\u001b[0m \u001b[0mper\u001b[0m \u001b[0mpantalla\u001b[0m \u001b[0mles\u001b[0m \u001b[0mcombinacions\u001b[0m \u001b[0mgenerades\u001b[0m\u001b[1;33m\u001b[0m\u001b[0m\n\u001b[0;32m     12\u001b[0m     \"\"\"\n\u001b[1;32m---> 13\u001b[1;33m     \u001b[1;32mfor\u001b[0m \u001b[0mi\u001b[0m \u001b[1;32min\u001b[0m \u001b[0mrange\u001b[0m\u001b[1;33m(\u001b[0m\u001b[0mpatro\u001b[0m\u001b[1;33m)\u001b[0m\u001b[1;33m:\u001b[0m\u001b[1;33m\u001b[0m\u001b[0m\n\u001b[0m\u001b[0;32m     14\u001b[0m         \u001b[1;32mif\u001b[0m \u001b[0mpatro\u001b[0m\u001b[1;33m[\u001b[0m\u001b[0mi\u001b[0m\u001b[1;33m]\u001b[0m\u001b[1;33m==\u001b[0m\u001b[1;34m'?'\u001b[0m\u001b[1;33m:\u001b[0m\u001b[1;33m\u001b[0m\u001b[0m\n\u001b[0;32m     15\u001b[0m             \u001b[0mi\u001b[0m\u001b[1;33m.\u001b[0m\u001b[0mreplace\u001b[0m\u001b[1;33m(\u001b[0m\u001b[1;36m0\u001b[0m\u001b[1;33m,\u001b[0m\u001b[0mi\u001b[0m\u001b[1;33m)\u001b[0m\u001b[1;33m\u001b[0m\u001b[0m\n",
      "\u001b[1;31mTypeError\u001b[0m: 'list' object cannot be interpreted as an integer"
     ]
    }
   ],
   "source": [
    "patroBinari(['1','?','1','?','?'])"
   ]
  },
  {
   "cell_type": "code",
   "execution_count": null,
   "metadata": {
    "collapsed": true
   },
   "outputs": [],
   "source": []
  }
 ],
 "metadata": {
  "kernelspec": {
   "display_name": "Python 3",
   "language": "python",
   "name": "python3"
  },
  "language_info": {
   "codemirror_mode": {
    "name": "ipython",
    "version": 3
   },
   "file_extension": ".py",
   "mimetype": "text/x-python",
   "name": "python",
   "nbconvert_exporter": "python",
   "pygments_lexer": "ipython3",
   "version": "3.6.1"
  }
 },
 "nbformat": 4,
 "nbformat_minor": 1
}
